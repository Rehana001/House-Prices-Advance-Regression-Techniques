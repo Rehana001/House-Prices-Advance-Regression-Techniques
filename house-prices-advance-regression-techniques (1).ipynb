{
 "cells": [
  {
   "cell_type": "code",
   "execution_count": 1,
   "id": "75f887d6",
   "metadata": {
    "_cell_guid": "b1076dfc-b9ad-4769-8c92-a6c4dae69d19",
    "_uuid": "8f2839f25d086af736a60e9eeb907d3b93b6e0e5",
    "execution": {
     "iopub.execute_input": "2021-09-11T12:48:21.109637Z",
     "iopub.status.busy": "2021-09-11T12:48:21.108780Z",
     "iopub.status.idle": "2021-09-11T12:48:21.113804Z",
     "shell.execute_reply": "2021-09-11T12:48:21.114316Z",
     "shell.execute_reply.started": "2021-09-11T12:26:23.619692Z"
    },
    "papermill": {
     "duration": 0.088471,
     "end_time": "2021-09-11T12:48:21.114628",
     "exception": false,
     "start_time": "2021-09-11T12:48:21.026157",
     "status": "completed"
    },
    "tags": []
   },
   "outputs": [
    {
     "name": "stdout",
     "output_type": "stream",
     "text": [
      "/kaggle/input/house-prices-advanced-regression-techniques/sample_submission.csv\n",
      "/kaggle/input/house-prices-advanced-regression-techniques/data_description.txt\n",
      "/kaggle/input/house-prices-advanced-regression-techniques/train.csv\n",
      "/kaggle/input/house-prices-advanced-regression-techniques/test.csv\n"
     ]
    }
   ],
   "source": [
    "# This Python 3 environment comes with many helpful analytics libraries installed\n",
    "# It is defined by the kaggle/python Docker image: https://github.com/kaggle/docker-python\n",
    "# For example, here's several helpful packages to load\n",
    "\n",
    "import numpy as np # linear algebra\n",
    "import pandas as pd # data processing, CSV file I/O (e.g. pd.read_csv)\n",
    "\n",
    "# Input data files are available in the read-only \"../input/\" directory\n",
    "# For example, running this (by clicking run or pressing Shift+Enter) will list all files under the input directory\n",
    "\n",
    "import os\n",
    "for dirname, _, filenames in os.walk('/kaggle/input'):\n",
    "    for filename in filenames:\n",
    "        print(os.path.join(dirname, filename))\n",
    "\n",
    "# You can write up to 20GB to the current directory (/kaggle/working/) that gets preserved as output when you create a version using \"Save & Run All\" \n",
    "# You can also write temporary files to /kaggle/temp/, but they won't be saved outside of the current session"
   ]
  },
  {
   "cell_type": "markdown",
   "id": "5e84f937",
   "metadata": {
    "papermill": {
     "duration": 0.065798,
     "end_time": "2021-09-11T12:48:21.247545",
     "exception": false,
     "start_time": "2021-09-11T12:48:21.181747",
     "status": "completed"
    },
    "tags": []
   },
   "source": [
    "importing libraries "
   ]
  },
  {
   "cell_type": "code",
   "execution_count": 2,
   "id": "12fe86fc",
   "metadata": {
    "execution": {
     "iopub.execute_input": "2021-09-11T12:48:21.385184Z",
     "iopub.status.busy": "2021-09-11T12:48:21.384213Z",
     "iopub.status.idle": "2021-09-11T12:48:22.656441Z",
     "shell.execute_reply": "2021-09-11T12:48:22.655822Z",
     "shell.execute_reply.started": "2021-09-11T12:26:23.641077Z"
    },
    "papermill": {
     "duration": 1.342316,
     "end_time": "2021-09-11T12:48:22.656611",
     "exception": false,
     "start_time": "2021-09-11T12:48:21.314295",
     "status": "completed"
    },
    "tags": []
   },
   "outputs": [],
   "source": [
    "%matplotlib inline\n",
    "#libraries for mathematical computation \n",
    "import pandas as pd \n",
    "import numpy as np \n",
    "#libraries for data training and cleaning and modeling\n",
    "from sklearn.ensemble import RandomForestRegressor \n",
    "from sklearn.linear_model import LinearRegression \n",
    "from sklearn.linear_model import Lasso\n",
    "from sklearn.model_selection import train_test_split\n",
    "from sklearn.linear_model import Ridge\n",
    "from sklearn.tree import DecisionTreeRegressor\n",
    "from sklearn.linear_model import ElasticNet\n",
    "from sklearn.linear_model import BayesianRidge\n",
    "#libraries for data visualization \n",
    "import matplotlib.pyplot as plt \n",
    "import seaborn as sns \n",
    "from matplotlib.pyplot import figure \n"
   ]
  },
  {
   "cell_type": "code",
   "execution_count": 3,
   "id": "5f3dfbf9",
   "metadata": {
    "execution": {
     "iopub.execute_input": "2021-09-11T12:48:22.795721Z",
     "iopub.status.busy": "2021-09-11T12:48:22.794951Z",
     "iopub.status.idle": "2021-09-11T12:48:22.879931Z",
     "shell.execute_reply": "2021-09-11T12:48:22.879337Z",
     "shell.execute_reply.started": "2021-09-11T12:26:24.240449Z"
    },
    "papermill": {
     "duration": 0.156591,
     "end_time": "2021-09-11T12:48:22.880080",
     "exception": false,
     "start_time": "2021-09-11T12:48:22.723489",
     "status": "completed"
    },
    "tags": []
   },
   "outputs": [
    {
     "data": {
      "text/html": [
       "<div>\n",
       "<style scoped>\n",
       "    .dataframe tbody tr th:only-of-type {\n",
       "        vertical-align: middle;\n",
       "    }\n",
       "\n",
       "    .dataframe tbody tr th {\n",
       "        vertical-align: top;\n",
       "    }\n",
       "\n",
       "    .dataframe thead th {\n",
       "        text-align: right;\n",
       "    }\n",
       "</style>\n",
       "<table border=\"1\" class=\"dataframe\">\n",
       "  <thead>\n",
       "    <tr style=\"text-align: right;\">\n",
       "      <th></th>\n",
       "      <th>Id</th>\n",
       "      <th>MSSubClass</th>\n",
       "      <th>MSZoning</th>\n",
       "      <th>LotFrontage</th>\n",
       "      <th>LotArea</th>\n",
       "      <th>Street</th>\n",
       "      <th>Alley</th>\n",
       "      <th>LotShape</th>\n",
       "      <th>LandContour</th>\n",
       "      <th>Utilities</th>\n",
       "      <th>...</th>\n",
       "      <th>PoolArea</th>\n",
       "      <th>PoolQC</th>\n",
       "      <th>Fence</th>\n",
       "      <th>MiscFeature</th>\n",
       "      <th>MiscVal</th>\n",
       "      <th>MoSold</th>\n",
       "      <th>YrSold</th>\n",
       "      <th>SaleType</th>\n",
       "      <th>SaleCondition</th>\n",
       "      <th>SalePrice</th>\n",
       "    </tr>\n",
       "  </thead>\n",
       "  <tbody>\n",
       "    <tr>\n",
       "      <th>0</th>\n",
       "      <td>1</td>\n",
       "      <td>60</td>\n",
       "      <td>RL</td>\n",
       "      <td>65.0</td>\n",
       "      <td>8450</td>\n",
       "      <td>Pave</td>\n",
       "      <td>NaN</td>\n",
       "      <td>Reg</td>\n",
       "      <td>Lvl</td>\n",
       "      <td>AllPub</td>\n",
       "      <td>...</td>\n",
       "      <td>0</td>\n",
       "      <td>NaN</td>\n",
       "      <td>NaN</td>\n",
       "      <td>NaN</td>\n",
       "      <td>0</td>\n",
       "      <td>2</td>\n",
       "      <td>2008</td>\n",
       "      <td>WD</td>\n",
       "      <td>Normal</td>\n",
       "      <td>208500</td>\n",
       "    </tr>\n",
       "    <tr>\n",
       "      <th>1</th>\n",
       "      <td>2</td>\n",
       "      <td>20</td>\n",
       "      <td>RL</td>\n",
       "      <td>80.0</td>\n",
       "      <td>9600</td>\n",
       "      <td>Pave</td>\n",
       "      <td>NaN</td>\n",
       "      <td>Reg</td>\n",
       "      <td>Lvl</td>\n",
       "      <td>AllPub</td>\n",
       "      <td>...</td>\n",
       "      <td>0</td>\n",
       "      <td>NaN</td>\n",
       "      <td>NaN</td>\n",
       "      <td>NaN</td>\n",
       "      <td>0</td>\n",
       "      <td>5</td>\n",
       "      <td>2007</td>\n",
       "      <td>WD</td>\n",
       "      <td>Normal</td>\n",
       "      <td>181500</td>\n",
       "    </tr>\n",
       "    <tr>\n",
       "      <th>2</th>\n",
       "      <td>3</td>\n",
       "      <td>60</td>\n",
       "      <td>RL</td>\n",
       "      <td>68.0</td>\n",
       "      <td>11250</td>\n",
       "      <td>Pave</td>\n",
       "      <td>NaN</td>\n",
       "      <td>IR1</td>\n",
       "      <td>Lvl</td>\n",
       "      <td>AllPub</td>\n",
       "      <td>...</td>\n",
       "      <td>0</td>\n",
       "      <td>NaN</td>\n",
       "      <td>NaN</td>\n",
       "      <td>NaN</td>\n",
       "      <td>0</td>\n",
       "      <td>9</td>\n",
       "      <td>2008</td>\n",
       "      <td>WD</td>\n",
       "      <td>Normal</td>\n",
       "      <td>223500</td>\n",
       "    </tr>\n",
       "    <tr>\n",
       "      <th>3</th>\n",
       "      <td>4</td>\n",
       "      <td>70</td>\n",
       "      <td>RL</td>\n",
       "      <td>60.0</td>\n",
       "      <td>9550</td>\n",
       "      <td>Pave</td>\n",
       "      <td>NaN</td>\n",
       "      <td>IR1</td>\n",
       "      <td>Lvl</td>\n",
       "      <td>AllPub</td>\n",
       "      <td>...</td>\n",
       "      <td>0</td>\n",
       "      <td>NaN</td>\n",
       "      <td>NaN</td>\n",
       "      <td>NaN</td>\n",
       "      <td>0</td>\n",
       "      <td>2</td>\n",
       "      <td>2006</td>\n",
       "      <td>WD</td>\n",
       "      <td>Abnorml</td>\n",
       "      <td>140000</td>\n",
       "    </tr>\n",
       "    <tr>\n",
       "      <th>4</th>\n",
       "      <td>5</td>\n",
       "      <td>60</td>\n",
       "      <td>RL</td>\n",
       "      <td>84.0</td>\n",
       "      <td>14260</td>\n",
       "      <td>Pave</td>\n",
       "      <td>NaN</td>\n",
       "      <td>IR1</td>\n",
       "      <td>Lvl</td>\n",
       "      <td>AllPub</td>\n",
       "      <td>...</td>\n",
       "      <td>0</td>\n",
       "      <td>NaN</td>\n",
       "      <td>NaN</td>\n",
       "      <td>NaN</td>\n",
       "      <td>0</td>\n",
       "      <td>12</td>\n",
       "      <td>2008</td>\n",
       "      <td>WD</td>\n",
       "      <td>Normal</td>\n",
       "      <td>250000</td>\n",
       "    </tr>\n",
       "    <tr>\n",
       "      <th>5</th>\n",
       "      <td>6</td>\n",
       "      <td>50</td>\n",
       "      <td>RL</td>\n",
       "      <td>85.0</td>\n",
       "      <td>14115</td>\n",
       "      <td>Pave</td>\n",
       "      <td>NaN</td>\n",
       "      <td>IR1</td>\n",
       "      <td>Lvl</td>\n",
       "      <td>AllPub</td>\n",
       "      <td>...</td>\n",
       "      <td>0</td>\n",
       "      <td>NaN</td>\n",
       "      <td>MnPrv</td>\n",
       "      <td>Shed</td>\n",
       "      <td>700</td>\n",
       "      <td>10</td>\n",
       "      <td>2009</td>\n",
       "      <td>WD</td>\n",
       "      <td>Normal</td>\n",
       "      <td>143000</td>\n",
       "    </tr>\n",
       "    <tr>\n",
       "      <th>6</th>\n",
       "      <td>7</td>\n",
       "      <td>20</td>\n",
       "      <td>RL</td>\n",
       "      <td>75.0</td>\n",
       "      <td>10084</td>\n",
       "      <td>Pave</td>\n",
       "      <td>NaN</td>\n",
       "      <td>Reg</td>\n",
       "      <td>Lvl</td>\n",
       "      <td>AllPub</td>\n",
       "      <td>...</td>\n",
       "      <td>0</td>\n",
       "      <td>NaN</td>\n",
       "      <td>NaN</td>\n",
       "      <td>NaN</td>\n",
       "      <td>0</td>\n",
       "      <td>8</td>\n",
       "      <td>2007</td>\n",
       "      <td>WD</td>\n",
       "      <td>Normal</td>\n",
       "      <td>307000</td>\n",
       "    </tr>\n",
       "    <tr>\n",
       "      <th>7</th>\n",
       "      <td>8</td>\n",
       "      <td>60</td>\n",
       "      <td>RL</td>\n",
       "      <td>NaN</td>\n",
       "      <td>10382</td>\n",
       "      <td>Pave</td>\n",
       "      <td>NaN</td>\n",
       "      <td>IR1</td>\n",
       "      <td>Lvl</td>\n",
       "      <td>AllPub</td>\n",
       "      <td>...</td>\n",
       "      <td>0</td>\n",
       "      <td>NaN</td>\n",
       "      <td>NaN</td>\n",
       "      <td>Shed</td>\n",
       "      <td>350</td>\n",
       "      <td>11</td>\n",
       "      <td>2009</td>\n",
       "      <td>WD</td>\n",
       "      <td>Normal</td>\n",
       "      <td>200000</td>\n",
       "    </tr>\n",
       "    <tr>\n",
       "      <th>8</th>\n",
       "      <td>9</td>\n",
       "      <td>50</td>\n",
       "      <td>RM</td>\n",
       "      <td>51.0</td>\n",
       "      <td>6120</td>\n",
       "      <td>Pave</td>\n",
       "      <td>NaN</td>\n",
       "      <td>Reg</td>\n",
       "      <td>Lvl</td>\n",
       "      <td>AllPub</td>\n",
       "      <td>...</td>\n",
       "      <td>0</td>\n",
       "      <td>NaN</td>\n",
       "      <td>NaN</td>\n",
       "      <td>NaN</td>\n",
       "      <td>0</td>\n",
       "      <td>4</td>\n",
       "      <td>2008</td>\n",
       "      <td>WD</td>\n",
       "      <td>Abnorml</td>\n",
       "      <td>129900</td>\n",
       "    </tr>\n",
       "    <tr>\n",
       "      <th>9</th>\n",
       "      <td>10</td>\n",
       "      <td>190</td>\n",
       "      <td>RL</td>\n",
       "      <td>50.0</td>\n",
       "      <td>7420</td>\n",
       "      <td>Pave</td>\n",
       "      <td>NaN</td>\n",
       "      <td>Reg</td>\n",
       "      <td>Lvl</td>\n",
       "      <td>AllPub</td>\n",
       "      <td>...</td>\n",
       "      <td>0</td>\n",
       "      <td>NaN</td>\n",
       "      <td>NaN</td>\n",
       "      <td>NaN</td>\n",
       "      <td>0</td>\n",
       "      <td>1</td>\n",
       "      <td>2008</td>\n",
       "      <td>WD</td>\n",
       "      <td>Normal</td>\n",
       "      <td>118000</td>\n",
       "    </tr>\n",
       "  </tbody>\n",
       "</table>\n",
       "<p>10 rows × 81 columns</p>\n",
       "</div>"
      ],
      "text/plain": [
       "   Id  MSSubClass MSZoning  LotFrontage  LotArea Street Alley LotShape  \\\n",
       "0   1          60       RL         65.0     8450   Pave   NaN      Reg   \n",
       "1   2          20       RL         80.0     9600   Pave   NaN      Reg   \n",
       "2   3          60       RL         68.0    11250   Pave   NaN      IR1   \n",
       "3   4          70       RL         60.0     9550   Pave   NaN      IR1   \n",
       "4   5          60       RL         84.0    14260   Pave   NaN      IR1   \n",
       "5   6          50       RL         85.0    14115   Pave   NaN      IR1   \n",
       "6   7          20       RL         75.0    10084   Pave   NaN      Reg   \n",
       "7   8          60       RL          NaN    10382   Pave   NaN      IR1   \n",
       "8   9          50       RM         51.0     6120   Pave   NaN      Reg   \n",
       "9  10         190       RL         50.0     7420   Pave   NaN      Reg   \n",
       "\n",
       "  LandContour Utilities  ... PoolArea PoolQC  Fence MiscFeature MiscVal  \\\n",
       "0         Lvl    AllPub  ...        0    NaN    NaN         NaN       0   \n",
       "1         Lvl    AllPub  ...        0    NaN    NaN         NaN       0   \n",
       "2         Lvl    AllPub  ...        0    NaN    NaN         NaN       0   \n",
       "3         Lvl    AllPub  ...        0    NaN    NaN         NaN       0   \n",
       "4         Lvl    AllPub  ...        0    NaN    NaN         NaN       0   \n",
       "5         Lvl    AllPub  ...        0    NaN  MnPrv        Shed     700   \n",
       "6         Lvl    AllPub  ...        0    NaN    NaN         NaN       0   \n",
       "7         Lvl    AllPub  ...        0    NaN    NaN        Shed     350   \n",
       "8         Lvl    AllPub  ...        0    NaN    NaN         NaN       0   \n",
       "9         Lvl    AllPub  ...        0    NaN    NaN         NaN       0   \n",
       "\n",
       "  MoSold YrSold  SaleType  SaleCondition  SalePrice  \n",
       "0      2   2008        WD         Normal     208500  \n",
       "1      5   2007        WD         Normal     181500  \n",
       "2      9   2008        WD         Normal     223500  \n",
       "3      2   2006        WD        Abnorml     140000  \n",
       "4     12   2008        WD         Normal     250000  \n",
       "5     10   2009        WD         Normal     143000  \n",
       "6      8   2007        WD         Normal     307000  \n",
       "7     11   2009        WD         Normal     200000  \n",
       "8      4   2008        WD        Abnorml     129900  \n",
       "9      1   2008        WD         Normal     118000  \n",
       "\n",
       "[10 rows x 81 columns]"
      ]
     },
     "execution_count": 3,
     "metadata": {},
     "output_type": "execute_result"
    }
   ],
   "source": [
    "train_data= pd.read_csv('../input/house-prices-advanced-regression-techniques/train.csv')\n",
    "train_data.head(10)"
   ]
  },
  {
   "cell_type": "code",
   "execution_count": 4,
   "id": "eb6d664f",
   "metadata": {
    "execution": {
     "iopub.execute_input": "2021-09-11T12:48:23.021237Z",
     "iopub.status.busy": "2021-09-11T12:48:23.020318Z",
     "iopub.status.idle": "2021-09-11T12:48:23.085228Z",
     "shell.execute_reply": "2021-09-11T12:48:23.085712Z",
     "shell.execute_reply.started": "2021-09-11T12:26:24.310465Z"
    },
    "papermill": {
     "duration": 0.137795,
     "end_time": "2021-09-11T12:48:23.085927",
     "exception": false,
     "start_time": "2021-09-11T12:48:22.948132",
     "status": "completed"
    },
    "tags": []
   },
   "outputs": [
    {
     "data": {
      "text/html": [
       "<div>\n",
       "<style scoped>\n",
       "    .dataframe tbody tr th:only-of-type {\n",
       "        vertical-align: middle;\n",
       "    }\n",
       "\n",
       "    .dataframe tbody tr th {\n",
       "        vertical-align: top;\n",
       "    }\n",
       "\n",
       "    .dataframe thead th {\n",
       "        text-align: right;\n",
       "    }\n",
       "</style>\n",
       "<table border=\"1\" class=\"dataframe\">\n",
       "  <thead>\n",
       "    <tr style=\"text-align: right;\">\n",
       "      <th></th>\n",
       "      <th>Id</th>\n",
       "      <th>MSSubClass</th>\n",
       "      <th>MSZoning</th>\n",
       "      <th>LotFrontage</th>\n",
       "      <th>LotArea</th>\n",
       "      <th>Street</th>\n",
       "      <th>Alley</th>\n",
       "      <th>LotShape</th>\n",
       "      <th>LandContour</th>\n",
       "      <th>Utilities</th>\n",
       "      <th>...</th>\n",
       "      <th>ScreenPorch</th>\n",
       "      <th>PoolArea</th>\n",
       "      <th>PoolQC</th>\n",
       "      <th>Fence</th>\n",
       "      <th>MiscFeature</th>\n",
       "      <th>MiscVal</th>\n",
       "      <th>MoSold</th>\n",
       "      <th>YrSold</th>\n",
       "      <th>SaleType</th>\n",
       "      <th>SaleCondition</th>\n",
       "    </tr>\n",
       "  </thead>\n",
       "  <tbody>\n",
       "    <tr>\n",
       "      <th>0</th>\n",
       "      <td>1461</td>\n",
       "      <td>20</td>\n",
       "      <td>RH</td>\n",
       "      <td>80.0</td>\n",
       "      <td>11622</td>\n",
       "      <td>Pave</td>\n",
       "      <td>NaN</td>\n",
       "      <td>Reg</td>\n",
       "      <td>Lvl</td>\n",
       "      <td>AllPub</td>\n",
       "      <td>...</td>\n",
       "      <td>120</td>\n",
       "      <td>0</td>\n",
       "      <td>NaN</td>\n",
       "      <td>MnPrv</td>\n",
       "      <td>NaN</td>\n",
       "      <td>0</td>\n",
       "      <td>6</td>\n",
       "      <td>2010</td>\n",
       "      <td>WD</td>\n",
       "      <td>Normal</td>\n",
       "    </tr>\n",
       "    <tr>\n",
       "      <th>1</th>\n",
       "      <td>1462</td>\n",
       "      <td>20</td>\n",
       "      <td>RL</td>\n",
       "      <td>81.0</td>\n",
       "      <td>14267</td>\n",
       "      <td>Pave</td>\n",
       "      <td>NaN</td>\n",
       "      <td>IR1</td>\n",
       "      <td>Lvl</td>\n",
       "      <td>AllPub</td>\n",
       "      <td>...</td>\n",
       "      <td>0</td>\n",
       "      <td>0</td>\n",
       "      <td>NaN</td>\n",
       "      <td>NaN</td>\n",
       "      <td>Gar2</td>\n",
       "      <td>12500</td>\n",
       "      <td>6</td>\n",
       "      <td>2010</td>\n",
       "      <td>WD</td>\n",
       "      <td>Normal</td>\n",
       "    </tr>\n",
       "    <tr>\n",
       "      <th>2</th>\n",
       "      <td>1463</td>\n",
       "      <td>60</td>\n",
       "      <td>RL</td>\n",
       "      <td>74.0</td>\n",
       "      <td>13830</td>\n",
       "      <td>Pave</td>\n",
       "      <td>NaN</td>\n",
       "      <td>IR1</td>\n",
       "      <td>Lvl</td>\n",
       "      <td>AllPub</td>\n",
       "      <td>...</td>\n",
       "      <td>0</td>\n",
       "      <td>0</td>\n",
       "      <td>NaN</td>\n",
       "      <td>MnPrv</td>\n",
       "      <td>NaN</td>\n",
       "      <td>0</td>\n",
       "      <td>3</td>\n",
       "      <td>2010</td>\n",
       "      <td>WD</td>\n",
       "      <td>Normal</td>\n",
       "    </tr>\n",
       "    <tr>\n",
       "      <th>3</th>\n",
       "      <td>1464</td>\n",
       "      <td>60</td>\n",
       "      <td>RL</td>\n",
       "      <td>78.0</td>\n",
       "      <td>9978</td>\n",
       "      <td>Pave</td>\n",
       "      <td>NaN</td>\n",
       "      <td>IR1</td>\n",
       "      <td>Lvl</td>\n",
       "      <td>AllPub</td>\n",
       "      <td>...</td>\n",
       "      <td>0</td>\n",
       "      <td>0</td>\n",
       "      <td>NaN</td>\n",
       "      <td>NaN</td>\n",
       "      <td>NaN</td>\n",
       "      <td>0</td>\n",
       "      <td>6</td>\n",
       "      <td>2010</td>\n",
       "      <td>WD</td>\n",
       "      <td>Normal</td>\n",
       "    </tr>\n",
       "    <tr>\n",
       "      <th>4</th>\n",
       "      <td>1465</td>\n",
       "      <td>120</td>\n",
       "      <td>RL</td>\n",
       "      <td>43.0</td>\n",
       "      <td>5005</td>\n",
       "      <td>Pave</td>\n",
       "      <td>NaN</td>\n",
       "      <td>IR1</td>\n",
       "      <td>HLS</td>\n",
       "      <td>AllPub</td>\n",
       "      <td>...</td>\n",
       "      <td>144</td>\n",
       "      <td>0</td>\n",
       "      <td>NaN</td>\n",
       "      <td>NaN</td>\n",
       "      <td>NaN</td>\n",
       "      <td>0</td>\n",
       "      <td>1</td>\n",
       "      <td>2010</td>\n",
       "      <td>WD</td>\n",
       "      <td>Normal</td>\n",
       "    </tr>\n",
       "    <tr>\n",
       "      <th>5</th>\n",
       "      <td>1466</td>\n",
       "      <td>60</td>\n",
       "      <td>RL</td>\n",
       "      <td>75.0</td>\n",
       "      <td>10000</td>\n",
       "      <td>Pave</td>\n",
       "      <td>NaN</td>\n",
       "      <td>IR1</td>\n",
       "      <td>Lvl</td>\n",
       "      <td>AllPub</td>\n",
       "      <td>...</td>\n",
       "      <td>0</td>\n",
       "      <td>0</td>\n",
       "      <td>NaN</td>\n",
       "      <td>NaN</td>\n",
       "      <td>NaN</td>\n",
       "      <td>0</td>\n",
       "      <td>4</td>\n",
       "      <td>2010</td>\n",
       "      <td>WD</td>\n",
       "      <td>Normal</td>\n",
       "    </tr>\n",
       "    <tr>\n",
       "      <th>6</th>\n",
       "      <td>1467</td>\n",
       "      <td>20</td>\n",
       "      <td>RL</td>\n",
       "      <td>NaN</td>\n",
       "      <td>7980</td>\n",
       "      <td>Pave</td>\n",
       "      <td>NaN</td>\n",
       "      <td>IR1</td>\n",
       "      <td>Lvl</td>\n",
       "      <td>AllPub</td>\n",
       "      <td>...</td>\n",
       "      <td>0</td>\n",
       "      <td>0</td>\n",
       "      <td>NaN</td>\n",
       "      <td>GdPrv</td>\n",
       "      <td>Shed</td>\n",
       "      <td>500</td>\n",
       "      <td>3</td>\n",
       "      <td>2010</td>\n",
       "      <td>WD</td>\n",
       "      <td>Normal</td>\n",
       "    </tr>\n",
       "    <tr>\n",
       "      <th>7</th>\n",
       "      <td>1468</td>\n",
       "      <td>60</td>\n",
       "      <td>RL</td>\n",
       "      <td>63.0</td>\n",
       "      <td>8402</td>\n",
       "      <td>Pave</td>\n",
       "      <td>NaN</td>\n",
       "      <td>IR1</td>\n",
       "      <td>Lvl</td>\n",
       "      <td>AllPub</td>\n",
       "      <td>...</td>\n",
       "      <td>0</td>\n",
       "      <td>0</td>\n",
       "      <td>NaN</td>\n",
       "      <td>NaN</td>\n",
       "      <td>NaN</td>\n",
       "      <td>0</td>\n",
       "      <td>5</td>\n",
       "      <td>2010</td>\n",
       "      <td>WD</td>\n",
       "      <td>Normal</td>\n",
       "    </tr>\n",
       "    <tr>\n",
       "      <th>8</th>\n",
       "      <td>1469</td>\n",
       "      <td>20</td>\n",
       "      <td>RL</td>\n",
       "      <td>85.0</td>\n",
       "      <td>10176</td>\n",
       "      <td>Pave</td>\n",
       "      <td>NaN</td>\n",
       "      <td>Reg</td>\n",
       "      <td>Lvl</td>\n",
       "      <td>AllPub</td>\n",
       "      <td>...</td>\n",
       "      <td>0</td>\n",
       "      <td>0</td>\n",
       "      <td>NaN</td>\n",
       "      <td>NaN</td>\n",
       "      <td>NaN</td>\n",
       "      <td>0</td>\n",
       "      <td>2</td>\n",
       "      <td>2010</td>\n",
       "      <td>WD</td>\n",
       "      <td>Normal</td>\n",
       "    </tr>\n",
       "    <tr>\n",
       "      <th>9</th>\n",
       "      <td>1470</td>\n",
       "      <td>20</td>\n",
       "      <td>RL</td>\n",
       "      <td>70.0</td>\n",
       "      <td>8400</td>\n",
       "      <td>Pave</td>\n",
       "      <td>NaN</td>\n",
       "      <td>Reg</td>\n",
       "      <td>Lvl</td>\n",
       "      <td>AllPub</td>\n",
       "      <td>...</td>\n",
       "      <td>0</td>\n",
       "      <td>0</td>\n",
       "      <td>NaN</td>\n",
       "      <td>MnPrv</td>\n",
       "      <td>NaN</td>\n",
       "      <td>0</td>\n",
       "      <td>4</td>\n",
       "      <td>2010</td>\n",
       "      <td>WD</td>\n",
       "      <td>Normal</td>\n",
       "    </tr>\n",
       "  </tbody>\n",
       "</table>\n",
       "<p>10 rows × 80 columns</p>\n",
       "</div>"
      ],
      "text/plain": [
       "     Id  MSSubClass MSZoning  LotFrontage  LotArea Street Alley LotShape  \\\n",
       "0  1461          20       RH         80.0    11622   Pave   NaN      Reg   \n",
       "1  1462          20       RL         81.0    14267   Pave   NaN      IR1   \n",
       "2  1463          60       RL         74.0    13830   Pave   NaN      IR1   \n",
       "3  1464          60       RL         78.0     9978   Pave   NaN      IR1   \n",
       "4  1465         120       RL         43.0     5005   Pave   NaN      IR1   \n",
       "5  1466          60       RL         75.0    10000   Pave   NaN      IR1   \n",
       "6  1467          20       RL          NaN     7980   Pave   NaN      IR1   \n",
       "7  1468          60       RL         63.0     8402   Pave   NaN      IR1   \n",
       "8  1469          20       RL         85.0    10176   Pave   NaN      Reg   \n",
       "9  1470          20       RL         70.0     8400   Pave   NaN      Reg   \n",
       "\n",
       "  LandContour Utilities  ... ScreenPorch PoolArea PoolQC  Fence MiscFeature  \\\n",
       "0         Lvl    AllPub  ...         120        0    NaN  MnPrv         NaN   \n",
       "1         Lvl    AllPub  ...           0        0    NaN    NaN        Gar2   \n",
       "2         Lvl    AllPub  ...           0        0    NaN  MnPrv         NaN   \n",
       "3         Lvl    AllPub  ...           0        0    NaN    NaN         NaN   \n",
       "4         HLS    AllPub  ...         144        0    NaN    NaN         NaN   \n",
       "5         Lvl    AllPub  ...           0        0    NaN    NaN         NaN   \n",
       "6         Lvl    AllPub  ...           0        0    NaN  GdPrv        Shed   \n",
       "7         Lvl    AllPub  ...           0        0    NaN    NaN         NaN   \n",
       "8         Lvl    AllPub  ...           0        0    NaN    NaN         NaN   \n",
       "9         Lvl    AllPub  ...           0        0    NaN  MnPrv         NaN   \n",
       "\n",
       "  MiscVal MoSold  YrSold  SaleType  SaleCondition  \n",
       "0       0      6    2010        WD         Normal  \n",
       "1   12500      6    2010        WD         Normal  \n",
       "2       0      3    2010        WD         Normal  \n",
       "3       0      6    2010        WD         Normal  \n",
       "4       0      1    2010        WD         Normal  \n",
       "5       0      4    2010        WD         Normal  \n",
       "6     500      3    2010        WD         Normal  \n",
       "7       0      5    2010        WD         Normal  \n",
       "8       0      2    2010        WD         Normal  \n",
       "9       0      4    2010        WD         Normal  \n",
       "\n",
       "[10 rows x 80 columns]"
      ]
     },
     "execution_count": 4,
     "metadata": {},
     "output_type": "execute_result"
    }
   ],
   "source": [
    "test_data = pd.read_csv('../input/house-prices-advanced-regression-techniques/test.csv')\n",
    "test_data.head(10)"
   ]
  },
  {
   "cell_type": "markdown",
   "id": "e26eac02",
   "metadata": {
    "papermill": {
     "duration": 0.067684,
     "end_time": "2021-09-11T12:48:23.221883",
     "exception": false,
     "start_time": "2021-09-11T12:48:23.154199",
     "status": "completed"
    },
    "tags": []
   },
   "source": [
    "> ***Training Data***"
   ]
  },
  {
   "cell_type": "markdown",
   "id": "8fd6311c",
   "metadata": {
    "papermill": {
     "duration": 0.066983,
     "end_time": "2021-09-11T12:48:23.356260",
     "exception": false,
     "start_time": "2021-09-11T12:48:23.289277",
     "status": "completed"
    },
    "tags": []
   },
   "source": [
    "The very first step of training of data is data cleaning , we find many of data sets with blank and empty values for those datasets we need to clean the data inorder to place a categorical values in those empty spaces depending upon the numerical data for that "
   ]
  },
  {
   "cell_type": "markdown",
   "id": "7ffee5c7",
   "metadata": {
    "papermill": {
     "duration": 0.067216,
     "end_time": "2021-09-11T12:48:23.491062",
     "exception": false,
     "start_time": "2021-09-11T12:48:23.423846",
     "status": "completed"
    },
    "tags": []
   },
   "source": [
    "> **Cleaning of data inorder to sort and replace the missing values in data ****"
   ]
  },
  {
   "cell_type": "code",
   "execution_count": 5,
   "id": "769ae8e9",
   "metadata": {
    "execution": {
     "iopub.execute_input": "2021-09-11T12:48:23.632148Z",
     "iopub.status.busy": "2021-09-11T12:48:23.631240Z",
     "iopub.status.idle": "2021-09-11T12:48:23.634635Z",
     "shell.execute_reply": "2021-09-11T12:48:23.635155Z",
     "shell.execute_reply.started": "2021-09-11T12:26:24.372956Z"
    },
    "papermill": {
     "duration": 0.076886,
     "end_time": "2021-09-11T12:48:23.635337",
     "exception": false,
     "start_time": "2021-09-11T12:48:23.558451",
     "status": "completed"
    },
    "tags": []
   },
   "outputs": [
    {
     "name": "stdout",
     "output_type": "stream",
     "text": [
      "(1460, 81)\n"
     ]
    }
   ],
   "source": [
    "print(train_data.shape)"
   ]
  },
  {
   "cell_type": "code",
   "execution_count": 6,
   "id": "b59dde95",
   "metadata": {
    "execution": {
     "iopub.execute_input": "2021-09-11T12:48:23.774275Z",
     "iopub.status.busy": "2021-09-11T12:48:23.773325Z",
     "iopub.status.idle": "2021-09-11T12:48:23.779494Z",
     "shell.execute_reply": "2021-09-11T12:48:23.780050Z",
     "shell.execute_reply.started": "2021-09-11T12:26:24.379848Z"
    },
    "papermill": {
     "duration": 0.077548,
     "end_time": "2021-09-11T12:48:23.780244",
     "exception": false,
     "start_time": "2021-09-11T12:48:23.702696",
     "status": "completed"
    },
    "tags": []
   },
   "outputs": [
    {
     "name": "stdout",
     "output_type": "stream",
     "text": [
      "Index(['Id', 'MSSubClass', 'MSZoning', 'LotFrontage', 'LotArea', 'Street',\n",
      "       'Alley', 'LotShape', 'LandContour', 'Utilities', 'LotConfig',\n",
      "       'LandSlope', 'Neighborhood', 'Condition1', 'Condition2', 'BldgType',\n",
      "       'HouseStyle', 'OverallQual', 'OverallCond', 'YearBuilt', 'YearRemodAdd',\n",
      "       'RoofStyle', 'RoofMatl', 'Exterior1st', 'Exterior2nd', 'MasVnrType',\n",
      "       'MasVnrArea', 'ExterQual', 'ExterCond', 'Foundation', 'BsmtQual',\n",
      "       'BsmtCond', 'BsmtExposure', 'BsmtFinType1', 'BsmtFinSF1',\n",
      "       'BsmtFinType2', 'BsmtFinSF2', 'BsmtUnfSF', 'TotalBsmtSF', 'Heating',\n",
      "       'HeatingQC', 'CentralAir', 'Electrical', '1stFlrSF', '2ndFlrSF',\n",
      "       'LowQualFinSF', 'GrLivArea', 'BsmtFullBath', 'BsmtHalfBath', 'FullBath',\n",
      "       'HalfBath', 'BedroomAbvGr', 'KitchenAbvGr', 'KitchenQual',\n",
      "       'TotRmsAbvGrd', 'Functional', 'Fireplaces', 'FireplaceQu', 'GarageType',\n",
      "       'GarageYrBlt', 'GarageFinish', 'GarageCars', 'GarageArea', 'GarageQual',\n",
      "       'GarageCond', 'PavedDrive', 'WoodDeckSF', 'OpenPorchSF',\n",
      "       'EnclosedPorch', '3SsnPorch', 'ScreenPorch', 'PoolArea', 'PoolQC',\n",
      "       'Fence', 'MiscFeature', 'MiscVal', 'MoSold', 'YrSold', 'SaleType',\n",
      "       'SaleCondition', 'SalePrice'],\n",
      "      dtype='object')\n"
     ]
    }
   ],
   "source": [
    "print(train_data.columns)"
   ]
  },
  {
   "cell_type": "code",
   "execution_count": 7,
   "id": "523c0ff7",
   "metadata": {
    "execution": {
     "iopub.execute_input": "2021-09-11T12:48:23.920465Z",
     "iopub.status.busy": "2021-09-11T12:48:23.919557Z",
     "iopub.status.idle": "2021-09-11T12:48:23.954043Z",
     "shell.execute_reply": "2021-09-11T12:48:23.953150Z",
     "shell.execute_reply.started": "2021-09-11T12:26:24.400102Z"
    },
    "papermill": {
     "duration": 0.106003,
     "end_time": "2021-09-11T12:48:23.954244",
     "exception": false,
     "start_time": "2021-09-11T12:48:23.848241",
     "status": "completed"
    },
    "tags": []
   },
   "outputs": [
    {
     "name": "stdout",
     "output_type": "stream",
     "text": [
      "<class 'pandas.core.frame.DataFrame'>\n",
      "RangeIndex: 1460 entries, 0 to 1459\n",
      "Data columns (total 81 columns):\n",
      " #   Column         Non-Null Count  Dtype  \n",
      "---  ------         --------------  -----  \n",
      " 0   Id             1460 non-null   int64  \n",
      " 1   MSSubClass     1460 non-null   int64  \n",
      " 2   MSZoning       1460 non-null   object \n",
      " 3   LotFrontage    1201 non-null   float64\n",
      " 4   LotArea        1460 non-null   int64  \n",
      " 5   Street         1460 non-null   object \n",
      " 6   Alley          91 non-null     object \n",
      " 7   LotShape       1460 non-null   object \n",
      " 8   LandContour    1460 non-null   object \n",
      " 9   Utilities      1460 non-null   object \n",
      " 10  LotConfig      1460 non-null   object \n",
      " 11  LandSlope      1460 non-null   object \n",
      " 12  Neighborhood   1460 non-null   object \n",
      " 13  Condition1     1460 non-null   object \n",
      " 14  Condition2     1460 non-null   object \n",
      " 15  BldgType       1460 non-null   object \n",
      " 16  HouseStyle     1460 non-null   object \n",
      " 17  OverallQual    1460 non-null   int64  \n",
      " 18  OverallCond    1460 non-null   int64  \n",
      " 19  YearBuilt      1460 non-null   int64  \n",
      " 20  YearRemodAdd   1460 non-null   int64  \n",
      " 21  RoofStyle      1460 non-null   object \n",
      " 22  RoofMatl       1460 non-null   object \n",
      " 23  Exterior1st    1460 non-null   object \n",
      " 24  Exterior2nd    1460 non-null   object \n",
      " 25  MasVnrType     1452 non-null   object \n",
      " 26  MasVnrArea     1452 non-null   float64\n",
      " 27  ExterQual      1460 non-null   object \n",
      " 28  ExterCond      1460 non-null   object \n",
      " 29  Foundation     1460 non-null   object \n",
      " 30  BsmtQual       1423 non-null   object \n",
      " 31  BsmtCond       1423 non-null   object \n",
      " 32  BsmtExposure   1422 non-null   object \n",
      " 33  BsmtFinType1   1423 non-null   object \n",
      " 34  BsmtFinSF1     1460 non-null   int64  \n",
      " 35  BsmtFinType2   1422 non-null   object \n",
      " 36  BsmtFinSF2     1460 non-null   int64  \n",
      " 37  BsmtUnfSF      1460 non-null   int64  \n",
      " 38  TotalBsmtSF    1460 non-null   int64  \n",
      " 39  Heating        1460 non-null   object \n",
      " 40  HeatingQC      1460 non-null   object \n",
      " 41  CentralAir     1460 non-null   object \n",
      " 42  Electrical     1459 non-null   object \n",
      " 43  1stFlrSF       1460 non-null   int64  \n",
      " 44  2ndFlrSF       1460 non-null   int64  \n",
      " 45  LowQualFinSF   1460 non-null   int64  \n",
      " 46  GrLivArea      1460 non-null   int64  \n",
      " 47  BsmtFullBath   1460 non-null   int64  \n",
      " 48  BsmtHalfBath   1460 non-null   int64  \n",
      " 49  FullBath       1460 non-null   int64  \n",
      " 50  HalfBath       1460 non-null   int64  \n",
      " 51  BedroomAbvGr   1460 non-null   int64  \n",
      " 52  KitchenAbvGr   1460 non-null   int64  \n",
      " 53  KitchenQual    1460 non-null   object \n",
      " 54  TotRmsAbvGrd   1460 non-null   int64  \n",
      " 55  Functional     1460 non-null   object \n",
      " 56  Fireplaces     1460 non-null   int64  \n",
      " 57  FireplaceQu    770 non-null    object \n",
      " 58  GarageType     1379 non-null   object \n",
      " 59  GarageYrBlt    1379 non-null   float64\n",
      " 60  GarageFinish   1379 non-null   object \n",
      " 61  GarageCars     1460 non-null   int64  \n",
      " 62  GarageArea     1460 non-null   int64  \n",
      " 63  GarageQual     1379 non-null   object \n",
      " 64  GarageCond     1379 non-null   object \n",
      " 65  PavedDrive     1460 non-null   object \n",
      " 66  WoodDeckSF     1460 non-null   int64  \n",
      " 67  OpenPorchSF    1460 non-null   int64  \n",
      " 68  EnclosedPorch  1460 non-null   int64  \n",
      " 69  3SsnPorch      1460 non-null   int64  \n",
      " 70  ScreenPorch    1460 non-null   int64  \n",
      " 71  PoolArea       1460 non-null   int64  \n",
      " 72  PoolQC         7 non-null      object \n",
      " 73  Fence          281 non-null    object \n",
      " 74  MiscFeature    54 non-null     object \n",
      " 75  MiscVal        1460 non-null   int64  \n",
      " 76  MoSold         1460 non-null   int64  \n",
      " 77  YrSold         1460 non-null   int64  \n",
      " 78  SaleType       1460 non-null   object \n",
      " 79  SaleCondition  1460 non-null   object \n",
      " 80  SalePrice      1460 non-null   int64  \n",
      "dtypes: float64(3), int64(35), object(43)\n",
      "memory usage: 924.0+ KB\n",
      "None\n"
     ]
    }
   ],
   "source": [
    "print(train_data.info())"
   ]
  },
  {
   "cell_type": "code",
   "execution_count": 8,
   "id": "30e178e4",
   "metadata": {
    "execution": {
     "iopub.execute_input": "2021-09-11T12:48:24.103576Z",
     "iopub.status.busy": "2021-09-11T12:48:24.099534Z",
     "iopub.status.idle": "2021-09-11T12:48:24.119162Z",
     "shell.execute_reply": "2021-09-11T12:48:24.119839Z",
     "shell.execute_reply.started": "2021-09-11T12:26:24.437281Z"
    },
    "papermill": {
     "duration": 0.095075,
     "end_time": "2021-09-11T12:48:24.120117",
     "exception": false,
     "start_time": "2021-09-11T12:48:24.025042",
     "status": "completed"
    },
    "tags": []
   },
   "outputs": [
    {
     "name": "stdout",
     "output_type": "stream",
     "text": [
      "<bound method NDFrame.describe of         Id  MSSubClass MSZoning  LotFrontage  LotArea Street Alley LotShape  \\\n",
      "0        1          60       RL         65.0     8450   Pave   NaN      Reg   \n",
      "1        2          20       RL         80.0     9600   Pave   NaN      Reg   \n",
      "2        3          60       RL         68.0    11250   Pave   NaN      IR1   \n",
      "3        4          70       RL         60.0     9550   Pave   NaN      IR1   \n",
      "4        5          60       RL         84.0    14260   Pave   NaN      IR1   \n",
      "...    ...         ...      ...          ...      ...    ...   ...      ...   \n",
      "1455  1456          60       RL         62.0     7917   Pave   NaN      Reg   \n",
      "1456  1457          20       RL         85.0    13175   Pave   NaN      Reg   \n",
      "1457  1458          70       RL         66.0     9042   Pave   NaN      Reg   \n",
      "1458  1459          20       RL         68.0     9717   Pave   NaN      Reg   \n",
      "1459  1460          20       RL         75.0     9937   Pave   NaN      Reg   \n",
      "\n",
      "     LandContour Utilities  ... PoolArea PoolQC  Fence MiscFeature MiscVal  \\\n",
      "0            Lvl    AllPub  ...        0    NaN    NaN         NaN       0   \n",
      "1            Lvl    AllPub  ...        0    NaN    NaN         NaN       0   \n",
      "2            Lvl    AllPub  ...        0    NaN    NaN         NaN       0   \n",
      "3            Lvl    AllPub  ...        0    NaN    NaN         NaN       0   \n",
      "4            Lvl    AllPub  ...        0    NaN    NaN         NaN       0   \n",
      "...          ...       ...  ...      ...    ...    ...         ...     ...   \n",
      "1455         Lvl    AllPub  ...        0    NaN    NaN         NaN       0   \n",
      "1456         Lvl    AllPub  ...        0    NaN  MnPrv         NaN       0   \n",
      "1457         Lvl    AllPub  ...        0    NaN  GdPrv        Shed    2500   \n",
      "1458         Lvl    AllPub  ...        0    NaN    NaN         NaN       0   \n",
      "1459         Lvl    AllPub  ...        0    NaN    NaN         NaN       0   \n",
      "\n",
      "     MoSold YrSold  SaleType  SaleCondition  SalePrice  \n",
      "0         2   2008        WD         Normal     208500  \n",
      "1         5   2007        WD         Normal     181500  \n",
      "2         9   2008        WD         Normal     223500  \n",
      "3         2   2006        WD        Abnorml     140000  \n",
      "4        12   2008        WD         Normal     250000  \n",
      "...     ...    ...       ...            ...        ...  \n",
      "1455      8   2007        WD         Normal     175000  \n",
      "1456      2   2010        WD         Normal     210000  \n",
      "1457      5   2010        WD         Normal     266500  \n",
      "1458      4   2010        WD         Normal     142125  \n",
      "1459      6   2008        WD         Normal     147500  \n",
      "\n",
      "[1460 rows x 81 columns]>\n"
     ]
    }
   ],
   "source": [
    "print(train_data.describe)"
   ]
  },
  {
   "cell_type": "code",
   "execution_count": 9,
   "id": "f5995127",
   "metadata": {
    "execution": {
     "iopub.execute_input": "2021-09-11T12:48:24.263613Z",
     "iopub.status.busy": "2021-09-11T12:48:24.262994Z",
     "iopub.status.idle": "2021-09-11T12:48:24.271474Z",
     "shell.execute_reply": "2021-09-11T12:48:24.270851Z",
     "shell.execute_reply.started": "2021-09-11T12:26:24.463817Z"
    },
    "papermill": {
     "duration": 0.080745,
     "end_time": "2021-09-11T12:48:24.271618",
     "exception": false,
     "start_time": "2021-09-11T12:48:24.190873",
     "status": "completed"
    },
    "tags": []
   },
   "outputs": [
    {
     "data": {
      "text/plain": [
       "Id                 int64\n",
       "MSSubClass         int64\n",
       "MSZoning          object\n",
       "LotFrontage      float64\n",
       "LotArea            int64\n",
       "                  ...   \n",
       "MoSold             int64\n",
       "YrSold             int64\n",
       "SaleType          object\n",
       "SaleCondition     object\n",
       "SalePrice          int64\n",
       "Length: 81, dtype: object"
      ]
     },
     "execution_count": 9,
     "metadata": {},
     "output_type": "execute_result"
    }
   ],
   "source": [
    "train_data.dtypes"
   ]
  },
  {
   "cell_type": "code",
   "execution_count": 10,
   "id": "bd84c18c",
   "metadata": {
    "execution": {
     "iopub.execute_input": "2021-09-11T12:48:24.419160Z",
     "iopub.status.busy": "2021-09-11T12:48:24.418366Z",
     "iopub.status.idle": "2021-09-11T12:48:24.421305Z",
     "shell.execute_reply": "2021-09-11T12:48:24.421789Z",
     "shell.execute_reply.started": "2021-09-11T12:26:24.473620Z"
    },
    "papermill": {
     "duration": 0.080873,
     "end_time": "2021-09-11T12:48:24.421993",
     "exception": false,
     "start_time": "2021-09-11T12:48:24.341120",
     "status": "completed"
    },
    "tags": []
   },
   "outputs": [
    {
     "name": "stdout",
     "output_type": "stream",
     "text": [
      "['Id' 'MSSubClass' 'LotFrontage' 'LotArea' 'OverallQual' 'OverallCond'\n",
      " 'YearBuilt' 'YearRemodAdd' 'MasVnrArea' 'BsmtFinSF1' 'BsmtFinSF2'\n",
      " 'BsmtUnfSF' 'TotalBsmtSF' '1stFlrSF' '2ndFlrSF' 'LowQualFinSF'\n",
      " 'GrLivArea' 'BsmtFullBath' 'BsmtHalfBath' 'FullBath' 'HalfBath'\n",
      " 'BedroomAbvGr' 'KitchenAbvGr' 'TotRmsAbvGrd' 'Fireplaces' 'GarageYrBlt'\n",
      " 'GarageCars' 'GarageArea' 'WoodDeckSF' 'OpenPorchSF' 'EnclosedPorch'\n",
      " '3SsnPorch' 'ScreenPorch' 'PoolArea' 'MiscVal' 'MoSold' 'YrSold'\n",
      " 'SalePrice']\n"
     ]
    }
   ],
   "source": [
    "#select numeric columns \n",
    "train_data_numeric=train_data.select_dtypes(include=[np.number])\n",
    "numeric_cols=train_data_numeric.columns.values\n",
    "print(numeric_cols)\n"
   ]
  },
  {
   "cell_type": "code",
   "execution_count": 11,
   "id": "023aafad",
   "metadata": {
    "execution": {
     "iopub.execute_input": "2021-09-11T12:48:24.566723Z",
     "iopub.status.busy": "2021-09-11T12:48:24.565981Z",
     "iopub.status.idle": "2021-09-11T12:48:24.573456Z",
     "shell.execute_reply": "2021-09-11T12:48:24.574074Z",
     "shell.execute_reply.started": "2021-09-11T12:26:24.488354Z"
    },
    "papermill": {
     "duration": 0.081755,
     "end_time": "2021-09-11T12:48:24.574299",
     "exception": false,
     "start_time": "2021-09-11T12:48:24.492544",
     "status": "completed"
    },
    "tags": []
   },
   "outputs": [
    {
     "name": "stdout",
     "output_type": "stream",
     "text": [
      "['MSZoning' 'Street' 'Alley' 'LotShape' 'LandContour' 'Utilities'\n",
      " 'LotConfig' 'LandSlope' 'Neighborhood' 'Condition1' 'Condition2'\n",
      " 'BldgType' 'HouseStyle' 'RoofStyle' 'RoofMatl' 'Exterior1st'\n",
      " 'Exterior2nd' 'MasVnrType' 'ExterQual' 'ExterCond' 'Foundation'\n",
      " 'BsmtQual' 'BsmtCond' 'BsmtExposure' 'BsmtFinType1' 'BsmtFinType2'\n",
      " 'Heating' 'HeatingQC' 'CentralAir' 'Electrical' 'KitchenQual'\n",
      " 'Functional' 'FireplaceQu' 'GarageType' 'GarageFinish' 'GarageQual'\n",
      " 'GarageCond' 'PavedDrive' 'PoolQC' 'Fence' 'MiscFeature' 'SaleType'\n",
      " 'SaleCondition']\n"
     ]
    }
   ],
   "source": [
    "#select non numeric columns\n",
    "train_data_non_numeric = train_data.select_dtypes(exclude=[np.number])\n",
    "non_numeric_cols=train_data_non_numeric.columns.values\n",
    "print(non_numeric_cols)"
   ]
  },
  {
   "cell_type": "markdown",
   "id": "8234de78",
   "metadata": {
    "papermill": {
     "duration": 0.070651,
     "end_time": "2021-09-11T12:48:24.717332",
     "exception": false,
     "start_time": "2021-09-11T12:48:24.646681",
     "status": "completed"
    },
    "tags": []
   },
   "source": [
    "> **Missing data in heat map ****"
   ]
  },
  {
   "cell_type": "code",
   "execution_count": 12,
   "id": "af524158",
   "metadata": {
    "execution": {
     "iopub.execute_input": "2021-09-11T12:48:24.865760Z",
     "iopub.status.busy": "2021-09-11T12:48:24.865040Z",
     "iopub.status.idle": "2021-09-11T12:48:25.394514Z",
     "shell.execute_reply": "2021-09-11T12:48:25.395014Z",
     "shell.execute_reply.started": "2021-09-11T12:26:24.504069Z"
    },
    "papermill": {
     "duration": 0.605775,
     "end_time": "2021-09-11T12:48:25.395207",
     "exception": false,
     "start_time": "2021-09-11T12:48:24.789432",
     "status": "completed"
    },
    "tags": []
   },
   "outputs": [
    {
     "data": {
      "text/plain": [
       "<AxesSubplot:>"
      ]
     },
     "execution_count": 12,
     "metadata": {},
     "output_type": "execute_result"
    },
    {
     "data": {
      "image/png": "[encoded data removed]",
      "text/plain": [
       "<Figure size 432x288 with 2 Axes>"
      ]
     },
     "metadata": {
      "needs_background": "light"
     },
     "output_type": "display_data"
    }
   ],
   "source": [
    "cols_hm = train_data.columns[:30]\n",
    "colours=['#000099', '#ffff00']\n",
    "sns.heatmap(train_data[cols_hm].isnull(),cmap=sns.color_palette(colours))"
   ]
  },
  {
   "cell_type": "code",
   "execution_count": 13,
   "id": "7a71fb68",
   "metadata": {
    "execution": {
     "iopub.execute_input": "2021-09-11T12:48:25.552731Z",
     "iopub.status.busy": "2021-09-11T12:48:25.552013Z",
     "iopub.status.idle": "2021-09-11T12:48:26.205156Z",
     "shell.execute_reply": "2021-09-11T12:48:26.204434Z",
     "shell.execute_reply.started": "2021-09-11T12:28:00.985889Z"
    },
    "papermill": {
     "duration": 0.737758,
     "end_time": "2021-09-11T12:48:26.205318",
     "exception": false,
     "start_time": "2021-09-11T12:48:25.467560",
     "status": "completed"
    },
    "tags": []
   },
   "outputs": [
    {
     "data": {
      "text/plain": [
       "<AxesSubplot:>"
      ]
     },
     "execution_count": 13,
     "metadata": {},
     "output_type": "execute_result"
    },
    {
     "data": {
      "image/png": "[encoded data removed]",
      "text/plain": [
       "<Figure size 432x288 with 2 Axes>"
      ]
     },
     "metadata": {
      "needs_background": "light"
     },
     "output_type": "display_data"
    }
   ],
   "source": [
    "#missing data in heatmap for test_data\n",
    "cols_hm = test_data.columns[:30]\n",
    "colours=['#000099', '#ffff00']\n",
    "sns.heatmap(test_data[cols_hm].isnull(),cmap=sns.color_palette(colours))"
   ]
  },
  {
   "cell_type": "markdown",
   "id": "ccd6a99b",
   "metadata": {
    "papermill": {
     "duration": 0.073033,
     "end_time": "2021-09-11T12:48:26.354211",
     "exception": false,
     "start_time": "2021-09-11T12:48:26.281178",
     "status": "completed"
    },
    "tags": []
   },
   "source": [
    "the above chart shows the missing values of first 30 features of train data set. where the horizontal access shows the feature name and vertical access shows the number of rows/columns. Here the yellow color shows missing data and blue colour otherwise.\n",
    "The above heatmap shows that Alley has most missing values and uncleaned data and MsZoning have missing values but comparitively less Uncleaned data than Alley"
   ]
  },
  {
   "cell_type": "markdown",
   "id": "9e3bdd41",
   "metadata": {
    "papermill": {
     "duration": 0.072787,
     "end_time": "2021-09-11T12:48:26.500400",
     "exception": false,
     "start_time": "2021-09-11T12:48:26.427613",
     "status": "completed"
    },
    "tags": []
   },
   "source": [
    "Now lets find the missing value of data through percentage list method "
   ]
  },
  {
   "cell_type": "markdown",
   "id": "0fb4b0ef",
   "metadata": {
    "papermill": {
     "duration": 0.072548,
     "end_time": "2021-09-11T12:48:26.646233",
     "exception": false,
     "start_time": "2021-09-11T12:48:26.573685",
     "status": "completed"
    },
    "tags": []
   },
   "source": [
    "**Missing Data Percentage List**** "
   ]
  },
  {
   "cell_type": "code",
   "execution_count": 14,
   "id": "5e3641ce",
   "metadata": {
    "execution": {
     "iopub.execute_input": "2021-09-11T12:48:26.806106Z",
     "iopub.status.busy": "2021-09-11T12:48:26.802729Z",
     "iopub.status.idle": "2021-09-11T12:48:26.848591Z",
     "shell.execute_reply": "2021-09-11T12:48:26.849113Z",
     "shell.execute_reply.started": "2021-09-11T12:26:25.657996Z"
    },
    "papermill": {
     "duration": 0.12976,
     "end_time": "2021-09-11T12:48:26.849314",
     "exception": false,
     "start_time": "2021-09-11T12:48:26.719554",
     "status": "completed"
    },
    "tags": []
   },
   "outputs": [
    {
     "name": "stdout",
     "output_type": "stream",
     "text": [
      "Id - 0%\n",
      "MSSubClass - 0%\n",
      "MSZoning - 0%\n",
      "LotFrontage - 18%\n",
      "LotArea - 0%\n",
      "Street - 0%\n",
      "Alley - 94%\n",
      "LotShape - 0%\n",
      "LandContour - 0%\n",
      "Utilities - 0%\n",
      "LotConfig - 0%\n",
      "LandSlope - 0%\n",
      "Neighborhood - 0%\n",
      "Condition1 - 0%\n",
      "Condition2 - 0%\n",
      "BldgType - 0%\n",
      "HouseStyle - 0%\n",
      "OverallQual - 0%\n",
      "OverallCond - 0%\n",
      "YearBuilt - 0%\n",
      "YearRemodAdd - 0%\n",
      "RoofStyle - 0%\n",
      "RoofMatl - 0%\n",
      "Exterior1st - 0%\n",
      "Exterior2nd - 0%\n",
      "MasVnrType - 1%\n",
      "MasVnrArea - 1%\n",
      "ExterQual - 0%\n",
      "ExterCond - 0%\n",
      "Foundation - 0%\n",
      "BsmtQual - 3%\n",
      "BsmtCond - 3%\n",
      "BsmtExposure - 3%\n",
      "BsmtFinType1 - 3%\n",
      "BsmtFinSF1 - 0%\n",
      "BsmtFinType2 - 3%\n",
      "BsmtFinSF2 - 0%\n",
      "BsmtUnfSF - 0%\n",
      "TotalBsmtSF - 0%\n",
      "Heating - 0%\n",
      "HeatingQC - 0%\n",
      "CentralAir - 0%\n",
      "Electrical - 0%\n",
      "1stFlrSF - 0%\n",
      "2ndFlrSF - 0%\n",
      "LowQualFinSF - 0%\n",
      "GrLivArea - 0%\n",
      "BsmtFullBath - 0%\n",
      "BsmtHalfBath - 0%\n",
      "FullBath - 0%\n",
      "HalfBath - 0%\n",
      "BedroomAbvGr - 0%\n",
      "KitchenAbvGr - 0%\n",
      "KitchenQual - 0%\n",
      "TotRmsAbvGrd - 0%\n",
      "Functional - 0%\n",
      "Fireplaces - 0%\n",
      "FireplaceQu - 47%\n",
      "GarageType - 6%\n",
      "GarageYrBlt - 6%\n",
      "GarageFinish - 6%\n",
      "GarageCars - 0%\n",
      "GarageArea - 0%\n",
      "GarageQual - 6%\n",
      "GarageCond - 6%\n",
      "PavedDrive - 0%\n",
      "WoodDeckSF - 0%\n",
      "OpenPorchSF - 0%\n",
      "EnclosedPorch - 0%\n",
      "3SsnPorch - 0%\n",
      "ScreenPorch - 0%\n",
      "PoolArea - 0%\n",
      "PoolQC - 100%\n",
      "Fence - 81%\n",
      "MiscFeature - 96%\n",
      "MiscVal - 0%\n",
      "MoSold - 0%\n",
      "YrSold - 0%\n",
      "SaleType - 0%\n",
      "SaleCondition - 0%\n",
      "SalePrice - 0%\n"
     ]
    }
   ],
   "source": [
    "for col in train_data.columns:\n",
    "    pct_missing=np.mean(train_data[col].isnull())\n",
    "    print('{} - {}%'.format(col,round(pct_missing*100)))"
   ]
  },
  {
   "cell_type": "code",
   "execution_count": 15,
   "id": "5d546012",
   "metadata": {
    "execution": {
     "iopub.execute_input": "2021-09-11T12:48:27.020104Z",
     "iopub.status.busy": "2021-09-11T12:48:27.013705Z",
     "iopub.status.idle": "2021-09-11T12:48:27.053198Z",
     "shell.execute_reply": "2021-09-11T12:48:27.053906Z",
     "shell.execute_reply.started": "2021-09-11T12:26:25.716023Z"
    },
    "papermill": {
     "duration": 0.12709,
     "end_time": "2021-09-11T12:48:27.054198",
     "exception": false,
     "start_time": "2021-09-11T12:48:26.927108",
     "status": "completed"
    },
    "tags": []
   },
   "outputs": [
    {
     "name": "stdout",
     "output_type": "stream",
     "text": [
      "Id - 0%\n",
      "MSSubClass - 0%\n",
      "MSZoning - 0%\n",
      "LotFrontage - 18%\n",
      "LotArea - 0%\n",
      "Street - 0%\n",
      "Alley - 94%\n",
      "LotShape - 0%\n",
      "LandContour - 0%\n",
      "Utilities - 0%\n",
      "LotConfig - 0%\n",
      "LandSlope - 0%\n",
      "Neighborhood - 0%\n",
      "Condition1 - 0%\n",
      "Condition2 - 0%\n",
      "BldgType - 0%\n",
      "HouseStyle - 0%\n",
      "OverallQual - 0%\n",
      "OverallCond - 0%\n",
      "YearBuilt - 0%\n",
      "YearRemodAdd - 0%\n",
      "RoofStyle - 0%\n",
      "RoofMatl - 0%\n",
      "Exterior1st - 0%\n",
      "Exterior2nd - 0%\n",
      "MasVnrType - 1%\n",
      "MasVnrArea - 1%\n",
      "ExterQual - 0%\n",
      "ExterCond - 0%\n",
      "Foundation - 0%\n",
      "BsmtQual - 3%\n",
      "BsmtCond - 3%\n",
      "BsmtExposure - 3%\n",
      "BsmtFinType1 - 3%\n",
      "BsmtFinSF1 - 0%\n",
      "BsmtFinType2 - 3%\n",
      "BsmtFinSF2 - 0%\n",
      "BsmtUnfSF - 0%\n",
      "TotalBsmtSF - 0%\n",
      "Heating - 0%\n",
      "HeatingQC - 0%\n",
      "CentralAir - 0%\n",
      "Electrical - 0%\n",
      "1stFlrSF - 0%\n",
      "2ndFlrSF - 0%\n",
      "LowQualFinSF - 0%\n",
      "GrLivArea - 0%\n",
      "BsmtFullBath - 0%\n",
      "BsmtHalfBath - 0%\n",
      "FullBath - 0%\n",
      "HalfBath - 0%\n",
      "BedroomAbvGr - 0%\n",
      "KitchenAbvGr - 0%\n",
      "KitchenQual - 0%\n",
      "TotRmsAbvGrd - 0%\n",
      "Functional - 0%\n",
      "Fireplaces - 0%\n",
      "FireplaceQu - 47%\n",
      "GarageType - 6%\n",
      "GarageYrBlt - 6%\n",
      "GarageFinish - 6%\n",
      "GarageCars - 0%\n",
      "GarageArea - 0%\n",
      "GarageQual - 6%\n",
      "GarageCond - 6%\n",
      "PavedDrive - 0%\n",
      "WoodDeckSF - 0%\n",
      "OpenPorchSF - 0%\n",
      "EnclosedPorch - 0%\n",
      "3SsnPorch - 0%\n",
      "ScreenPorch - 0%\n",
      "PoolArea - 0%\n",
      "PoolQC - 100%\n",
      "Fence - 81%\n",
      "MiscFeature - 96%\n",
      "MiscVal - 0%\n",
      "MoSold - 0%\n",
      "YrSold - 0%\n",
      "SaleType - 0%\n",
      "SaleCondition - 0%\n"
     ]
    }
   ],
   "source": [
    "#for testdata\n",
    "for col in test_data.columns:\n",
    "    pct_missing=np.mean(train_data[col].isnull())\n",
    "    print('{} - {}%'.format(col,round(pct_missing*100)))"
   ]
  },
  {
   "cell_type": "markdown",
   "id": "8938fec7",
   "metadata": {
    "papermill": {
     "duration": 0.073681,
     "end_time": "2021-09-11T12:48:27.202724",
     "exception": false,
     "start_time": "2021-09-11T12:48:27.129043",
     "status": "completed"
    },
    "tags": []
   },
   "source": [
    "**Missing Data Histogram ****"
   ]
  },
  {
   "cell_type": "code",
   "execution_count": 16,
   "id": "751fac0a",
   "metadata": {
    "execution": {
     "iopub.execute_input": "2021-09-11T12:48:27.375466Z",
     "iopub.status.busy": "2021-09-11T12:48:27.372532Z",
     "iopub.status.idle": "2021-09-11T12:48:27.659809Z",
     "shell.execute_reply": "2021-09-11T12:48:27.659230Z",
     "shell.execute_reply.started": "2021-09-11T12:26:25.772060Z"
    },
    "papermill": {
     "duration": 0.38202,
     "end_time": "2021-09-11T12:48:27.659992",
     "exception": false,
     "start_time": "2021-09-11T12:48:27.277972",
     "status": "completed"
    },
    "tags": []
   },
   "outputs": [
    {
     "name": "stdout",
     "output_type": "stream",
     "text": [
      "created missing indicator for:LotFrontage\n",
      "created missing indicator for:Alley\n",
      "created missing indicator for:MasVnrType\n",
      "created missing indicator for:MasVnrArea\n",
      "created missing indicator for:BsmtQual\n",
      "created missing indicator for:BsmtCond\n",
      "created missing indicator for:BsmtExposure\n",
      "created missing indicator for:BsmtFinType1\n",
      "created missing indicator for:BsmtFinType2\n",
      "created missing indicator for:Electrical\n",
      "created missing indicator for:FireplaceQu\n",
      "created missing indicator for:GarageType\n",
      "created missing indicator for:GarageYrBlt\n",
      "created missing indicator for:GarageFinish\n",
      "created missing indicator for:GarageQual\n",
      "created missing indicator for:GarageCond\n",
      "created missing indicator for:PoolQC\n",
      "created missing indicator for:Fence\n",
      "created missing indicator for:MiscFeature\n"
     ]
    },
    {
     "data": {
      "text/plain": [
       "<AxesSubplot:xlabel='index'>"
      ]
     },
     "execution_count": 16,
     "metadata": {},
     "output_type": "execute_result"
    },
    {
     "data": {
      "image/png": "[encoded data removed]",
      "text/plain": [
       "<Figure size 432x288 with 1 Axes>"
      ]
     },
     "metadata": {
      "needs_background": "light"
     },
     "output_type": "display_data"
    }
   ],
   "source": [
    "for col in train_data.columns:\n",
    "    missing=train_data[col].isnull()\n",
    "    num_missing= np.sum(missing)\n",
    "    \n",
    "    if num_missing >0:\n",
    "        print('created missing indicator for:{}'.format(col))\n",
    "        train_data['{}_ismissing'.format(col)]=missing\n",
    "        \n",
    "#then based on the indicator , plot the histogram of missing values \n",
    "ismissing_cols=[col for col in train_data.columns if 'ismissing' in col]\n",
    "train_data['num_missing']= train_data[ismissing_cols].sum(axis=1)\n",
    "\n",
    "train_data['num_missing'].value_counts().reset_index().sort_values(by='index').plot.bar(x='index',y='num_missing')"
   ]
  },
  {
   "cell_type": "code",
   "execution_count": 17,
   "id": "c198cae5",
   "metadata": {
    "execution": {
     "iopub.execute_input": "2021-09-11T12:48:27.816685Z",
     "iopub.status.busy": "2021-09-11T12:48:27.816025Z",
     "iopub.status.idle": "2021-09-11T12:48:27.836607Z",
     "shell.execute_reply": "2021-09-11T12:48:27.835898Z",
     "shell.execute_reply.started": "2021-09-11T12:26:26.074195Z"
    },
    "papermill": {
     "duration": 0.100961,
     "end_time": "2021-09-11T12:48:27.836764",
     "exception": false,
     "start_time": "2021-09-11T12:48:27.735803",
     "status": "completed"
    },
    "tags": []
   },
   "outputs": [],
   "source": [
    "#droping rows with alot of missing values \n",
    "ind_missing=train_data[train_data['num_missing']>35].index\n",
    "train_data_missing_rows=train_data.drop(ind_missing,axis=0)"
   ]
  },
  {
   "cell_type": "code",
   "execution_count": 18,
   "id": "6a75f22d",
   "metadata": {
    "execution": {
     "iopub.execute_input": "2021-09-11T12:48:27.992150Z",
     "iopub.status.busy": "2021-09-11T12:48:27.991515Z",
     "iopub.status.idle": "2021-09-11T12:48:27.999943Z",
     "shell.execute_reply": "2021-09-11T12:48:27.999215Z",
     "shell.execute_reply.started": "2021-09-11T12:26:26.090309Z"
    },
    "papermill": {
     "duration": 0.087716,
     "end_time": "2021-09-11T12:48:28.000101",
     "exception": false,
     "start_time": "2021-09-11T12:48:27.912385",
     "status": "completed"
    },
    "tags": []
   },
   "outputs": [],
   "source": [
    "#as we know the Alley has most of the missing values from whole dataset so we will drop the whole feature \n",
    "cols_to_drop=['Alley']\n",
    "train_data_Alley=train_data.drop(cols_to_drop,axis=1)"
   ]
  },
  {
   "cell_type": "code",
   "execution_count": 19,
   "id": "27fd417c",
   "metadata": {
    "execution": {
     "iopub.execute_input": "2021-09-11T12:48:28.159260Z",
     "iopub.status.busy": "2021-09-11T12:48:28.158546Z",
     "iopub.status.idle": "2021-09-11T12:48:28.161456Z",
     "shell.execute_reply": "2021-09-11T12:48:28.160903Z",
     "shell.execute_reply.started": "2021-09-11T12:26:26.100185Z"
    },
    "papermill": {
     "duration": 0.085515,
     "end_time": "2021-09-11T12:48:28.161602",
     "exception": false,
     "start_time": "2021-09-11T12:48:28.076087",
     "status": "completed"
    },
    "tags": []
   },
   "outputs": [],
   "source": [
    "#lets drop the column alley in test_data as well since we have droped it in train_data too\n",
    "cols_to_drop=['Alley']\n",
    "test_data_Alley=test_data.drop(cols_to_drop,axis=1)"
   ]
  },
  {
   "cell_type": "code",
   "execution_count": 20,
   "id": "d309ae4f",
   "metadata": {
    "execution": {
     "iopub.execute_input": "2021-09-11T12:48:28.333025Z",
     "iopub.status.busy": "2021-09-11T12:48:28.328515Z",
     "iopub.status.idle": "2021-09-11T12:48:28.340578Z",
     "shell.execute_reply": "2021-09-11T12:48:28.339953Z",
     "shell.execute_reply.started": "2021-09-11T12:26:26.117310Z"
    },
    "papermill": {
     "duration": 0.103594,
     "end_time": "2021-09-11T12:48:28.340734",
     "exception": false,
     "start_time": "2021-09-11T12:48:28.237140",
     "status": "completed"
    },
    "tags": []
   },
   "outputs": [
    {
     "name": "stdout",
     "output_type": "stream",
     "text": [
      "Imputing missing values for:LotFrontage\n",
      "Imputing missing values for:MasVnrArea\n",
      "Imputing missing values for:GarageYrBlt\n"
     ]
    }
   ],
   "source": [
    "#now we will apply imputation on all the numeric features at once for all\n",
    "train_data_numeric =train_data.select_dtypes(include=[np.number])\n",
    "numeric_cols=train_data_numeric.columns.values\n",
    "\n",
    "for col in numeric_cols:\n",
    "    missing=train_data[col].isnull()\n",
    "    num_missing=np.sum(missing)\n",
    "    \n",
    "    if num_missing > 0:\n",
    "        print('Imputing missing values for:{}'.format(col))\n",
    "        train_data['{}_ismissing'.format(col)]=missing\n",
    "        med= train_data[col].median()\n",
    "        train_data[col]=train_data[col].fillna(med)"
   ]
  },
  {
   "cell_type": "markdown",
   "id": "5a731eff",
   "metadata": {
    "papermill": {
     "duration": 0.075111,
     "end_time": "2021-09-11T12:48:28.491674",
     "exception": false,
     "start_time": "2021-09-11T12:48:28.416563",
     "status": "completed"
    },
    "tags": []
   },
   "source": [
    "**Irregular Data outliers****"
   ]
  },
  {
   "cell_type": "code",
   "execution_count": 21,
   "id": "abb79d7f",
   "metadata": {
    "execution": {
     "iopub.execute_input": "2021-09-11T12:48:28.671521Z",
     "iopub.status.busy": "2021-09-11T12:48:28.670806Z",
     "iopub.status.idle": "2021-09-11T12:48:28.971545Z",
     "shell.execute_reply": "2021-09-11T12:48:28.971001Z",
     "shell.execute_reply.started": "2021-09-11T12:31:18.569672Z"
    },
    "papermill": {
     "duration": 0.40453,
     "end_time": "2021-09-11T12:48:28.971711",
     "exception": false,
     "start_time": "2021-09-11T12:48:28.567181",
     "status": "completed"
    },
    "tags": []
   },
   "outputs": [
    {
     "data": {
      "text/plain": [
       "<AxesSubplot:>"
      ]
     },
     "execution_count": 21,
     "metadata": {},
     "output_type": "execute_result"
    },
    {
     "data": {
      "image/png": "[encoded data removed]",
      "text/plain": [
       "<Figure size 432x288 with 1 Axes>"
      ]
     },
     "metadata": {
      "needs_background": "light"
     },
     "output_type": "display_data"
    }
   ],
   "source": [
    "#histogram of Alley \n",
    "train_data['Alley'].hist(bins=100)\n"
   ]
  },
  {
   "cell_type": "code",
   "execution_count": 22,
   "id": "599fd053",
   "metadata": {
    "execution": {
     "iopub.execute_input": "2021-09-11T12:48:29.156174Z",
     "iopub.status.busy": "2021-09-11T12:48:29.155463Z",
     "iopub.status.idle": "2021-09-11T12:48:29.462686Z",
     "shell.execute_reply": "2021-09-11T12:48:29.461985Z",
     "shell.execute_reply.started": "2021-09-11T12:31:13.870647Z"
    },
    "papermill": {
     "duration": 0.413361,
     "end_time": "2021-09-11T12:48:29.462851",
     "exception": false,
     "start_time": "2021-09-11T12:48:29.049490",
     "status": "completed"
    },
    "tags": []
   },
   "outputs": [
    {
     "data": {
      "text/plain": [
       "<AxesSubplot:>"
      ]
     },
     "execution_count": 22,
     "metadata": {},
     "output_type": "execute_result"
    },
    {
     "data": {
      "image/png": "[encoded data removed]",
      "text/plain": [
       "<Figure size 432x288 with 1 Axes>"
      ]
     },
     "metadata": {
      "needs_background": "light"
     },
     "output_type": "display_data"
    }
   ],
   "source": [
    "#histogram for alley for test_data\n",
    "test_data['Alley'].hist(bins=100)"
   ]
  },
  {
   "cell_type": "code",
   "execution_count": 23,
   "id": "077a18a8",
   "metadata": {
    "execution": {
     "iopub.execute_input": "2021-09-11T12:48:29.627276Z",
     "iopub.status.busy": "2021-09-11T12:48:29.626594Z",
     "iopub.status.idle": "2021-09-11T12:48:29.629345Z",
     "shell.execute_reply": "2021-09-11T12:48:29.629934Z",
     "shell.execute_reply.started": "2021-09-11T12:31:31.532060Z"
    },
    "papermill": {
     "duration": 0.089659,
     "end_time": "2021-09-11T12:48:29.630120",
     "exception": false,
     "start_time": "2021-09-11T12:48:29.540461",
     "status": "completed"
    },
    "tags": []
   },
   "outputs": [
    {
     "data": {
      "text/plain": [
       "count       91\n",
       "unique       2\n",
       "top       Grvl\n",
       "freq        50\n",
       "Name: Alley, dtype: object"
      ]
     },
     "execution_count": 23,
     "metadata": {},
     "output_type": "execute_result"
    }
   ],
   "source": [
    "train_data['Alley'].describe()"
   ]
  },
  {
   "cell_type": "markdown",
   "id": "235d6e0e",
   "metadata": {
    "papermill": {
     "duration": 0.078364,
     "end_time": "2021-09-11T12:48:29.787791",
     "exception": false,
     "start_time": "2021-09-11T12:48:29.709427",
     "status": "completed"
    },
    "tags": []
   },
   "source": [
    "some datasets have uninformative/repetative information which needs to be removed. lets find out how many features have repetitive data. now lets find out how many rows have duplicate features"
   ]
  },
  {
   "cell_type": "code",
   "execution_count": 24,
   "id": "5d7a396d",
   "metadata": {
    "execution": {
     "iopub.execute_input": "2021-09-11T12:48:29.950126Z",
     "iopub.status.busy": "2021-09-11T12:48:29.949482Z",
     "iopub.status.idle": "2021-09-11T12:48:29.954094Z",
     "shell.execute_reply": "2021-09-11T12:48:29.954586Z",
     "shell.execute_reply.started": "2021-09-11T12:31:41.767111Z"
    },
    "papermill": {
     "duration": 0.087818,
     "end_time": "2021-09-11T12:48:29.954766",
     "exception": false,
     "start_time": "2021-09-11T12:48:29.866948",
     "status": "completed"
    },
    "tags": []
   },
   "outputs": [
    {
     "name": "stdout",
     "output_type": "stream",
     "text": [
      "(1460, 101)\n"
     ]
    }
   ],
   "source": [
    "\n",
    "#finding oyt duplicate rows\n",
    "print(train_data.shape)"
   ]
  },
  {
   "cell_type": "code",
   "execution_count": 25,
   "id": "d6d9f058",
   "metadata": {
    "execution": {
     "iopub.execute_input": "2021-09-11T12:48:30.115740Z",
     "iopub.status.busy": "2021-09-11T12:48:30.115118Z",
     "iopub.status.idle": "2021-09-11T12:48:30.149515Z",
     "shell.execute_reply": "2021-09-11T12:48:30.150026Z",
     "shell.execute_reply.started": "2021-09-11T12:31:49.320987Z"
    },
    "papermill": {
     "duration": 0.116533,
     "end_time": "2021-09-11T12:48:30.150227",
     "exception": false,
     "start_time": "2021-09-11T12:48:30.033694",
     "status": "completed"
    },
    "tags": []
   },
   "outputs": [
    {
     "data": {
      "text/plain": [
       "MSSubClass  LotFrontage  LotArea  Street  LotShape  LandContour  Utilities\n",
       "160         21.0         1680     Pave    Reg       Lvl          AllPub       10\n",
       "20          80.0         9600     Pave    Reg       Lvl          AllPub        9\n",
       "            60.0         7200     Pave    Reg       Lvl          AllPub        9\n",
       "50          50.0         6000     Pave    Reg       Lvl          AllPub        6\n",
       "20          70.0         9100     Pave    Reg       Lvl          AllPub        6\n",
       "120         43.0         3182     Pave    Reg       Lvl          AllPub        5\n",
       "50          52.0         6240     Pave    Reg       Lvl          AllPub        5\n",
       "20          65.0         8450     Pave    Reg       Lvl          AllPub        5\n",
       "60          65.0         8125     Pave    Reg       Lvl          AllPub        5\n",
       "20          78.0         10140    Pave    Reg       Lvl          AllPub        4\n",
       "70          60.0         9600     Pave    Reg       Lvl          AllPub        4\n",
       "20          70.0         8400     Pave    Reg       Lvl          AllPub        4\n",
       "30          60.0         10800    Pave    Reg       Lvl          AllPub        3\n",
       "20          80.0         10400    Pave    Reg       Lvl          AllPub        3\n",
       "180         35.0         3675     Pave    Reg       Lvl          AllPub        3\n",
       "80          80.0         9600     Pave    Reg       Lvl          AllPub        3\n",
       "20          64.0         6762     Pave    Reg       Lvl          AllPub        3\n",
       "50          60.0         10800    Pave    Reg       Lvl          AllPub        3\n",
       "                         7200     Pave    Reg       Lvl          AllPub        3\n",
       "160         69.0         2117     Pave    Reg       Lvl          AllPub        3\n",
       "Name: Id, dtype: int64"
      ]
     },
     "execution_count": 25,
     "metadata": {},
     "output_type": "execute_result"
    }
   ],
   "source": [
    "key=['MSSubClass','LotFrontage','LotArea','Street','LotShape','LandContour','Utilities']\n",
    "train_data.fillna(-999).groupby(key)['Id'].count().sort_values(ascending=False).head(20)"
   ]
  },
  {
   "cell_type": "markdown",
   "id": "fde0945a",
   "metadata": {
    "papermill": {
     "duration": 0.079297,
     "end_time": "2021-09-11T12:48:30.307795",
     "exception": false,
     "start_time": "2021-09-11T12:48:30.228498",
     "status": "completed"
    },
    "tags": []
   },
   "source": [
    "lets drop the duplicate based on its key feature "
   ]
  },
  {
   "cell_type": "code",
   "execution_count": 26,
   "id": "29515f8e",
   "metadata": {
    "execution": {
     "iopub.execute_input": "2021-09-11T12:48:30.479085Z",
     "iopub.status.busy": "2021-09-11T12:48:30.478415Z",
     "iopub.status.idle": "2021-09-11T12:48:30.489035Z",
     "shell.execute_reply": "2021-09-11T12:48:30.488444Z",
     "shell.execute_reply.started": "2021-09-11T12:32:05.336931Z"
    },
    "papermill": {
     "duration": 0.101923,
     "end_time": "2021-09-11T12:48:30.489189",
     "exception": false,
     "start_time": "2021-09-11T12:48:30.387266",
     "status": "completed"
    },
    "tags": []
   },
   "outputs": [
    {
     "name": "stdout",
     "output_type": "stream",
     "text": [
      "(1460, 101)\n",
      "(1294, 101)\n"
     ]
    }
   ],
   "source": [
    "#droping duplicates based on the subset of variables\n",
    "key=['MSSubClass','LotFrontage','LotArea','Street','LotShape','LandContour','Utilities']\n",
    "train_data_dedupped2=train_data.drop_duplicates(subset=key)\n",
    "print(train_data.shape)\n",
    "print(train_data_dedupped2.shape)"
   ]
  },
  {
   "cell_type": "code",
   "execution_count": 27,
   "id": "77234334",
   "metadata": {
    "execution": {
     "iopub.execute_input": "2021-09-11T12:48:30.656675Z",
     "iopub.status.busy": "2021-09-11T12:48:30.655540Z",
     "iopub.status.idle": "2021-09-11T12:48:30.666514Z",
     "shell.execute_reply": "2021-09-11T12:48:30.667166Z",
     "shell.execute_reply.started": "2021-09-11T12:33:22.051168Z"
    },
    "papermill": {
     "duration": 0.098598,
     "end_time": "2021-09-11T12:48:30.667426",
     "exception": false,
     "start_time": "2021-09-11T12:48:30.568828",
     "status": "completed"
    },
    "tags": []
   },
   "outputs": [
    {
     "name": "stdout",
     "output_type": "stream",
     "text": [
      "(1459, 80)\n",
      "(1310, 80)\n"
     ]
    }
   ],
   "source": [
    "#dropping columns for test dataset \n",
    "#droping duplicates based on the subset of variables\n",
    "key=['MSSubClass','LotFrontage','LotArea','Street','LotShape','LandContour','Utilities']\n",
    "test_data_dedupped2=test_data.drop_duplicates(subset=key)\n",
    "print(test_data.shape)\n",
    "print(test_data_dedupped2.shape)"
   ]
  },
  {
   "cell_type": "markdown",
   "id": "9c7ce621",
   "metadata": {
    "papermill": {
     "duration": 0.079184,
     "end_time": "2021-09-11T12:48:30.826387",
     "exception": false,
     "start_time": "2021-09-11T12:48:30.747203",
     "status": "completed"
    },
    "tags": []
   },
   "source": [
    "now we have droped all the duplicates "
   ]
  },
  {
   "cell_type": "code",
   "execution_count": 28,
   "id": "75317c3f",
   "metadata": {
    "execution": {
     "iopub.execute_input": "2021-09-11T12:48:30.997153Z",
     "iopub.status.busy": "2021-09-11T12:48:30.992713Z",
     "iopub.status.idle": "2021-09-11T12:48:31.032484Z",
     "shell.execute_reply": "2021-09-11T12:48:31.031837Z",
     "shell.execute_reply.started": "2021-09-11T12:33:40.331318Z"
    },
    "papermill": {
     "duration": 0.12677,
     "end_time": "2021-09-11T12:48:31.032637",
     "exception": false,
     "start_time": "2021-09-11T12:48:30.905867",
     "status": "completed"
    },
    "tags": []
   },
   "outputs": [
    {
     "data": {
      "text/html": [
       "<div>\n",
       "<style scoped>\n",
       "    .dataframe tbody tr th:only-of-type {\n",
       "        vertical-align: middle;\n",
       "    }\n",
       "\n",
       "    .dataframe tbody tr th {\n",
       "        vertical-align: top;\n",
       "    }\n",
       "\n",
       "    .dataframe thead th {\n",
       "        text-align: right;\n",
       "    }\n",
       "</style>\n",
       "<table border=\"1\" class=\"dataframe\">\n",
       "  <thead>\n",
       "    <tr style=\"text-align: right;\">\n",
       "      <th></th>\n",
       "      <th>Id</th>\n",
       "      <th>MSSubClass</th>\n",
       "      <th>MSZoning</th>\n",
       "      <th>LotFrontage</th>\n",
       "      <th>LotArea</th>\n",
       "      <th>Street</th>\n",
       "      <th>LotShape</th>\n",
       "      <th>LandContour</th>\n",
       "      <th>Utilities</th>\n",
       "      <th>LotConfig</th>\n",
       "      <th>...</th>\n",
       "      <th>FireplaceQu_ismissing</th>\n",
       "      <th>GarageType_ismissing</th>\n",
       "      <th>GarageYrBlt_ismissing</th>\n",
       "      <th>GarageFinish_ismissing</th>\n",
       "      <th>GarageQual_ismissing</th>\n",
       "      <th>GarageCond_ismissing</th>\n",
       "      <th>PoolQC_ismissing</th>\n",
       "      <th>Fence_ismissing</th>\n",
       "      <th>MiscFeature_ismissing</th>\n",
       "      <th>num_missing</th>\n",
       "    </tr>\n",
       "  </thead>\n",
       "  <tbody>\n",
       "    <tr>\n",
       "      <th>0</th>\n",
       "      <td>1</td>\n",
       "      <td>60</td>\n",
       "      <td>RL</td>\n",
       "      <td>65.0</td>\n",
       "      <td>8450</td>\n",
       "      <td>Pave</td>\n",
       "      <td>Reg</td>\n",
       "      <td>Lvl</td>\n",
       "      <td>AllPub</td>\n",
       "      <td>Inside</td>\n",
       "      <td>...</td>\n",
       "      <td>True</td>\n",
       "      <td>False</td>\n",
       "      <td>False</td>\n",
       "      <td>False</td>\n",
       "      <td>False</td>\n",
       "      <td>False</td>\n",
       "      <td>True</td>\n",
       "      <td>True</td>\n",
       "      <td>True</td>\n",
       "      <td>5</td>\n",
       "    </tr>\n",
       "    <tr>\n",
       "      <th>1</th>\n",
       "      <td>2</td>\n",
       "      <td>20</td>\n",
       "      <td>RL</td>\n",
       "      <td>80.0</td>\n",
       "      <td>9600</td>\n",
       "      <td>Pave</td>\n",
       "      <td>Reg</td>\n",
       "      <td>Lvl</td>\n",
       "      <td>AllPub</td>\n",
       "      <td>FR2</td>\n",
       "      <td>...</td>\n",
       "      <td>False</td>\n",
       "      <td>False</td>\n",
       "      <td>False</td>\n",
       "      <td>False</td>\n",
       "      <td>False</td>\n",
       "      <td>False</td>\n",
       "      <td>True</td>\n",
       "      <td>True</td>\n",
       "      <td>True</td>\n",
       "      <td>4</td>\n",
       "    </tr>\n",
       "    <tr>\n",
       "      <th>2</th>\n",
       "      <td>3</td>\n",
       "      <td>60</td>\n",
       "      <td>RL</td>\n",
       "      <td>68.0</td>\n",
       "      <td>11250</td>\n",
       "      <td>Pave</td>\n",
       "      <td>IR1</td>\n",
       "      <td>Lvl</td>\n",
       "      <td>AllPub</td>\n",
       "      <td>Inside</td>\n",
       "      <td>...</td>\n",
       "      <td>False</td>\n",
       "      <td>False</td>\n",
       "      <td>False</td>\n",
       "      <td>False</td>\n",
       "      <td>False</td>\n",
       "      <td>False</td>\n",
       "      <td>True</td>\n",
       "      <td>True</td>\n",
       "      <td>True</td>\n",
       "      <td>4</td>\n",
       "    </tr>\n",
       "    <tr>\n",
       "      <th>3</th>\n",
       "      <td>4</td>\n",
       "      <td>70</td>\n",
       "      <td>RL</td>\n",
       "      <td>60.0</td>\n",
       "      <td>9550</td>\n",
       "      <td>Pave</td>\n",
       "      <td>IR1</td>\n",
       "      <td>Lvl</td>\n",
       "      <td>AllPub</td>\n",
       "      <td>Corner</td>\n",
       "      <td>...</td>\n",
       "      <td>False</td>\n",
       "      <td>False</td>\n",
       "      <td>False</td>\n",
       "      <td>False</td>\n",
       "      <td>False</td>\n",
       "      <td>False</td>\n",
       "      <td>True</td>\n",
       "      <td>True</td>\n",
       "      <td>True</td>\n",
       "      <td>4</td>\n",
       "    </tr>\n",
       "    <tr>\n",
       "      <th>4</th>\n",
       "      <td>5</td>\n",
       "      <td>60</td>\n",
       "      <td>RL</td>\n",
       "      <td>84.0</td>\n",
       "      <td>14260</td>\n",
       "      <td>Pave</td>\n",
       "      <td>IR1</td>\n",
       "      <td>Lvl</td>\n",
       "      <td>AllPub</td>\n",
       "      <td>FR2</td>\n",
       "      <td>...</td>\n",
       "      <td>False</td>\n",
       "      <td>False</td>\n",
       "      <td>False</td>\n",
       "      <td>False</td>\n",
       "      <td>False</td>\n",
       "      <td>False</td>\n",
       "      <td>True</td>\n",
       "      <td>True</td>\n",
       "      <td>True</td>\n",
       "      <td>4</td>\n",
       "    </tr>\n",
       "    <tr>\n",
       "      <th>...</th>\n",
       "      <td>...</td>\n",
       "      <td>...</td>\n",
       "      <td>...</td>\n",
       "      <td>...</td>\n",
       "      <td>...</td>\n",
       "      <td>...</td>\n",
       "      <td>...</td>\n",
       "      <td>...</td>\n",
       "      <td>...</td>\n",
       "      <td>...</td>\n",
       "      <td>...</td>\n",
       "      <td>...</td>\n",
       "      <td>...</td>\n",
       "      <td>...</td>\n",
       "      <td>...</td>\n",
       "      <td>...</td>\n",
       "      <td>...</td>\n",
       "      <td>...</td>\n",
       "      <td>...</td>\n",
       "      <td>...</td>\n",
       "      <td>...</td>\n",
       "    </tr>\n",
       "    <tr>\n",
       "      <th>1455</th>\n",
       "      <td>1456</td>\n",
       "      <td>60</td>\n",
       "      <td>RL</td>\n",
       "      <td>62.0</td>\n",
       "      <td>7917</td>\n",
       "      <td>Pave</td>\n",
       "      <td>Reg</td>\n",
       "      <td>Lvl</td>\n",
       "      <td>AllPub</td>\n",
       "      <td>Inside</td>\n",
       "      <td>...</td>\n",
       "      <td>False</td>\n",
       "      <td>False</td>\n",
       "      <td>False</td>\n",
       "      <td>False</td>\n",
       "      <td>False</td>\n",
       "      <td>False</td>\n",
       "      <td>True</td>\n",
       "      <td>True</td>\n",
       "      <td>True</td>\n",
       "      <td>4</td>\n",
       "    </tr>\n",
       "    <tr>\n",
       "      <th>1456</th>\n",
       "      <td>1457</td>\n",
       "      <td>20</td>\n",
       "      <td>RL</td>\n",
       "      <td>85.0</td>\n",
       "      <td>13175</td>\n",
       "      <td>Pave</td>\n",
       "      <td>Reg</td>\n",
       "      <td>Lvl</td>\n",
       "      <td>AllPub</td>\n",
       "      <td>Inside</td>\n",
       "      <td>...</td>\n",
       "      <td>False</td>\n",
       "      <td>False</td>\n",
       "      <td>False</td>\n",
       "      <td>False</td>\n",
       "      <td>False</td>\n",
       "      <td>False</td>\n",
       "      <td>True</td>\n",
       "      <td>False</td>\n",
       "      <td>True</td>\n",
       "      <td>3</td>\n",
       "    </tr>\n",
       "    <tr>\n",
       "      <th>1457</th>\n",
       "      <td>1458</td>\n",
       "      <td>70</td>\n",
       "      <td>RL</td>\n",
       "      <td>66.0</td>\n",
       "      <td>9042</td>\n",
       "      <td>Pave</td>\n",
       "      <td>Reg</td>\n",
       "      <td>Lvl</td>\n",
       "      <td>AllPub</td>\n",
       "      <td>Inside</td>\n",
       "      <td>...</td>\n",
       "      <td>False</td>\n",
       "      <td>False</td>\n",
       "      <td>False</td>\n",
       "      <td>False</td>\n",
       "      <td>False</td>\n",
       "      <td>False</td>\n",
       "      <td>True</td>\n",
       "      <td>False</td>\n",
       "      <td>False</td>\n",
       "      <td>2</td>\n",
       "    </tr>\n",
       "    <tr>\n",
       "      <th>1458</th>\n",
       "      <td>1459</td>\n",
       "      <td>20</td>\n",
       "      <td>RL</td>\n",
       "      <td>68.0</td>\n",
       "      <td>9717</td>\n",
       "      <td>Pave</td>\n",
       "      <td>Reg</td>\n",
       "      <td>Lvl</td>\n",
       "      <td>AllPub</td>\n",
       "      <td>Inside</td>\n",
       "      <td>...</td>\n",
       "      <td>True</td>\n",
       "      <td>False</td>\n",
       "      <td>False</td>\n",
       "      <td>False</td>\n",
       "      <td>False</td>\n",
       "      <td>False</td>\n",
       "      <td>True</td>\n",
       "      <td>True</td>\n",
       "      <td>True</td>\n",
       "      <td>5</td>\n",
       "    </tr>\n",
       "    <tr>\n",
       "      <th>1459</th>\n",
       "      <td>1460</td>\n",
       "      <td>20</td>\n",
       "      <td>RL</td>\n",
       "      <td>75.0</td>\n",
       "      <td>9937</td>\n",
       "      <td>Pave</td>\n",
       "      <td>Reg</td>\n",
       "      <td>Lvl</td>\n",
       "      <td>AllPub</td>\n",
       "      <td>Inside</td>\n",
       "      <td>...</td>\n",
       "      <td>True</td>\n",
       "      <td>False</td>\n",
       "      <td>False</td>\n",
       "      <td>False</td>\n",
       "      <td>False</td>\n",
       "      <td>False</td>\n",
       "      <td>True</td>\n",
       "      <td>True</td>\n",
       "      <td>True</td>\n",
       "      <td>5</td>\n",
       "    </tr>\n",
       "  </tbody>\n",
       "</table>\n",
       "<p>1460 rows × 100 columns</p>\n",
       "</div>"
      ],
      "text/plain": [
       "        Id  MSSubClass MSZoning  LotFrontage  LotArea Street LotShape  \\\n",
       "0        1          60       RL         65.0     8450   Pave      Reg   \n",
       "1        2          20       RL         80.0     9600   Pave      Reg   \n",
       "2        3          60       RL         68.0    11250   Pave      IR1   \n",
       "3        4          70       RL         60.0     9550   Pave      IR1   \n",
       "4        5          60       RL         84.0    14260   Pave      IR1   \n",
       "...    ...         ...      ...          ...      ...    ...      ...   \n",
       "1455  1456          60       RL         62.0     7917   Pave      Reg   \n",
       "1456  1457          20       RL         85.0    13175   Pave      Reg   \n",
       "1457  1458          70       RL         66.0     9042   Pave      Reg   \n",
       "1458  1459          20       RL         68.0     9717   Pave      Reg   \n",
       "1459  1460          20       RL         75.0     9937   Pave      Reg   \n",
       "\n",
       "     LandContour Utilities LotConfig  ... FireplaceQu_ismissing  \\\n",
       "0            Lvl    AllPub    Inside  ...                  True   \n",
       "1            Lvl    AllPub       FR2  ...                 False   \n",
       "2            Lvl    AllPub    Inside  ...                 False   \n",
       "3            Lvl    AllPub    Corner  ...                 False   \n",
       "4            Lvl    AllPub       FR2  ...                 False   \n",
       "...          ...       ...       ...  ...                   ...   \n",
       "1455         Lvl    AllPub    Inside  ...                 False   \n",
       "1456         Lvl    AllPub    Inside  ...                 False   \n",
       "1457         Lvl    AllPub    Inside  ...                 False   \n",
       "1458         Lvl    AllPub    Inside  ...                  True   \n",
       "1459         Lvl    AllPub    Inside  ...                  True   \n",
       "\n",
       "     GarageType_ismissing GarageYrBlt_ismissing GarageFinish_ismissing  \\\n",
       "0                   False                 False                  False   \n",
       "1                   False                 False                  False   \n",
       "2                   False                 False                  False   \n",
       "3                   False                 False                  False   \n",
       "4                   False                 False                  False   \n",
       "...                   ...                   ...                    ...   \n",
       "1455                False                 False                  False   \n",
       "1456                False                 False                  False   \n",
       "1457                False                 False                  False   \n",
       "1458                False                 False                  False   \n",
       "1459                False                 False                  False   \n",
       "\n",
       "     GarageQual_ismissing GarageCond_ismissing  PoolQC_ismissing  \\\n",
       "0                   False                False              True   \n",
       "1                   False                False              True   \n",
       "2                   False                False              True   \n",
       "3                   False                False              True   \n",
       "4                   False                False              True   \n",
       "...                   ...                  ...               ...   \n",
       "1455                False                False              True   \n",
       "1456                False                False              True   \n",
       "1457                False                False              True   \n",
       "1458                False                False              True   \n",
       "1459                False                False              True   \n",
       "\n",
       "      Fence_ismissing  MiscFeature_ismissing  num_missing  \n",
       "0                True                   True            5  \n",
       "1                True                   True            4  \n",
       "2                True                   True            4  \n",
       "3                True                   True            4  \n",
       "4                True                   True            4  \n",
       "...               ...                    ...          ...  \n",
       "1455             True                   True            4  \n",
       "1456            False                   True            3  \n",
       "1457            False                  False            2  \n",
       "1458             True                   True            5  \n",
       "1459             True                   True            5  \n",
       "\n",
       "[1460 rows x 100 columns]"
      ]
     },
     "execution_count": 28,
     "metadata": {},
     "output_type": "execute_result"
    }
   ],
   "source": [
    "train_data.drop(['Alley'],axis=1)"
   ]
  },
  {
   "cell_type": "code",
   "execution_count": 29,
   "id": "bcebd33c",
   "metadata": {
    "execution": {
     "iopub.execute_input": "2021-09-11T12:48:31.200897Z",
     "iopub.status.busy": "2021-09-11T12:48:31.198545Z",
     "iopub.status.idle": "2021-09-11T12:48:31.239269Z",
     "shell.execute_reply": "2021-09-11T12:48:31.238737Z",
     "shell.execute_reply.started": "2021-09-11T12:35:17.768752Z"
    },
    "papermill": {
     "duration": 0.126821,
     "end_time": "2021-09-11T12:48:31.239428",
     "exception": false,
     "start_time": "2021-09-11T12:48:31.112607",
     "status": "completed"
    },
    "tags": []
   },
   "outputs": [
    {
     "data": {
      "text/html": [
       "<div>\n",
       "<style scoped>\n",
       "    .dataframe tbody tr th:only-of-type {\n",
       "        vertical-align: middle;\n",
       "    }\n",
       "\n",
       "    .dataframe tbody tr th {\n",
       "        vertical-align: top;\n",
       "    }\n",
       "\n",
       "    .dataframe thead th {\n",
       "        text-align: right;\n",
       "    }\n",
       "</style>\n",
       "<table border=\"1\" class=\"dataframe\">\n",
       "  <thead>\n",
       "    <tr style=\"text-align: right;\">\n",
       "      <th></th>\n",
       "      <th>Id</th>\n",
       "      <th>MSSubClass</th>\n",
       "      <th>MSZoning</th>\n",
       "      <th>LotFrontage</th>\n",
       "      <th>LotArea</th>\n",
       "      <th>Street</th>\n",
       "      <th>LotShape</th>\n",
       "      <th>LandContour</th>\n",
       "      <th>Utilities</th>\n",
       "      <th>LotConfig</th>\n",
       "      <th>...</th>\n",
       "      <th>ScreenPorch</th>\n",
       "      <th>PoolArea</th>\n",
       "      <th>PoolQC</th>\n",
       "      <th>Fence</th>\n",
       "      <th>MiscFeature</th>\n",
       "      <th>MiscVal</th>\n",
       "      <th>MoSold</th>\n",
       "      <th>YrSold</th>\n",
       "      <th>SaleType</th>\n",
       "      <th>SaleCondition</th>\n",
       "    </tr>\n",
       "  </thead>\n",
       "  <tbody>\n",
       "    <tr>\n",
       "      <th>0</th>\n",
       "      <td>1461</td>\n",
       "      <td>20</td>\n",
       "      <td>RH</td>\n",
       "      <td>80.0</td>\n",
       "      <td>11622</td>\n",
       "      <td>Pave</td>\n",
       "      <td>Reg</td>\n",
       "      <td>Lvl</td>\n",
       "      <td>AllPub</td>\n",
       "      <td>Inside</td>\n",
       "      <td>...</td>\n",
       "      <td>120</td>\n",
       "      <td>0</td>\n",
       "      <td>NaN</td>\n",
       "      <td>MnPrv</td>\n",
       "      <td>NaN</td>\n",
       "      <td>0</td>\n",
       "      <td>6</td>\n",
       "      <td>2010</td>\n",
       "      <td>WD</td>\n",
       "      <td>Normal</td>\n",
       "    </tr>\n",
       "    <tr>\n",
       "      <th>1</th>\n",
       "      <td>1462</td>\n",
       "      <td>20</td>\n",
       "      <td>RL</td>\n",
       "      <td>81.0</td>\n",
       "      <td>14267</td>\n",
       "      <td>Pave</td>\n",
       "      <td>IR1</td>\n",
       "      <td>Lvl</td>\n",
       "      <td>AllPub</td>\n",
       "      <td>Corner</td>\n",
       "      <td>...</td>\n",
       "      <td>0</td>\n",
       "      <td>0</td>\n",
       "      <td>NaN</td>\n",
       "      <td>NaN</td>\n",
       "      <td>Gar2</td>\n",
       "      <td>12500</td>\n",
       "      <td>6</td>\n",
       "      <td>2010</td>\n",
       "      <td>WD</td>\n",
       "      <td>Normal</td>\n",
       "    </tr>\n",
       "    <tr>\n",
       "      <th>2</th>\n",
       "      <td>1463</td>\n",
       "      <td>60</td>\n",
       "      <td>RL</td>\n",
       "      <td>74.0</td>\n",
       "      <td>13830</td>\n",
       "      <td>Pave</td>\n",
       "      <td>IR1</td>\n",
       "      <td>Lvl</td>\n",
       "      <td>AllPub</td>\n",
       "      <td>Inside</td>\n",
       "      <td>...</td>\n",
       "      <td>0</td>\n",
       "      <td>0</td>\n",
       "      <td>NaN</td>\n",
       "      <td>MnPrv</td>\n",
       "      <td>NaN</td>\n",
       "      <td>0</td>\n",
       "      <td>3</td>\n",
       "      <td>2010</td>\n",
       "      <td>WD</td>\n",
       "      <td>Normal</td>\n",
       "    </tr>\n",
       "    <tr>\n",
       "      <th>3</th>\n",
       "      <td>1464</td>\n",
       "      <td>60</td>\n",
       "      <td>RL</td>\n",
       "      <td>78.0</td>\n",
       "      <td>9978</td>\n",
       "      <td>Pave</td>\n",
       "      <td>IR1</td>\n",
       "      <td>Lvl</td>\n",
       "      <td>AllPub</td>\n",
       "      <td>Inside</td>\n",
       "      <td>...</td>\n",
       "      <td>0</td>\n",
       "      <td>0</td>\n",
       "      <td>NaN</td>\n",
       "      <td>NaN</td>\n",
       "      <td>NaN</td>\n",
       "      <td>0</td>\n",
       "      <td>6</td>\n",
       "      <td>2010</td>\n",
       "      <td>WD</td>\n",
       "      <td>Normal</td>\n",
       "    </tr>\n",
       "    <tr>\n",
       "      <th>4</th>\n",
       "      <td>1465</td>\n",
       "      <td>120</td>\n",
       "      <td>RL</td>\n",
       "      <td>43.0</td>\n",
       "      <td>5005</td>\n",
       "      <td>Pave</td>\n",
       "      <td>IR1</td>\n",
       "      <td>HLS</td>\n",
       "      <td>AllPub</td>\n",
       "      <td>Inside</td>\n",
       "      <td>...</td>\n",
       "      <td>144</td>\n",
       "      <td>0</td>\n",
       "      <td>NaN</td>\n",
       "      <td>NaN</td>\n",
       "      <td>NaN</td>\n",
       "      <td>0</td>\n",
       "      <td>1</td>\n",
       "      <td>2010</td>\n",
       "      <td>WD</td>\n",
       "      <td>Normal</td>\n",
       "    </tr>\n",
       "    <tr>\n",
       "      <th>...</th>\n",
       "      <td>...</td>\n",
       "      <td>...</td>\n",
       "      <td>...</td>\n",
       "      <td>...</td>\n",
       "      <td>...</td>\n",
       "      <td>...</td>\n",
       "      <td>...</td>\n",
       "      <td>...</td>\n",
       "      <td>...</td>\n",
       "      <td>...</td>\n",
       "      <td>...</td>\n",
       "      <td>...</td>\n",
       "      <td>...</td>\n",
       "      <td>...</td>\n",
       "      <td>...</td>\n",
       "      <td>...</td>\n",
       "      <td>...</td>\n",
       "      <td>...</td>\n",
       "      <td>...</td>\n",
       "      <td>...</td>\n",
       "      <td>...</td>\n",
       "    </tr>\n",
       "    <tr>\n",
       "      <th>1454</th>\n",
       "      <td>2915</td>\n",
       "      <td>160</td>\n",
       "      <td>RM</td>\n",
       "      <td>21.0</td>\n",
       "      <td>1936</td>\n",
       "      <td>Pave</td>\n",
       "      <td>Reg</td>\n",
       "      <td>Lvl</td>\n",
       "      <td>AllPub</td>\n",
       "      <td>Inside</td>\n",
       "      <td>...</td>\n",
       "      <td>0</td>\n",
       "      <td>0</td>\n",
       "      <td>NaN</td>\n",
       "      <td>NaN</td>\n",
       "      <td>NaN</td>\n",
       "      <td>0</td>\n",
       "      <td>6</td>\n",
       "      <td>2006</td>\n",
       "      <td>WD</td>\n",
       "      <td>Normal</td>\n",
       "    </tr>\n",
       "    <tr>\n",
       "      <th>1455</th>\n",
       "      <td>2916</td>\n",
       "      <td>160</td>\n",
       "      <td>RM</td>\n",
       "      <td>21.0</td>\n",
       "      <td>1894</td>\n",
       "      <td>Pave</td>\n",
       "      <td>Reg</td>\n",
       "      <td>Lvl</td>\n",
       "      <td>AllPub</td>\n",
       "      <td>Inside</td>\n",
       "      <td>...</td>\n",
       "      <td>0</td>\n",
       "      <td>0</td>\n",
       "      <td>NaN</td>\n",
       "      <td>NaN</td>\n",
       "      <td>NaN</td>\n",
       "      <td>0</td>\n",
       "      <td>4</td>\n",
       "      <td>2006</td>\n",
       "      <td>WD</td>\n",
       "      <td>Abnorml</td>\n",
       "    </tr>\n",
       "    <tr>\n",
       "      <th>1456</th>\n",
       "      <td>2917</td>\n",
       "      <td>20</td>\n",
       "      <td>RL</td>\n",
       "      <td>160.0</td>\n",
       "      <td>20000</td>\n",
       "      <td>Pave</td>\n",
       "      <td>Reg</td>\n",
       "      <td>Lvl</td>\n",
       "      <td>AllPub</td>\n",
       "      <td>Inside</td>\n",
       "      <td>...</td>\n",
       "      <td>0</td>\n",
       "      <td>0</td>\n",
       "      <td>NaN</td>\n",
       "      <td>NaN</td>\n",
       "      <td>NaN</td>\n",
       "      <td>0</td>\n",
       "      <td>9</td>\n",
       "      <td>2006</td>\n",
       "      <td>WD</td>\n",
       "      <td>Abnorml</td>\n",
       "    </tr>\n",
       "    <tr>\n",
       "      <th>1457</th>\n",
       "      <td>2918</td>\n",
       "      <td>85</td>\n",
       "      <td>RL</td>\n",
       "      <td>62.0</td>\n",
       "      <td>10441</td>\n",
       "      <td>Pave</td>\n",
       "      <td>Reg</td>\n",
       "      <td>Lvl</td>\n",
       "      <td>AllPub</td>\n",
       "      <td>Inside</td>\n",
       "      <td>...</td>\n",
       "      <td>0</td>\n",
       "      <td>0</td>\n",
       "      <td>NaN</td>\n",
       "      <td>MnPrv</td>\n",
       "      <td>Shed</td>\n",
       "      <td>700</td>\n",
       "      <td>7</td>\n",
       "      <td>2006</td>\n",
       "      <td>WD</td>\n",
       "      <td>Normal</td>\n",
       "    </tr>\n",
       "    <tr>\n",
       "      <th>1458</th>\n",
       "      <td>2919</td>\n",
       "      <td>60</td>\n",
       "      <td>RL</td>\n",
       "      <td>74.0</td>\n",
       "      <td>9627</td>\n",
       "      <td>Pave</td>\n",
       "      <td>Reg</td>\n",
       "      <td>Lvl</td>\n",
       "      <td>AllPub</td>\n",
       "      <td>Inside</td>\n",
       "      <td>...</td>\n",
       "      <td>0</td>\n",
       "      <td>0</td>\n",
       "      <td>NaN</td>\n",
       "      <td>NaN</td>\n",
       "      <td>NaN</td>\n",
       "      <td>0</td>\n",
       "      <td>11</td>\n",
       "      <td>2006</td>\n",
       "      <td>WD</td>\n",
       "      <td>Normal</td>\n",
       "    </tr>\n",
       "  </tbody>\n",
       "</table>\n",
       "<p>1459 rows × 79 columns</p>\n",
       "</div>"
      ],
      "text/plain": [
       "        Id  MSSubClass MSZoning  LotFrontage  LotArea Street LotShape  \\\n",
       "0     1461          20       RH         80.0    11622   Pave      Reg   \n",
       "1     1462          20       RL         81.0    14267   Pave      IR1   \n",
       "2     1463          60       RL         74.0    13830   Pave      IR1   \n",
       "3     1464          60       RL         78.0     9978   Pave      IR1   \n",
       "4     1465         120       RL         43.0     5005   Pave      IR1   \n",
       "...    ...         ...      ...          ...      ...    ...      ...   \n",
       "1454  2915         160       RM         21.0     1936   Pave      Reg   \n",
       "1455  2916         160       RM         21.0     1894   Pave      Reg   \n",
       "1456  2917          20       RL        160.0    20000   Pave      Reg   \n",
       "1457  2918          85       RL         62.0    10441   Pave      Reg   \n",
       "1458  2919          60       RL         74.0     9627   Pave      Reg   \n",
       "\n",
       "     LandContour Utilities LotConfig  ... ScreenPorch PoolArea PoolQC  Fence  \\\n",
       "0            Lvl    AllPub    Inside  ...         120        0    NaN  MnPrv   \n",
       "1            Lvl    AllPub    Corner  ...           0        0    NaN    NaN   \n",
       "2            Lvl    AllPub    Inside  ...           0        0    NaN  MnPrv   \n",
       "3            Lvl    AllPub    Inside  ...           0        0    NaN    NaN   \n",
       "4            HLS    AllPub    Inside  ...         144        0    NaN    NaN   \n",
       "...          ...       ...       ...  ...         ...      ...    ...    ...   \n",
       "1454         Lvl    AllPub    Inside  ...           0        0    NaN    NaN   \n",
       "1455         Lvl    AllPub    Inside  ...           0        0    NaN    NaN   \n",
       "1456         Lvl    AllPub    Inside  ...           0        0    NaN    NaN   \n",
       "1457         Lvl    AllPub    Inside  ...           0        0    NaN  MnPrv   \n",
       "1458         Lvl    AllPub    Inside  ...           0        0    NaN    NaN   \n",
       "\n",
       "     MiscFeature MiscVal  MoSold  YrSold  SaleType  SaleCondition  \n",
       "0            NaN       0       6    2010        WD         Normal  \n",
       "1           Gar2   12500       6    2010        WD         Normal  \n",
       "2            NaN       0       3    2010        WD         Normal  \n",
       "3            NaN       0       6    2010        WD         Normal  \n",
       "4            NaN       0       1    2010        WD         Normal  \n",
       "...          ...     ...     ...     ...       ...            ...  \n",
       "1454         NaN       0       6    2006        WD         Normal  \n",
       "1455         NaN       0       4    2006        WD        Abnorml  \n",
       "1456         NaN       0       9    2006        WD        Abnorml  \n",
       "1457        Shed     700       7    2006        WD         Normal  \n",
       "1458         NaN       0      11    2006        WD         Normal  \n",
       "\n",
       "[1459 rows x 79 columns]"
      ]
     },
     "execution_count": 29,
     "metadata": {},
     "output_type": "execute_result"
    }
   ],
   "source": [
    "#dropping column for test data \n",
    "test_data.drop(['Alley'],axis=1)"
   ]
  },
  {
   "cell_type": "code",
   "execution_count": 30,
   "id": "5b3be602",
   "metadata": {
    "execution": {
     "iopub.execute_input": "2021-09-11T12:48:31.410338Z",
     "iopub.status.busy": "2021-09-11T12:48:31.409467Z",
     "iopub.status.idle": "2021-09-11T12:48:31.413771Z",
     "shell.execute_reply": "2021-09-11T12:48:31.413247Z",
     "shell.execute_reply.started": "2021-09-11T12:42:42.486125Z"
    },
    "papermill": {
     "duration": 0.092338,
     "end_time": "2021-09-11T12:48:31.413942",
     "exception": false,
     "start_time": "2021-09-11T12:48:31.321604",
     "status": "completed"
    },
    "tags": []
   },
   "outputs": [
    {
     "data": {
      "text/plain": [
       "array([nan, 'TA', 'Gd', 'Fa', 'Ex', 'Po'], dtype=object)"
      ]
     },
     "execution_count": 30,
     "metadata": {},
     "output_type": "execute_result"
    }
   ],
   "source": [
    "#checking the fireplace column\n",
    "train_data['FireplaceQu'].unique()"
   ]
  },
  {
   "cell_type": "code",
   "execution_count": 31,
   "id": "92e909c8",
   "metadata": {
    "execution": {
     "iopub.execute_input": "2021-09-11T12:48:31.583452Z",
     "iopub.status.busy": "2021-09-11T12:48:31.582444Z",
     "iopub.status.idle": "2021-09-11T12:48:31.585395Z",
     "shell.execute_reply": "2021-09-11T12:48:31.584837Z",
     "shell.execute_reply.started": "2021-09-11T12:42:43.922704Z"
    },
    "papermill": {
     "duration": 0.090334,
     "end_time": "2021-09-11T12:48:31.585549",
     "exception": false,
     "start_time": "2021-09-11T12:48:31.495215",
     "status": "completed"
    },
    "tags": []
   },
   "outputs": [],
   "source": [
    "#lets replace the null values of fireplace with none \n",
    "train_data['FireplaceQu']=train_data['FireplaceQu'].fillna('None')"
   ]
  },
  {
   "cell_type": "code",
   "execution_count": 32,
   "id": "2c15ac8c",
   "metadata": {
    "execution": {
     "iopub.execute_input": "2021-09-11T12:48:31.755863Z",
     "iopub.status.busy": "2021-09-11T12:48:31.755163Z",
     "iopub.status.idle": "2021-09-11T12:48:31.757791Z",
     "shell.execute_reply": "2021-09-11T12:48:31.758283Z",
     "shell.execute_reply.started": "2021-09-11T12:42:45.909644Z"
    },
    "papermill": {
     "duration": 0.091664,
     "end_time": "2021-09-11T12:48:31.758471",
     "exception": false,
     "start_time": "2021-09-11T12:48:31.666807",
     "status": "completed"
    },
    "tags": []
   },
   "outputs": [
    {
     "data": {
      "text/plain": [
       "array([ 65.,  80.,  68.,  60.,  84.,  85.,  75.,  69.,  51.,  50.,  70.,\n",
       "        91.,  72.,  66., 101.,  57.,  44., 110.,  98.,  47., 108., 112.,\n",
       "        74., 115.,  61.,  48.,  33.,  52., 100.,  24.,  89.,  63.,  76.,\n",
       "        81.,  95.,  21.,  32.,  78., 121., 122.,  40., 105.,  73.,  77.,\n",
       "        64.,  94.,  34.,  90.,  55.,  88.,  82.,  71., 120., 107.,  92.,\n",
       "       134.,  62.,  86., 141.,  97.,  54.,  41.,  79., 174.,  99.,  67.,\n",
       "        83.,  43., 103.,  93.,  30., 129., 140.,  35.,  37., 118.,  87.,\n",
       "       116., 150., 111.,  49.,  96.,  59.,  36.,  56., 102.,  58.,  38.,\n",
       "       109., 130.,  53., 137.,  45., 106., 104.,  42.,  39., 144., 114.,\n",
       "       128., 149., 313., 168., 182., 138., 160., 152., 124., 153.,  46.])"
      ]
     },
     "execution_count": 32,
     "metadata": {},
     "output_type": "execute_result"
    }
   ],
   "source": [
    "#checking LotFrontage column \n",
    "train_data['LotFrontage'].unique()"
   ]
  },
  {
   "cell_type": "code",
   "execution_count": 33,
   "id": "a080e056",
   "metadata": {
    "execution": {
     "iopub.execute_input": "2021-09-11T12:48:31.928771Z",
     "iopub.status.busy": "2021-09-11T12:48:31.928015Z",
     "iopub.status.idle": "2021-09-11T12:48:31.933014Z",
     "shell.execute_reply": "2021-09-11T12:48:31.933524Z",
     "shell.execute_reply.started": "2021-09-11T12:42:47.263216Z"
    },
    "papermill": {
     "duration": 0.092005,
     "end_time": "2021-09-11T12:48:31.933714",
     "exception": false,
     "start_time": "2021-09-11T12:48:31.841709",
     "status": "completed"
    },
    "tags": []
   },
   "outputs": [],
   "source": [
    "#lets replace the null values of LotFrontage with its median \n",
    "train_data['LotFrontage']=train_data['LotFrontage'].fillna(train_data['LotFrontage'].median())"
   ]
  },
  {
   "cell_type": "code",
   "execution_count": 34,
   "id": "2819d802",
   "metadata": {
    "execution": {
     "iopub.execute_input": "2021-09-11T12:48:32.104181Z",
     "iopub.status.busy": "2021-09-11T12:48:32.103205Z",
     "iopub.status.idle": "2021-09-11T12:48:32.109369Z",
     "shell.execute_reply": "2021-09-11T12:48:32.109844Z",
     "shell.execute_reply.started": "2021-09-11T12:42:48.730607Z"
    },
    "papermill": {
     "duration": 0.091709,
     "end_time": "2021-09-11T12:48:32.110035",
     "exception": false,
     "start_time": "2021-09-11T12:48:32.018326",
     "status": "completed"
    },
    "tags": []
   },
   "outputs": [
    {
     "data": {
      "text/plain": [
       "array(['TA', 'Fa', nan, 'Gd', 'Po', 'Ex'], dtype=object)"
      ]
     },
     "execution_count": 34,
     "metadata": {},
     "output_type": "execute_result"
    }
   ],
   "source": [
    "#checking GarageCond column\n",
    "train_data['GarageCond'].unique()"
   ]
  },
  {
   "cell_type": "code",
   "execution_count": 35,
   "id": "4e7a377c",
   "metadata": {
    "execution": {
     "iopub.execute_input": "2021-09-11T12:48:32.279591Z",
     "iopub.status.busy": "2021-09-11T12:48:32.278586Z",
     "iopub.status.idle": "2021-09-11T12:48:32.283708Z",
     "shell.execute_reply": "2021-09-11T12:48:32.284219Z",
     "shell.execute_reply.started": "2021-09-11T12:42:49.827077Z"
    },
    "papermill": {
     "duration": 0.092338,
     "end_time": "2021-09-11T12:48:32.284514",
     "exception": false,
     "start_time": "2021-09-11T12:48:32.192176",
     "status": "completed"
    },
    "tags": []
   },
   "outputs": [],
   "source": [
    "#lets replace the GarageCond null values to none\n",
    "train_data['GarageCond']=train_data['GarageCond'].fillna('None')"
   ]
  },
  {
   "cell_type": "code",
   "execution_count": 36,
   "id": "1ad94163",
   "metadata": {
    "execution": {
     "iopub.execute_input": "2021-09-11T12:48:32.456645Z",
     "iopub.status.busy": "2021-09-11T12:48:32.455675Z",
     "iopub.status.idle": "2021-09-11T12:48:32.461893Z",
     "shell.execute_reply": "2021-09-11T12:48:32.462400Z",
     "shell.execute_reply.started": "2021-09-11T12:42:51.063686Z"
    },
    "papermill": {
     "duration": 0.093932,
     "end_time": "2021-09-11T12:48:32.462585",
     "exception": false,
     "start_time": "2021-09-11T12:48:32.368653",
     "status": "completed"
    },
    "tags": []
   },
   "outputs": [
    {
     "data": {
      "text/plain": [
       "array(['TA', 'Fa', 'Gd', nan, 'Ex', 'Po'], dtype=object)"
      ]
     },
     "execution_count": 36,
     "metadata": {},
     "output_type": "execute_result"
    }
   ],
   "source": [
    "#checking GarageQual column \n",
    "train_data['GarageQual'].unique()"
   ]
  },
  {
   "cell_type": "code",
   "execution_count": 37,
   "id": "a29c423b",
   "metadata": {
    "execution": {
     "iopub.execute_input": "2021-09-11T12:48:32.632241Z",
     "iopub.status.busy": "2021-09-11T12:48:32.631257Z",
     "iopub.status.idle": "2021-09-11T12:48:32.637033Z",
     "shell.execute_reply": "2021-09-11T12:48:32.637477Z",
     "shell.execute_reply.started": "2021-09-11T12:42:52.156455Z"
    },
    "papermill": {
     "duration": 0.092175,
     "end_time": "2021-09-11T12:48:32.637670",
     "exception": false,
     "start_time": "2021-09-11T12:48:32.545495",
     "status": "completed"
    },
    "tags": []
   },
   "outputs": [],
   "source": [
    "#lets replace the GarageQual null values to none\n",
    "train_data['GarageQual']=train_data['GarageQual'].fillna('None')"
   ]
  },
  {
   "cell_type": "code",
   "execution_count": 38,
   "id": "52b35beb",
   "metadata": {
    "execution": {
     "iopub.execute_input": "2021-09-11T12:48:32.812345Z",
     "iopub.status.busy": "2021-09-11T12:48:32.811417Z",
     "iopub.status.idle": "2021-09-11T12:48:32.815509Z",
     "shell.execute_reply": "2021-09-11T12:48:32.814985Z",
     "shell.execute_reply.started": "2021-09-11T12:42:53.479992Z"
    },
    "papermill": {
     "duration": 0.095387,
     "end_time": "2021-09-11T12:48:32.815672",
     "exception": false,
     "start_time": "2021-09-11T12:48:32.720285",
     "status": "completed"
    },
    "tags": []
   },
   "outputs": [
    {
     "data": {
      "text/plain": [
       "array(['RFn', 'Unf', 'Fin', nan], dtype=object)"
      ]
     },
     "execution_count": 38,
     "metadata": {},
     "output_type": "execute_result"
    }
   ],
   "source": [
    "#checking GarageFinish column \n",
    "train_data['GarageFinish'].unique()"
   ]
  },
  {
   "cell_type": "code",
   "execution_count": 39,
   "id": "054a684e",
   "metadata": {
    "execution": {
     "iopub.execute_input": "2021-09-11T12:48:32.988441Z",
     "iopub.status.busy": "2021-09-11T12:48:32.987724Z",
     "iopub.status.idle": "2021-09-11T12:48:32.992282Z",
     "shell.execute_reply": "2021-09-11T12:48:32.992773Z",
     "shell.execute_reply.started": "2021-09-11T12:42:54.576131Z"
    },
    "papermill": {
     "duration": 0.092504,
     "end_time": "2021-09-11T12:48:32.992970",
     "exception": false,
     "start_time": "2021-09-11T12:48:32.900466",
     "status": "completed"
    },
    "tags": []
   },
   "outputs": [],
   "source": [
    "#lets replace the null values of GarageFinish with none \n",
    "train_data['GarageFinish']=train_data['GarageFinish'].fillna('None')"
   ]
  },
  {
   "cell_type": "code",
   "execution_count": 40,
   "id": "fb6e4d0a",
   "metadata": {
    "execution": {
     "iopub.execute_input": "2021-09-11T12:48:33.162752Z",
     "iopub.status.busy": "2021-09-11T12:48:33.162093Z",
     "iopub.status.idle": "2021-09-11T12:48:33.169468Z",
     "shell.execute_reply": "2021-09-11T12:48:33.168833Z",
     "shell.execute_reply.started": "2021-09-11T12:42:55.835268Z"
    },
    "papermill": {
     "duration": 0.093642,
     "end_time": "2021-09-11T12:48:33.169629",
     "exception": false,
     "start_time": "2021-09-11T12:48:33.075987",
     "status": "completed"
    },
    "tags": []
   },
   "outputs": [
    {
     "data": {
      "text/plain": [
       "array([2003., 1976., 2001., 1998., 2000., 1993., 2004., 1973., 1931.,\n",
       "       1939., 1965., 2005., 1962., 2006., 1960., 1991., 1970., 1967.,\n",
       "       1958., 1930., 2002., 1968., 2007., 2008., 1957., 1920., 1966.,\n",
       "       1959., 1995., 1954., 1953., 1980., 1983., 1977., 1997., 1985.,\n",
       "       1963., 1981., 1964., 1999., 1935., 1990., 1945., 1987., 1989.,\n",
       "       1915., 1956., 1948., 1974., 2009., 1950., 1961., 1921., 1900.,\n",
       "       1979., 1951., 1969., 1936., 1975., 1971., 1923., 1984., 1926.,\n",
       "       1955., 1986., 1988., 1916., 1932., 1972., 1918., 1924., 1996.,\n",
       "       1940., 1949., 1994., 1910., 1978., 1982., 1992., 1925., 1941.,\n",
       "       2010., 1927., 1947., 1937., 1942., 1938., 1952., 1928., 1922.,\n",
       "       1934., 1906., 1914., 1946., 1908., 1929., 1933.])"
      ]
     },
     "execution_count": 40,
     "metadata": {},
     "output_type": "execute_result"
    }
   ],
   "source": [
    "#checking GarageYrBlt column \n",
    "train_data['GarageYrBlt'].unique()"
   ]
  },
  {
   "cell_type": "code",
   "execution_count": 41,
   "id": "7a3b9eac",
   "metadata": {
    "execution": {
     "iopub.execute_input": "2021-09-11T12:48:33.345085Z",
     "iopub.status.busy": "2021-09-11T12:48:33.344325Z",
     "iopub.status.idle": "2021-09-11T12:48:33.346625Z",
     "shell.execute_reply": "2021-09-11T12:48:33.347107Z",
     "shell.execute_reply.started": "2021-09-11T12:42:56.929155Z"
    },
    "papermill": {
     "duration": 0.094405,
     "end_time": "2021-09-11T12:48:33.347306",
     "exception": false,
     "start_time": "2021-09-11T12:48:33.252901",
     "status": "completed"
    },
    "tags": []
   },
   "outputs": [],
   "source": [
    "#lets replace the missing values of GarageYrBlt with its median \n",
    "train_data['GarageYrBlt']=train_data['GarageYrBlt'].fillna(train_data['GarageYrBlt'].median())"
   ]
  },
  {
   "cell_type": "code",
   "execution_count": 42,
   "id": "1f2758bf",
   "metadata": {
    "execution": {
     "iopub.execute_input": "2021-09-11T12:48:33.540787Z",
     "iopub.status.busy": "2021-09-11T12:48:33.540120Z",
     "iopub.status.idle": "2021-09-11T12:48:33.543894Z",
     "shell.execute_reply": "2021-09-11T12:48:33.543386Z",
     "shell.execute_reply.started": "2021-09-11T12:42:58.243277Z"
    },
    "papermill": {
     "duration": 0.10341,
     "end_time": "2021-09-11T12:48:33.544065",
     "exception": false,
     "start_time": "2021-09-11T12:48:33.440655",
     "status": "completed"
    },
    "tags": []
   },
   "outputs": [
    {
     "data": {
      "text/plain": [
       "array(['Attchd', 'Detchd', 'BuiltIn', 'CarPort', nan, 'Basment', '2Types'],\n",
       "      dtype=object)"
      ]
     },
     "execution_count": 42,
     "metadata": {},
     "output_type": "execute_result"
    }
   ],
   "source": [
    "#checking GarageType column \n",
    "train_data['GarageType'].unique()"
   ]
  },
  {
   "cell_type": "code",
   "execution_count": 43,
   "id": "8c82678a",
   "metadata": {
    "execution": {
     "iopub.execute_input": "2021-09-11T12:48:33.719937Z",
     "iopub.status.busy": "2021-09-11T12:48:33.718869Z",
     "iopub.status.idle": "2021-09-11T12:48:33.721757Z",
     "shell.execute_reply": "2021-09-11T12:48:33.721265Z",
     "shell.execute_reply.started": "2021-09-11T12:42:59.394274Z"
    },
    "papermill": {
     "duration": 0.093224,
     "end_time": "2021-09-11T12:48:33.721905",
     "exception": false,
     "start_time": "2021-09-11T12:48:33.628681",
     "status": "completed"
    },
    "tags": []
   },
   "outputs": [],
   "source": [
    "#replace the missing value in GarageType with None \n",
    "train_data['GarageType']=train_data['GarageType'].fillna('None')"
   ]
  },
  {
   "cell_type": "code",
   "execution_count": 44,
   "id": "8b286893",
   "metadata": {
    "execution": {
     "iopub.execute_input": "2021-09-11T12:48:33.896068Z",
     "iopub.status.busy": "2021-09-11T12:48:33.895383Z",
     "iopub.status.idle": "2021-09-11T12:48:33.898005Z",
     "shell.execute_reply": "2021-09-11T12:48:33.898489Z",
     "shell.execute_reply.started": "2021-09-11T12:43:00.629113Z"
    },
    "papermill": {
     "duration": 0.092761,
     "end_time": "2021-09-11T12:48:33.898663",
     "exception": false,
     "start_time": "2021-09-11T12:48:33.805902",
     "status": "completed"
    },
    "tags": []
   },
   "outputs": [
    {
     "data": {
      "text/plain": [
       "array(['Unf', 'BLQ', nan, 'ALQ', 'Rec', 'LwQ', 'GLQ'], dtype=object)"
      ]
     },
     "execution_count": 44,
     "metadata": {},
     "output_type": "execute_result"
    }
   ],
   "source": [
    "#checking BsmtFinType2 column \n",
    "train_data['BsmtFinType2'].unique()"
   ]
  },
  {
   "cell_type": "code",
   "execution_count": 45,
   "id": "d8dc5a47",
   "metadata": {
    "execution": {
     "iopub.execute_input": "2021-09-11T12:48:34.072409Z",
     "iopub.status.busy": "2021-09-11T12:48:34.071688Z",
     "iopub.status.idle": "2021-09-11T12:48:34.076150Z",
     "shell.execute_reply": "2021-09-11T12:48:34.076621Z",
     "shell.execute_reply.started": "2021-09-11T12:43:01.690650Z"
    },
    "papermill": {
     "duration": 0.093611,
     "end_time": "2021-09-11T12:48:34.076806",
     "exception": false,
     "start_time": "2021-09-11T12:48:33.983195",
     "status": "completed"
    },
    "tags": []
   },
   "outputs": [],
   "source": [
    "#replace the missing value in BsmtFinType2 with None \n",
    "train_data['BsmtFinType2']=train_data['BsmtFinType2'].fillna('None')"
   ]
  },
  {
   "cell_type": "code",
   "execution_count": 46,
   "id": "cc6a632c",
   "metadata": {
    "execution": {
     "iopub.execute_input": "2021-09-11T12:48:34.248649Z",
     "iopub.status.busy": "2021-09-11T12:48:34.247938Z",
     "iopub.status.idle": "2021-09-11T12:48:34.254425Z",
     "shell.execute_reply": "2021-09-11T12:48:34.253926Z",
     "shell.execute_reply.started": "2021-09-11T12:43:02.955400Z"
    },
    "papermill": {
     "duration": 0.093465,
     "end_time": "2021-09-11T12:48:34.254577",
     "exception": false,
     "start_time": "2021-09-11T12:48:34.161112",
     "status": "completed"
    },
    "tags": []
   },
   "outputs": [
    {
     "data": {
      "text/plain": [
       "array(['No', 'Gd', 'Mn', 'Av', nan], dtype=object)"
      ]
     },
     "execution_count": 46,
     "metadata": {},
     "output_type": "execute_result"
    }
   ],
   "source": [
    "#checking BsmtExposure column \n",
    "train_data['BsmtExposure'].unique()"
   ]
  },
  {
   "cell_type": "code",
   "execution_count": 47,
   "id": "cc649271",
   "metadata": {
    "execution": {
     "iopub.execute_input": "2021-09-11T12:48:34.431671Z",
     "iopub.status.busy": "2021-09-11T12:48:34.430998Z",
     "iopub.status.idle": "2021-09-11T12:48:34.432650Z",
     "shell.execute_reply": "2021-09-11T12:48:34.433219Z",
     "shell.execute_reply.started": "2021-09-11T12:43:04.124686Z"
    },
    "papermill": {
     "duration": 0.093386,
     "end_time": "2021-09-11T12:48:34.433409",
     "exception": false,
     "start_time": "2021-09-11T12:48:34.340023",
     "status": "completed"
    },
    "tags": []
   },
   "outputs": [],
   "source": [
    "#replace the missing value in BsmtExposure with none \n",
    "train_data['BsmtExposure']=train_data['BsmtExposure'].fillna('None')"
   ]
  },
  {
   "cell_type": "code",
   "execution_count": 48,
   "id": "61fd654a",
   "metadata": {
    "execution": {
     "iopub.execute_input": "2021-09-11T12:48:34.606012Z",
     "iopub.status.busy": "2021-09-11T12:48:34.605358Z",
     "iopub.status.idle": "2021-09-11T12:48:34.611323Z",
     "shell.execute_reply": "2021-09-11T12:48:34.611898Z",
     "shell.execute_reply.started": "2021-09-11T12:43:05.525980Z"
    },
    "papermill": {
     "duration": 0.093387,
     "end_time": "2021-09-11T12:48:34.612101",
     "exception": false,
     "start_time": "2021-09-11T12:48:34.518714",
     "status": "completed"
    },
    "tags": []
   },
   "outputs": [
    {
     "data": {
      "text/plain": [
       "array(['TA', 'Gd', nan, 'Fa', 'Po'], dtype=object)"
      ]
     },
     "execution_count": 48,
     "metadata": {},
     "output_type": "execute_result"
    }
   ],
   "source": [
    "#checking BsmtCond column\n",
    "train_data['BsmtCond'].unique()"
   ]
  },
  {
   "cell_type": "code",
   "execution_count": 49,
   "id": "5841631d",
   "metadata": {
    "execution": {
     "iopub.execute_input": "2021-09-11T12:48:34.784930Z",
     "iopub.status.busy": "2021-09-11T12:48:34.784232Z",
     "iopub.status.idle": "2021-09-11T12:48:34.790033Z",
     "shell.execute_reply": "2021-09-11T12:48:34.789458Z",
     "shell.execute_reply.started": "2021-09-11T12:43:06.646969Z"
    },
    "papermill": {
     "duration": 0.093101,
     "end_time": "2021-09-11T12:48:34.790188",
     "exception": false,
     "start_time": "2021-09-11T12:48:34.697087",
     "status": "completed"
    },
    "tags": []
   },
   "outputs": [],
   "source": [
    "#replace the missing value in BsmtCond to None \n",
    "train_data['BsmtCond']=train_data['BsmtCond'].fillna('BsmtCond')"
   ]
  },
  {
   "cell_type": "code",
   "execution_count": 50,
   "id": "af9e77a2",
   "metadata": {
    "execution": {
     "iopub.execute_input": "2021-09-11T12:48:34.969243Z",
     "iopub.status.busy": "2021-09-11T12:48:34.968333Z",
     "iopub.status.idle": "2021-09-11T12:48:34.972298Z",
     "shell.execute_reply": "2021-09-11T12:48:34.971767Z",
     "shell.execute_reply.started": "2021-09-11T12:43:08.144092Z"
    },
    "papermill": {
     "duration": 0.096161,
     "end_time": "2021-09-11T12:48:34.972451",
     "exception": false,
     "start_time": "2021-09-11T12:48:34.876290",
     "status": "completed"
    },
    "tags": []
   },
   "outputs": [
    {
     "data": {
      "text/plain": [
       "array(['Gd', 'TA', 'Ex', nan, 'Fa'], dtype=object)"
      ]
     },
     "execution_count": 50,
     "metadata": {},
     "output_type": "execute_result"
    }
   ],
   "source": [
    "#checking BsmtQual column \n",
    "train_data['BsmtQual'].unique()"
   ]
  },
  {
   "cell_type": "code",
   "execution_count": 51,
   "id": "598856c8",
   "metadata": {
    "execution": {
     "iopub.execute_input": "2021-09-11T12:48:35.151701Z",
     "iopub.status.busy": "2021-09-11T12:48:35.150666Z",
     "iopub.status.idle": "2021-09-11T12:48:35.153644Z",
     "shell.execute_reply": "2021-09-11T12:48:35.153029Z",
     "shell.execute_reply.started": "2021-09-11T12:43:09.237792Z"
    },
    "papermill": {
     "duration": 0.095143,
     "end_time": "2021-09-11T12:48:35.153792",
     "exception": false,
     "start_time": "2021-09-11T12:48:35.058649",
     "status": "completed"
    },
    "tags": []
   },
   "outputs": [],
   "source": [
    "#replace the missing value in BsmtQual to None \n",
    "train_data['BsmtQual']=train_data['BsmtQual'].fillna('None')"
   ]
  },
  {
   "cell_type": "code",
   "execution_count": 52,
   "id": "3c466b76",
   "metadata": {
    "execution": {
     "iopub.execute_input": "2021-09-11T12:48:35.398382Z",
     "iopub.status.busy": "2021-09-11T12:48:35.397733Z",
     "iopub.status.idle": "2021-09-11T12:48:35.407629Z",
     "shell.execute_reply": "2021-09-11T12:48:35.407104Z",
     "shell.execute_reply.started": "2021-09-11T12:43:10.958900Z"
    },
    "papermill": {
     "duration": 0.168337,
     "end_time": "2021-09-11T12:48:35.407775",
     "exception": false,
     "start_time": "2021-09-11T12:48:35.239438",
     "status": "completed"
    },
    "tags": []
   },
   "outputs": [
    {
     "data": {
      "text/plain": [
       "array([1.960e+02, 0.000e+00, 1.620e+02, 3.500e+02, 1.860e+02, 2.400e+02,\n",
       "       2.860e+02, 3.060e+02, 2.120e+02, 1.800e+02, 3.800e+02, 2.810e+02,\n",
       "       6.400e+02, 2.000e+02, 2.460e+02, 1.320e+02, 6.500e+02, 1.010e+02,\n",
       "       4.120e+02, 2.720e+02, 4.560e+02, 1.031e+03, 1.780e+02, 5.730e+02,\n",
       "       3.440e+02, 2.870e+02, 1.670e+02, 1.115e+03, 4.000e+01, 1.040e+02,\n",
       "       5.760e+02, 4.430e+02, 4.680e+02, 6.600e+01, 2.200e+01, 2.840e+02,\n",
       "       7.600e+01, 2.030e+02, 6.800e+01, 1.830e+02, 4.800e+01, 2.800e+01,\n",
       "       3.360e+02, 6.000e+02, 7.680e+02, 4.800e+02, 2.200e+02, 1.840e+02,\n",
       "       1.129e+03, 1.160e+02, 1.350e+02, 2.660e+02, 8.500e+01, 3.090e+02,\n",
       "       1.360e+02, 2.880e+02, 7.000e+01, 3.200e+02, 5.000e+01, 1.200e+02,\n",
       "       4.360e+02, 2.520e+02, 8.400e+01, 6.640e+02, 2.260e+02, 3.000e+02,\n",
       "       6.530e+02, 1.120e+02, 4.910e+02, 2.680e+02, 7.480e+02, 9.800e+01,\n",
       "       2.750e+02, 1.380e+02, 2.050e+02, 2.620e+02, 1.280e+02, 2.600e+02,\n",
       "       1.530e+02, 6.400e+01, 3.120e+02, 1.600e+01, 9.220e+02, 1.420e+02,\n",
       "       2.900e+02, 1.270e+02, 5.060e+02, 2.970e+02, 6.040e+02, 2.540e+02,\n",
       "       3.600e+01, 1.020e+02, 4.720e+02, 4.810e+02, 1.080e+02, 3.020e+02,\n",
       "       1.720e+02, 3.990e+02, 2.700e+02, 4.600e+01, 2.100e+02, 1.740e+02,\n",
       "       3.480e+02, 3.150e+02, 2.990e+02, 3.400e+02, 1.660e+02, 7.200e+01,\n",
       "       3.100e+01, 3.400e+01, 2.380e+02, 1.600e+03, 3.650e+02, 5.600e+01,\n",
       "       1.500e+02, 2.780e+02, 2.560e+02, 2.250e+02, 3.700e+02, 3.880e+02,\n",
       "       1.750e+02, 2.960e+02, 1.460e+02, 1.130e+02, 1.760e+02, 6.160e+02,\n",
       "       3.000e+01, 1.060e+02, 8.700e+02, 3.620e+02, 5.300e+02, 5.000e+02,\n",
       "       5.100e+02, 2.470e+02, 3.050e+02, 2.550e+02, 1.250e+02, 1.000e+02,\n",
       "       4.320e+02, 1.260e+02, 4.730e+02, 7.400e+01, 1.450e+02, 2.320e+02,\n",
       "       3.760e+02, 4.200e+01, 1.610e+02, 1.100e+02, 1.800e+01, 2.240e+02,\n",
       "       2.480e+02, 8.000e+01, 3.040e+02, 2.150e+02, 7.720e+02, 4.350e+02,\n",
       "       3.780e+02, 5.620e+02, 1.680e+02, 8.900e+01, 2.850e+02, 3.600e+02,\n",
       "       9.400e+01, 3.330e+02, 9.210e+02, 7.620e+02, 5.940e+02, 2.190e+02,\n",
       "       1.880e+02, 4.790e+02, 5.840e+02, 1.820e+02, 2.500e+02, 2.920e+02,\n",
       "       2.450e+02, 2.070e+02, 8.200e+01, 9.700e+01, 3.350e+02, 2.080e+02,\n",
       "       4.200e+02, 1.700e+02, 4.590e+02, 2.800e+02, 9.900e+01, 1.920e+02,\n",
       "       2.040e+02, 2.330e+02, 1.560e+02, 4.520e+02, 5.130e+02, 2.610e+02,\n",
       "       1.640e+02, 2.590e+02, 2.090e+02, 2.630e+02, 2.160e+02, 3.510e+02,\n",
       "       6.600e+02, 3.810e+02, 5.400e+01, 5.280e+02, 2.580e+02, 4.640e+02,\n",
       "       5.700e+01, 1.470e+02, 1.170e+03, 2.930e+02, 6.300e+02, 4.660e+02,\n",
       "       1.090e+02, 4.100e+01, 1.600e+02, 2.890e+02, 6.510e+02, 1.690e+02,\n",
       "       9.500e+01, 4.420e+02, 2.020e+02, 3.380e+02, 8.940e+02, 3.280e+02,\n",
       "       6.730e+02, 6.030e+02, 1.000e+00, 3.750e+02, 9.000e+01, 3.800e+01,\n",
       "       1.570e+02, 1.100e+01, 1.400e+02, 1.300e+02, 1.480e+02, 8.600e+02,\n",
       "       4.240e+02, 1.047e+03, 2.430e+02, 8.160e+02, 3.870e+02, 2.230e+02,\n",
       "       1.580e+02, 1.370e+02, 1.150e+02, 1.890e+02, 2.740e+02, 1.170e+02,\n",
       "       6.000e+01, 1.220e+02, 9.200e+01, 4.150e+02, 7.600e+02, 2.700e+01,\n",
       "       7.500e+01, 3.610e+02, 1.050e+02, 3.420e+02, 2.980e+02, 5.410e+02,\n",
       "       2.360e+02, 1.440e+02, 4.230e+02, 4.400e+01, 1.510e+02, 9.750e+02,\n",
       "       4.500e+02, 2.300e+02, 5.710e+02, 2.400e+01, 5.300e+01, 2.060e+02,\n",
       "       1.400e+01, 3.240e+02, 2.950e+02, 3.960e+02, 6.700e+01, 1.540e+02,\n",
       "       4.250e+02, 4.500e+01, 1.378e+03, 3.370e+02, 1.490e+02, 1.430e+02,\n",
       "       5.100e+01, 1.710e+02, 2.340e+02, 6.300e+01, 7.660e+02, 3.200e+01,\n",
       "       8.100e+01, 1.630e+02, 5.540e+02, 2.180e+02, 6.320e+02, 1.140e+02,\n",
       "       5.670e+02, 3.590e+02, 4.510e+02, 6.210e+02, 7.880e+02, 8.600e+01,\n",
       "       7.960e+02, 3.910e+02, 2.280e+02, 8.800e+01, 1.650e+02, 4.280e+02,\n",
       "       4.100e+02, 5.640e+02, 3.680e+02, 3.180e+02, 5.790e+02, 6.500e+01,\n",
       "       7.050e+02, 4.080e+02, 2.440e+02, 1.230e+02, 3.660e+02, 7.310e+02,\n",
       "       4.480e+02, 2.940e+02, 3.100e+02, 2.370e+02, 4.260e+02, 9.600e+01,\n",
       "       4.380e+02, 1.940e+02, 1.190e+02])"
      ]
     },
     "execution_count": 52,
     "metadata": {},
     "output_type": "execute_result"
    }
   ],
   "source": [
    "#checking MasVnrArea column \n",
    "train_data['MasVnrArea'].unique()"
   ]
  },
  {
   "cell_type": "code",
   "execution_count": 53,
   "id": "c68aa2fa",
   "metadata": {
    "execution": {
     "iopub.execute_input": "2021-09-11T12:48:35.586006Z",
     "iopub.status.busy": "2021-09-11T12:48:35.584892Z",
     "iopub.status.idle": "2021-09-11T12:48:35.587599Z",
     "shell.execute_reply": "2021-09-11T12:48:35.588127Z",
     "shell.execute_reply.started": "2021-09-11T12:43:12.382221Z"
    },
    "papermill": {
     "duration": 0.094937,
     "end_time": "2021-09-11T12:48:35.588332",
     "exception": false,
     "start_time": "2021-09-11T12:48:35.493395",
     "status": "completed"
    },
    "tags": []
   },
   "outputs": [],
   "source": [
    "#replace the missing value with its median \n",
    "train_data['MasVnrArea']=train_data['MasVnrArea'].fillna(train_data['MasVnrArea'].median())"
   ]
  },
  {
   "cell_type": "code",
   "execution_count": 54,
   "id": "594cfb53",
   "metadata": {
    "execution": {
     "iopub.execute_input": "2021-09-11T12:48:35.767208Z",
     "iopub.status.busy": "2021-09-11T12:48:35.766477Z",
     "iopub.status.idle": "2021-09-11T12:48:35.769653Z",
     "shell.execute_reply": "2021-09-11T12:48:35.769149Z",
     "shell.execute_reply.started": "2021-09-11T12:43:13.978358Z"
    },
    "papermill": {
     "duration": 0.095414,
     "end_time": "2021-09-11T12:48:35.769805",
     "exception": false,
     "start_time": "2021-09-11T12:48:35.674391",
     "status": "completed"
    },
    "tags": []
   },
   "outputs": [
    {
     "data": {
      "text/plain": [
       "array(['BrkFace', 'None', 'Stone', 'BrkCmn', nan], dtype=object)"
      ]
     },
     "execution_count": 54,
     "metadata": {},
     "output_type": "execute_result"
    }
   ],
   "source": [
    "#checking column MasVnrType \n",
    "train_data['MasVnrType'].unique()"
   ]
  },
  {
   "cell_type": "code",
   "execution_count": 55,
   "id": "1ef9499b",
   "metadata": {
    "execution": {
     "iopub.execute_input": "2021-09-11T12:48:35.950448Z",
     "iopub.status.busy": "2021-09-11T12:48:35.949721Z",
     "iopub.status.idle": "2021-09-11T12:48:35.952329Z",
     "shell.execute_reply": "2021-09-11T12:48:35.951675Z",
     "shell.execute_reply.started": "2021-09-11T12:43:15.358829Z"
    },
    "papermill": {
     "duration": 0.095454,
     "end_time": "2021-09-11T12:48:35.952477",
     "exception": false,
     "start_time": "2021-09-11T12:48:35.857023",
     "status": "completed"
    },
    "tags": []
   },
   "outputs": [],
   "source": [
    "#replace missing values in MasVnrType with None \n",
    "train_data['MasVnrType']=train_data['MasVnrType'].fillna('None')"
   ]
  },
  {
   "cell_type": "code",
   "execution_count": 56,
   "id": "a2b34bf2",
   "metadata": {
    "execution": {
     "iopub.execute_input": "2021-09-11T12:48:36.133821Z",
     "iopub.status.busy": "2021-09-11T12:48:36.132876Z",
     "iopub.status.idle": "2021-09-11T12:48:36.137531Z",
     "shell.execute_reply": "2021-09-11T12:48:36.137049Z",
     "shell.execute_reply.started": "2021-09-11T12:43:16.647622Z"
    },
    "papermill": {
     "duration": 0.097588,
     "end_time": "2021-09-11T12:48:36.137681",
     "exception": false,
     "start_time": "2021-09-11T12:48:36.040093",
     "status": "completed"
    },
    "tags": []
   },
   "outputs": [
    {
     "data": {
      "text/plain": [
       "array(['SBrkr', 'FuseF', 'FuseA', 'FuseP', 'Mix', nan], dtype=object)"
      ]
     },
     "execution_count": 56,
     "metadata": {},
     "output_type": "execute_result"
    }
   ],
   "source": [
    "#checking electrical column \n",
    "train_data['Electrical'].unique()"
   ]
  },
  {
   "cell_type": "code",
   "execution_count": 57,
   "id": "05b19857",
   "metadata": {
    "execution": {
     "iopub.execute_input": "2021-09-11T12:48:36.322539Z",
     "iopub.status.busy": "2021-09-11T12:48:36.321485Z",
     "iopub.status.idle": "2021-09-11T12:48:36.324570Z",
     "shell.execute_reply": "2021-09-11T12:48:36.324066Z",
     "shell.execute_reply.started": "2021-09-11T12:43:17.855379Z"
    },
    "papermill": {
     "duration": 0.100381,
     "end_time": "2021-09-11T12:48:36.324725",
     "exception": false,
     "start_time": "2021-09-11T12:48:36.224344",
     "status": "completed"
    },
    "tags": []
   },
   "outputs": [],
   "source": [
    "#replace missing vanlue in Electrical with None \n",
    "train_data['Electrical']=train_data['Electrical'].fillna('None')"
   ]
  },
  {
   "cell_type": "code",
   "execution_count": 58,
   "id": "f9088f4c",
   "metadata": {
    "execution": {
     "iopub.execute_input": "2021-09-11T12:48:36.511652Z",
     "iopub.status.busy": "2021-09-11T12:48:36.510587Z",
     "iopub.status.idle": "2021-09-11T12:48:36.545691Z",
     "shell.execute_reply": "2021-09-11T12:48:36.546192Z",
     "shell.execute_reply.started": "2021-09-11T12:43:19.193658Z"
    },
    "papermill": {
     "duration": 0.13418,
     "end_time": "2021-09-11T12:48:36.546384",
     "exception": false,
     "start_time": "2021-09-11T12:48:36.412204",
     "status": "completed"
    },
    "tags": []
   },
   "outputs": [
    {
     "data": {
      "text/html": [
       "<div>\n",
       "<style scoped>\n",
       "    .dataframe tbody tr th:only-of-type {\n",
       "        vertical-align: middle;\n",
       "    }\n",
       "\n",
       "    .dataframe tbody tr th {\n",
       "        vertical-align: top;\n",
       "    }\n",
       "\n",
       "    .dataframe thead th {\n",
       "        text-align: right;\n",
       "    }\n",
       "</style>\n",
       "<table border=\"1\" class=\"dataframe\">\n",
       "  <thead>\n",
       "    <tr style=\"text-align: right;\">\n",
       "      <th></th>\n",
       "      <th>Id</th>\n",
       "      <th>MSSubClass</th>\n",
       "      <th>MSZoning</th>\n",
       "      <th>LotFrontage</th>\n",
       "      <th>LotArea</th>\n",
       "      <th>Street</th>\n",
       "      <th>Alley</th>\n",
       "      <th>LotShape</th>\n",
       "      <th>LandContour</th>\n",
       "      <th>Utilities</th>\n",
       "      <th>...</th>\n",
       "      <th>BsmtFinType1_ismissing</th>\n",
       "      <th>BsmtFinType2_ismissing</th>\n",
       "      <th>Electrical_ismissing</th>\n",
       "      <th>FireplaceQu_ismissing</th>\n",
       "      <th>GarageType_ismissing</th>\n",
       "      <th>GarageYrBlt_ismissing</th>\n",
       "      <th>GarageFinish_ismissing</th>\n",
       "      <th>GarageQual_ismissing</th>\n",
       "      <th>GarageCond_ismissing</th>\n",
       "      <th>num_missing</th>\n",
       "    </tr>\n",
       "  </thead>\n",
       "  <tbody>\n",
       "    <tr>\n",
       "      <th>0</th>\n",
       "      <td>1</td>\n",
       "      <td>60</td>\n",
       "      <td>RL</td>\n",
       "      <td>65.0</td>\n",
       "      <td>8450</td>\n",
       "      <td>Pave</td>\n",
       "      <td>NaN</td>\n",
       "      <td>Reg</td>\n",
       "      <td>Lvl</td>\n",
       "      <td>AllPub</td>\n",
       "      <td>...</td>\n",
       "      <td>False</td>\n",
       "      <td>False</td>\n",
       "      <td>False</td>\n",
       "      <td>True</td>\n",
       "      <td>False</td>\n",
       "      <td>False</td>\n",
       "      <td>False</td>\n",
       "      <td>False</td>\n",
       "      <td>False</td>\n",
       "      <td>5</td>\n",
       "    </tr>\n",
       "    <tr>\n",
       "      <th>1</th>\n",
       "      <td>2</td>\n",
       "      <td>20</td>\n",
       "      <td>RL</td>\n",
       "      <td>80.0</td>\n",
       "      <td>9600</td>\n",
       "      <td>Pave</td>\n",
       "      <td>NaN</td>\n",
       "      <td>Reg</td>\n",
       "      <td>Lvl</td>\n",
       "      <td>AllPub</td>\n",
       "      <td>...</td>\n",
       "      <td>False</td>\n",
       "      <td>False</td>\n",
       "      <td>False</td>\n",
       "      <td>False</td>\n",
       "      <td>False</td>\n",
       "      <td>False</td>\n",
       "      <td>False</td>\n",
       "      <td>False</td>\n",
       "      <td>False</td>\n",
       "      <td>4</td>\n",
       "    </tr>\n",
       "    <tr>\n",
       "      <th>2</th>\n",
       "      <td>3</td>\n",
       "      <td>60</td>\n",
       "      <td>RL</td>\n",
       "      <td>68.0</td>\n",
       "      <td>11250</td>\n",
       "      <td>Pave</td>\n",
       "      <td>NaN</td>\n",
       "      <td>IR1</td>\n",
       "      <td>Lvl</td>\n",
       "      <td>AllPub</td>\n",
       "      <td>...</td>\n",
       "      <td>False</td>\n",
       "      <td>False</td>\n",
       "      <td>False</td>\n",
       "      <td>False</td>\n",
       "      <td>False</td>\n",
       "      <td>False</td>\n",
       "      <td>False</td>\n",
       "      <td>False</td>\n",
       "      <td>False</td>\n",
       "      <td>4</td>\n",
       "    </tr>\n",
       "    <tr>\n",
       "      <th>3</th>\n",
       "      <td>4</td>\n",
       "      <td>70</td>\n",
       "      <td>RL</td>\n",
       "      <td>60.0</td>\n",
       "      <td>9550</td>\n",
       "      <td>Pave</td>\n",
       "      <td>NaN</td>\n",
       "      <td>IR1</td>\n",
       "      <td>Lvl</td>\n",
       "      <td>AllPub</td>\n",
       "      <td>...</td>\n",
       "      <td>False</td>\n",
       "      <td>False</td>\n",
       "      <td>False</td>\n",
       "      <td>False</td>\n",
       "      <td>False</td>\n",
       "      <td>False</td>\n",
       "      <td>False</td>\n",
       "      <td>False</td>\n",
       "      <td>False</td>\n",
       "      <td>4</td>\n",
       "    </tr>\n",
       "    <tr>\n",
       "      <th>4</th>\n",
       "      <td>5</td>\n",
       "      <td>60</td>\n",
       "      <td>RL</td>\n",
       "      <td>84.0</td>\n",
       "      <td>14260</td>\n",
       "      <td>Pave</td>\n",
       "      <td>NaN</td>\n",
       "      <td>IR1</td>\n",
       "      <td>Lvl</td>\n",
       "      <td>AllPub</td>\n",
       "      <td>...</td>\n",
       "      <td>False</td>\n",
       "      <td>False</td>\n",
       "      <td>False</td>\n",
       "      <td>False</td>\n",
       "      <td>False</td>\n",
       "      <td>False</td>\n",
       "      <td>False</td>\n",
       "      <td>False</td>\n",
       "      <td>False</td>\n",
       "      <td>4</td>\n",
       "    </tr>\n",
       "    <tr>\n",
       "      <th>...</th>\n",
       "      <td>...</td>\n",
       "      <td>...</td>\n",
       "      <td>...</td>\n",
       "      <td>...</td>\n",
       "      <td>...</td>\n",
       "      <td>...</td>\n",
       "      <td>...</td>\n",
       "      <td>...</td>\n",
       "      <td>...</td>\n",
       "      <td>...</td>\n",
       "      <td>...</td>\n",
       "      <td>...</td>\n",
       "      <td>...</td>\n",
       "      <td>...</td>\n",
       "      <td>...</td>\n",
       "      <td>...</td>\n",
       "      <td>...</td>\n",
       "      <td>...</td>\n",
       "      <td>...</td>\n",
       "      <td>...</td>\n",
       "      <td>...</td>\n",
       "    </tr>\n",
       "    <tr>\n",
       "      <th>1455</th>\n",
       "      <td>1456</td>\n",
       "      <td>60</td>\n",
       "      <td>RL</td>\n",
       "      <td>62.0</td>\n",
       "      <td>7917</td>\n",
       "      <td>Pave</td>\n",
       "      <td>NaN</td>\n",
       "      <td>Reg</td>\n",
       "      <td>Lvl</td>\n",
       "      <td>AllPub</td>\n",
       "      <td>...</td>\n",
       "      <td>False</td>\n",
       "      <td>False</td>\n",
       "      <td>False</td>\n",
       "      <td>False</td>\n",
       "      <td>False</td>\n",
       "      <td>False</td>\n",
       "      <td>False</td>\n",
       "      <td>False</td>\n",
       "      <td>False</td>\n",
       "      <td>4</td>\n",
       "    </tr>\n",
       "    <tr>\n",
       "      <th>1456</th>\n",
       "      <td>1457</td>\n",
       "      <td>20</td>\n",
       "      <td>RL</td>\n",
       "      <td>85.0</td>\n",
       "      <td>13175</td>\n",
       "      <td>Pave</td>\n",
       "      <td>NaN</td>\n",
       "      <td>Reg</td>\n",
       "      <td>Lvl</td>\n",
       "      <td>AllPub</td>\n",
       "      <td>...</td>\n",
       "      <td>False</td>\n",
       "      <td>False</td>\n",
       "      <td>False</td>\n",
       "      <td>False</td>\n",
       "      <td>False</td>\n",
       "      <td>False</td>\n",
       "      <td>False</td>\n",
       "      <td>False</td>\n",
       "      <td>False</td>\n",
       "      <td>3</td>\n",
       "    </tr>\n",
       "    <tr>\n",
       "      <th>1457</th>\n",
       "      <td>1458</td>\n",
       "      <td>70</td>\n",
       "      <td>RL</td>\n",
       "      <td>66.0</td>\n",
       "      <td>9042</td>\n",
       "      <td>Pave</td>\n",
       "      <td>NaN</td>\n",
       "      <td>Reg</td>\n",
       "      <td>Lvl</td>\n",
       "      <td>AllPub</td>\n",
       "      <td>...</td>\n",
       "      <td>False</td>\n",
       "      <td>False</td>\n",
       "      <td>False</td>\n",
       "      <td>False</td>\n",
       "      <td>False</td>\n",
       "      <td>False</td>\n",
       "      <td>False</td>\n",
       "      <td>False</td>\n",
       "      <td>False</td>\n",
       "      <td>2</td>\n",
       "    </tr>\n",
       "    <tr>\n",
       "      <th>1458</th>\n",
       "      <td>1459</td>\n",
       "      <td>20</td>\n",
       "      <td>RL</td>\n",
       "      <td>68.0</td>\n",
       "      <td>9717</td>\n",
       "      <td>Pave</td>\n",
       "      <td>NaN</td>\n",
       "      <td>Reg</td>\n",
       "      <td>Lvl</td>\n",
       "      <td>AllPub</td>\n",
       "      <td>...</td>\n",
       "      <td>False</td>\n",
       "      <td>False</td>\n",
       "      <td>False</td>\n",
       "      <td>True</td>\n",
       "      <td>False</td>\n",
       "      <td>False</td>\n",
       "      <td>False</td>\n",
       "      <td>False</td>\n",
       "      <td>False</td>\n",
       "      <td>5</td>\n",
       "    </tr>\n",
       "    <tr>\n",
       "      <th>1459</th>\n",
       "      <td>1460</td>\n",
       "      <td>20</td>\n",
       "      <td>RL</td>\n",
       "      <td>75.0</td>\n",
       "      <td>9937</td>\n",
       "      <td>Pave</td>\n",
       "      <td>NaN</td>\n",
       "      <td>Reg</td>\n",
       "      <td>Lvl</td>\n",
       "      <td>AllPub</td>\n",
       "      <td>...</td>\n",
       "      <td>False</td>\n",
       "      <td>False</td>\n",
       "      <td>False</td>\n",
       "      <td>True</td>\n",
       "      <td>False</td>\n",
       "      <td>False</td>\n",
       "      <td>False</td>\n",
       "      <td>False</td>\n",
       "      <td>False</td>\n",
       "      <td>5</td>\n",
       "    </tr>\n",
       "  </tbody>\n",
       "</table>\n",
       "<p>1460 rows × 98 columns</p>\n",
       "</div>"
      ],
      "text/plain": [
       "        Id  MSSubClass MSZoning  LotFrontage  LotArea Street Alley LotShape  \\\n",
       "0        1          60       RL         65.0     8450   Pave   NaN      Reg   \n",
       "1        2          20       RL         80.0     9600   Pave   NaN      Reg   \n",
       "2        3          60       RL         68.0    11250   Pave   NaN      IR1   \n",
       "3        4          70       RL         60.0     9550   Pave   NaN      IR1   \n",
       "4        5          60       RL         84.0    14260   Pave   NaN      IR1   \n",
       "...    ...         ...      ...          ...      ...    ...   ...      ...   \n",
       "1455  1456          60       RL         62.0     7917   Pave   NaN      Reg   \n",
       "1456  1457          20       RL         85.0    13175   Pave   NaN      Reg   \n",
       "1457  1458          70       RL         66.0     9042   Pave   NaN      Reg   \n",
       "1458  1459          20       RL         68.0     9717   Pave   NaN      Reg   \n",
       "1459  1460          20       RL         75.0     9937   Pave   NaN      Reg   \n",
       "\n",
       "     LandContour Utilities  ... BsmtFinType1_ismissing BsmtFinType2_ismissing  \\\n",
       "0            Lvl    AllPub  ...                  False                  False   \n",
       "1            Lvl    AllPub  ...                  False                  False   \n",
       "2            Lvl    AllPub  ...                  False                  False   \n",
       "3            Lvl    AllPub  ...                  False                  False   \n",
       "4            Lvl    AllPub  ...                  False                  False   \n",
       "...          ...       ...  ...                    ...                    ...   \n",
       "1455         Lvl    AllPub  ...                  False                  False   \n",
       "1456         Lvl    AllPub  ...                  False                  False   \n",
       "1457         Lvl    AllPub  ...                  False                  False   \n",
       "1458         Lvl    AllPub  ...                  False                  False   \n",
       "1459         Lvl    AllPub  ...                  False                  False   \n",
       "\n",
       "     Electrical_ismissing FireplaceQu_ismissing GarageType_ismissing  \\\n",
       "0                   False                  True                False   \n",
       "1                   False                 False                False   \n",
       "2                   False                 False                False   \n",
       "3                   False                 False                False   \n",
       "4                   False                 False                False   \n",
       "...                   ...                   ...                  ...   \n",
       "1455                False                 False                False   \n",
       "1456                False                 False                False   \n",
       "1457                False                 False                False   \n",
       "1458                False                  True                False   \n",
       "1459                False                  True                False   \n",
       "\n",
       "     GarageYrBlt_ismissing GarageFinish_ismissing  GarageQual_ismissing  \\\n",
       "0                    False                  False                 False   \n",
       "1                    False                  False                 False   \n",
       "2                    False                  False                 False   \n",
       "3                    False                  False                 False   \n",
       "4                    False                  False                 False   \n",
       "...                    ...                    ...                   ...   \n",
       "1455                 False                  False                 False   \n",
       "1456                 False                  False                 False   \n",
       "1457                 False                  False                 False   \n",
       "1458                 False                  False                 False   \n",
       "1459                 False                  False                 False   \n",
       "\n",
       "      GarageCond_ismissing  num_missing  \n",
       "0                    False            5  \n",
       "1                    False            4  \n",
       "2                    False            4  \n",
       "3                    False            4  \n",
       "4                    False            4  \n",
       "...                    ...          ...  \n",
       "1455                 False            4  \n",
       "1456                 False            3  \n",
       "1457                 False            2  \n",
       "1458                 False            5  \n",
       "1459                 False            5  \n",
       "\n",
       "[1460 rows x 98 columns]"
      ]
     },
     "execution_count": 58,
     "metadata": {},
     "output_type": "execute_result"
    }
   ],
   "source": [
    "train_data.drop(['PoolQC_ismissing','MiscFeature_ismissing','Fence_ismissing'], axis=1)"
   ]
  },
  {
   "cell_type": "code",
   "execution_count": 59,
   "id": "578ebeb9",
   "metadata": {
    "execution": {
     "iopub.execute_input": "2021-09-11T12:48:36.733063Z",
     "iopub.status.busy": "2021-09-11T12:48:36.730257Z",
     "iopub.status.idle": "2021-09-11T12:48:36.767241Z",
     "shell.execute_reply": "2021-09-11T12:48:36.766577Z",
     "shell.execute_reply.started": "2021-09-11T12:43:43.149952Z"
    },
    "papermill": {
     "duration": 0.133446,
     "end_time": "2021-09-11T12:48:36.767413",
     "exception": false,
     "start_time": "2021-09-11T12:48:36.633967",
     "status": "completed"
    },
    "tags": []
   },
   "outputs": [
    {
     "data": {
      "text/html": [
       "<div>\n",
       "<style scoped>\n",
       "    .dataframe tbody tr th:only-of-type {\n",
       "        vertical-align: middle;\n",
       "    }\n",
       "\n",
       "    .dataframe tbody tr th {\n",
       "        vertical-align: top;\n",
       "    }\n",
       "\n",
       "    .dataframe thead th {\n",
       "        text-align: right;\n",
       "    }\n",
       "</style>\n",
       "<table border=\"1\" class=\"dataframe\">\n",
       "  <thead>\n",
       "    <tr style=\"text-align: right;\">\n",
       "      <th></th>\n",
       "      <th>Id</th>\n",
       "      <th>MSSubClass</th>\n",
       "      <th>MSZoning</th>\n",
       "      <th>LotFrontage</th>\n",
       "      <th>LotArea</th>\n",
       "      <th>Street</th>\n",
       "      <th>LotShape</th>\n",
       "      <th>LandContour</th>\n",
       "      <th>Utilities</th>\n",
       "      <th>LotConfig</th>\n",
       "      <th>...</th>\n",
       "      <th>OpenPorchSF</th>\n",
       "      <th>EnclosedPorch</th>\n",
       "      <th>3SsnPorch</th>\n",
       "      <th>ScreenPorch</th>\n",
       "      <th>PoolArea</th>\n",
       "      <th>MiscVal</th>\n",
       "      <th>MoSold</th>\n",
       "      <th>YrSold</th>\n",
       "      <th>SaleType</th>\n",
       "      <th>SaleCondition</th>\n",
       "    </tr>\n",
       "  </thead>\n",
       "  <tbody>\n",
       "    <tr>\n",
       "      <th>0</th>\n",
       "      <td>1461</td>\n",
       "      <td>20</td>\n",
       "      <td>RH</td>\n",
       "      <td>80.0</td>\n",
       "      <td>11622</td>\n",
       "      <td>Pave</td>\n",
       "      <td>Reg</td>\n",
       "      <td>Lvl</td>\n",
       "      <td>AllPub</td>\n",
       "      <td>Inside</td>\n",
       "      <td>...</td>\n",
       "      <td>0</td>\n",
       "      <td>0</td>\n",
       "      <td>0</td>\n",
       "      <td>120</td>\n",
       "      <td>0</td>\n",
       "      <td>0</td>\n",
       "      <td>6</td>\n",
       "      <td>2010</td>\n",
       "      <td>WD</td>\n",
       "      <td>Normal</td>\n",
       "    </tr>\n",
       "    <tr>\n",
       "      <th>1</th>\n",
       "      <td>1462</td>\n",
       "      <td>20</td>\n",
       "      <td>RL</td>\n",
       "      <td>81.0</td>\n",
       "      <td>14267</td>\n",
       "      <td>Pave</td>\n",
       "      <td>IR1</td>\n",
       "      <td>Lvl</td>\n",
       "      <td>AllPub</td>\n",
       "      <td>Corner</td>\n",
       "      <td>...</td>\n",
       "      <td>36</td>\n",
       "      <td>0</td>\n",
       "      <td>0</td>\n",
       "      <td>0</td>\n",
       "      <td>0</td>\n",
       "      <td>12500</td>\n",
       "      <td>6</td>\n",
       "      <td>2010</td>\n",
       "      <td>WD</td>\n",
       "      <td>Normal</td>\n",
       "    </tr>\n",
       "    <tr>\n",
       "      <th>2</th>\n",
       "      <td>1463</td>\n",
       "      <td>60</td>\n",
       "      <td>RL</td>\n",
       "      <td>74.0</td>\n",
       "      <td>13830</td>\n",
       "      <td>Pave</td>\n",
       "      <td>IR1</td>\n",
       "      <td>Lvl</td>\n",
       "      <td>AllPub</td>\n",
       "      <td>Inside</td>\n",
       "      <td>...</td>\n",
       "      <td>34</td>\n",
       "      <td>0</td>\n",
       "      <td>0</td>\n",
       "      <td>0</td>\n",
       "      <td>0</td>\n",
       "      <td>0</td>\n",
       "      <td>3</td>\n",
       "      <td>2010</td>\n",
       "      <td>WD</td>\n",
       "      <td>Normal</td>\n",
       "    </tr>\n",
       "    <tr>\n",
       "      <th>3</th>\n",
       "      <td>1464</td>\n",
       "      <td>60</td>\n",
       "      <td>RL</td>\n",
       "      <td>78.0</td>\n",
       "      <td>9978</td>\n",
       "      <td>Pave</td>\n",
       "      <td>IR1</td>\n",
       "      <td>Lvl</td>\n",
       "      <td>AllPub</td>\n",
       "      <td>Inside</td>\n",
       "      <td>...</td>\n",
       "      <td>36</td>\n",
       "      <td>0</td>\n",
       "      <td>0</td>\n",
       "      <td>0</td>\n",
       "      <td>0</td>\n",
       "      <td>0</td>\n",
       "      <td>6</td>\n",
       "      <td>2010</td>\n",
       "      <td>WD</td>\n",
       "      <td>Normal</td>\n",
       "    </tr>\n",
       "    <tr>\n",
       "      <th>4</th>\n",
       "      <td>1465</td>\n",
       "      <td>120</td>\n",
       "      <td>RL</td>\n",
       "      <td>43.0</td>\n",
       "      <td>5005</td>\n",
       "      <td>Pave</td>\n",
       "      <td>IR1</td>\n",
       "      <td>HLS</td>\n",
       "      <td>AllPub</td>\n",
       "      <td>Inside</td>\n",
       "      <td>...</td>\n",
       "      <td>82</td>\n",
       "      <td>0</td>\n",
       "      <td>0</td>\n",
       "      <td>144</td>\n",
       "      <td>0</td>\n",
       "      <td>0</td>\n",
       "      <td>1</td>\n",
       "      <td>2010</td>\n",
       "      <td>WD</td>\n",
       "      <td>Normal</td>\n",
       "    </tr>\n",
       "    <tr>\n",
       "      <th>...</th>\n",
       "      <td>...</td>\n",
       "      <td>...</td>\n",
       "      <td>...</td>\n",
       "      <td>...</td>\n",
       "      <td>...</td>\n",
       "      <td>...</td>\n",
       "      <td>...</td>\n",
       "      <td>...</td>\n",
       "      <td>...</td>\n",
       "      <td>...</td>\n",
       "      <td>...</td>\n",
       "      <td>...</td>\n",
       "      <td>...</td>\n",
       "      <td>...</td>\n",
       "      <td>...</td>\n",
       "      <td>...</td>\n",
       "      <td>...</td>\n",
       "      <td>...</td>\n",
       "      <td>...</td>\n",
       "      <td>...</td>\n",
       "      <td>...</td>\n",
       "    </tr>\n",
       "    <tr>\n",
       "      <th>1454</th>\n",
       "      <td>2915</td>\n",
       "      <td>160</td>\n",
       "      <td>RM</td>\n",
       "      <td>21.0</td>\n",
       "      <td>1936</td>\n",
       "      <td>Pave</td>\n",
       "      <td>Reg</td>\n",
       "      <td>Lvl</td>\n",
       "      <td>AllPub</td>\n",
       "      <td>Inside</td>\n",
       "      <td>...</td>\n",
       "      <td>0</td>\n",
       "      <td>0</td>\n",
       "      <td>0</td>\n",
       "      <td>0</td>\n",
       "      <td>0</td>\n",
       "      <td>0</td>\n",
       "      <td>6</td>\n",
       "      <td>2006</td>\n",
       "      <td>WD</td>\n",
       "      <td>Normal</td>\n",
       "    </tr>\n",
       "    <tr>\n",
       "      <th>1455</th>\n",
       "      <td>2916</td>\n",
       "      <td>160</td>\n",
       "      <td>RM</td>\n",
       "      <td>21.0</td>\n",
       "      <td>1894</td>\n",
       "      <td>Pave</td>\n",
       "      <td>Reg</td>\n",
       "      <td>Lvl</td>\n",
       "      <td>AllPub</td>\n",
       "      <td>Inside</td>\n",
       "      <td>...</td>\n",
       "      <td>24</td>\n",
       "      <td>0</td>\n",
       "      <td>0</td>\n",
       "      <td>0</td>\n",
       "      <td>0</td>\n",
       "      <td>0</td>\n",
       "      <td>4</td>\n",
       "      <td>2006</td>\n",
       "      <td>WD</td>\n",
       "      <td>Abnorml</td>\n",
       "    </tr>\n",
       "    <tr>\n",
       "      <th>1456</th>\n",
       "      <td>2917</td>\n",
       "      <td>20</td>\n",
       "      <td>RL</td>\n",
       "      <td>160.0</td>\n",
       "      <td>20000</td>\n",
       "      <td>Pave</td>\n",
       "      <td>Reg</td>\n",
       "      <td>Lvl</td>\n",
       "      <td>AllPub</td>\n",
       "      <td>Inside</td>\n",
       "      <td>...</td>\n",
       "      <td>0</td>\n",
       "      <td>0</td>\n",
       "      <td>0</td>\n",
       "      <td>0</td>\n",
       "      <td>0</td>\n",
       "      <td>0</td>\n",
       "      <td>9</td>\n",
       "      <td>2006</td>\n",
       "      <td>WD</td>\n",
       "      <td>Abnorml</td>\n",
       "    </tr>\n",
       "    <tr>\n",
       "      <th>1457</th>\n",
       "      <td>2918</td>\n",
       "      <td>85</td>\n",
       "      <td>RL</td>\n",
       "      <td>62.0</td>\n",
       "      <td>10441</td>\n",
       "      <td>Pave</td>\n",
       "      <td>Reg</td>\n",
       "      <td>Lvl</td>\n",
       "      <td>AllPub</td>\n",
       "      <td>Inside</td>\n",
       "      <td>...</td>\n",
       "      <td>32</td>\n",
       "      <td>0</td>\n",
       "      <td>0</td>\n",
       "      <td>0</td>\n",
       "      <td>0</td>\n",
       "      <td>700</td>\n",
       "      <td>7</td>\n",
       "      <td>2006</td>\n",
       "      <td>WD</td>\n",
       "      <td>Normal</td>\n",
       "    </tr>\n",
       "    <tr>\n",
       "      <th>1458</th>\n",
       "      <td>2919</td>\n",
       "      <td>60</td>\n",
       "      <td>RL</td>\n",
       "      <td>74.0</td>\n",
       "      <td>9627</td>\n",
       "      <td>Pave</td>\n",
       "      <td>Reg</td>\n",
       "      <td>Lvl</td>\n",
       "      <td>AllPub</td>\n",
       "      <td>Inside</td>\n",
       "      <td>...</td>\n",
       "      <td>48</td>\n",
       "      <td>0</td>\n",
       "      <td>0</td>\n",
       "      <td>0</td>\n",
       "      <td>0</td>\n",
       "      <td>0</td>\n",
       "      <td>11</td>\n",
       "      <td>2006</td>\n",
       "      <td>WD</td>\n",
       "      <td>Normal</td>\n",
       "    </tr>\n",
       "  </tbody>\n",
       "</table>\n",
       "<p>1459 rows × 76 columns</p>\n",
       "</div>"
      ],
      "text/plain": [
       "        Id  MSSubClass MSZoning  LotFrontage  LotArea Street LotShape  \\\n",
       "0     1461          20       RH         80.0    11622   Pave      Reg   \n",
       "1     1462          20       RL         81.0    14267   Pave      IR1   \n",
       "2     1463          60       RL         74.0    13830   Pave      IR1   \n",
       "3     1464          60       RL         78.0     9978   Pave      IR1   \n",
       "4     1465         120       RL         43.0     5005   Pave      IR1   \n",
       "...    ...         ...      ...          ...      ...    ...      ...   \n",
       "1454  2915         160       RM         21.0     1936   Pave      Reg   \n",
       "1455  2916         160       RM         21.0     1894   Pave      Reg   \n",
       "1456  2917          20       RL        160.0    20000   Pave      Reg   \n",
       "1457  2918          85       RL         62.0    10441   Pave      Reg   \n",
       "1458  2919          60       RL         74.0     9627   Pave      Reg   \n",
       "\n",
       "     LandContour Utilities LotConfig  ... OpenPorchSF EnclosedPorch 3SsnPorch  \\\n",
       "0            Lvl    AllPub    Inside  ...           0             0         0   \n",
       "1            Lvl    AllPub    Corner  ...          36             0         0   \n",
       "2            Lvl    AllPub    Inside  ...          34             0         0   \n",
       "3            Lvl    AllPub    Inside  ...          36             0         0   \n",
       "4            HLS    AllPub    Inside  ...          82             0         0   \n",
       "...          ...       ...       ...  ...         ...           ...       ...   \n",
       "1454         Lvl    AllPub    Inside  ...           0             0         0   \n",
       "1455         Lvl    AllPub    Inside  ...          24             0         0   \n",
       "1456         Lvl    AllPub    Inside  ...           0             0         0   \n",
       "1457         Lvl    AllPub    Inside  ...          32             0         0   \n",
       "1458         Lvl    AllPub    Inside  ...          48             0         0   \n",
       "\n",
       "     ScreenPorch PoolArea MiscVal  MoSold  YrSold  SaleType  SaleCondition  \n",
       "0            120        0       0       6    2010        WD         Normal  \n",
       "1              0        0   12500       6    2010        WD         Normal  \n",
       "2              0        0       0       3    2010        WD         Normal  \n",
       "3              0        0       0       6    2010        WD         Normal  \n",
       "4            144        0       0       1    2010        WD         Normal  \n",
       "...          ...      ...     ...     ...     ...       ...            ...  \n",
       "1454           0        0       0       6    2006        WD         Normal  \n",
       "1455           0        0       0       4    2006        WD        Abnorml  \n",
       "1456           0        0       0       9    2006        WD        Abnorml  \n",
       "1457           0        0     700       7    2006        WD         Normal  \n",
       "1458           0        0       0      11    2006        WD         Normal  \n",
       "\n",
       "[1459 rows x 76 columns]"
      ]
     },
     "execution_count": 59,
     "metadata": {},
     "output_type": "execute_result"
    }
   ],
   "source": [
    "test_data.drop(['Alley','PoolQC','MiscFeature','Fence'],axis=1)"
   ]
  },
  {
   "cell_type": "markdown",
   "id": "d5fd3dc1",
   "metadata": {
    "papermill": {
     "duration": 0.086947,
     "end_time": "2021-09-11T12:48:36.944970",
     "exception": false,
     "start_time": "2021-09-11T12:48:36.858023",
     "status": "completed"
    },
    "tags": []
   },
   "source": [
    "> **Modelling of data****"
   ]
  },
  {
   "cell_type": "code",
   "execution_count": 60,
   "id": "3633bf30",
   "metadata": {
    "execution": {
     "iopub.execute_input": "2021-09-11T12:48:37.128867Z",
     "iopub.status.busy": "2021-09-11T12:48:37.127886Z",
     "iopub.status.idle": "2021-09-11T12:48:37.198449Z",
     "shell.execute_reply": "2021-09-11T12:48:37.197784Z",
     "shell.execute_reply.started": "2021-09-11T12:43:52.413098Z"
    },
    "papermill": {
     "duration": 0.165806,
     "end_time": "2021-09-11T12:48:37.198592",
     "exception": false,
     "start_time": "2021-09-11T12:48:37.032786",
     "status": "completed"
    },
    "tags": []
   },
   "outputs": [],
   "source": [
    "#Converting String into Number\n",
    "new_train_data=train_data.apply(lambda x:pd.factorize(x)[0])\n",
    "test_data=test_data.apply(lambda x:pd.factorize(x)[0])\n",
    "\n",
    "#droping columns \n",
    "X_test = test_data.drop(['Id'], axis=1).values"
   ]
  },
  {
   "cell_type": "code",
   "execution_count": 61,
   "id": "99151f75",
   "metadata": {
    "execution": {
     "iopub.execute_input": "2021-09-11T12:48:37.385395Z",
     "iopub.status.busy": "2021-09-11T12:48:37.382629Z",
     "iopub.status.idle": "2021-09-11T12:48:37.389255Z",
     "shell.execute_reply": "2021-09-11T12:48:37.389884Z",
     "shell.execute_reply.started": "2021-09-11T12:43:54.244058Z"
    },
    "papermill": {
     "duration": 0.103856,
     "end_time": "2021-09-11T12:48:37.390127",
     "exception": false,
     "start_time": "2021-09-11T12:48:37.286271",
     "status": "completed"
    },
    "tags": []
   },
   "outputs": [
    {
     "name": "stdout",
     "output_type": "stream",
     "text": [
      "X_train samples :  [[ 7018.     0.     0.     0.  1535.     0.  1535.   410.     0.     0.]\n",
      " [ 5400.     0.  1073.  1073.  1073.     0.  1073.   326.     0.     0.]\n",
      " [ 9313.     0.   864.   864.   864.   864.  1728.   572.   187.    56.]\n",
      " [ 7227.     0.   832.   832.   832.     0.   832.   528.     0.     0.]\n",
      " [11911.     0.   684.   684.   684.   876.  1560.   400.   100.    38.]]\n",
      "X_test samples :  [[ 5720.     0.   676.   676.   676.   455.  1131.   200.    26.     0.]\n",
      " [10140.   174.  1064.  1064.  1350.     0.  1350.   478.     0.     0.]\n",
      " [ 8525.     0.   940.   940.  1024.   940.  1964.     0.     0.   192.]\n",
      " [ 8556.     0.  1240.  1240.  1240.     0.  1240.   826.   140.    93.]\n",
      " [ 7136.   423.   495.   979.   979.   979.  1958.   492.     0.     0.]]\n",
      "y_train samples :  [118964 108480 190000 105500 174000]\n",
      "y_test samples :  [ 66500 165000 130000 194000 145000]\n"
     ]
    }
   ],
   "source": [
    "#feature selection and spliting of data \n",
    "from sklearn.model_selection import train_test_split\n",
    "x_var=train_data[['LotArea','MasVnrArea','BsmtUnfSF', 'TotalBsmtSF', '1stFlrSF', '2ndFlrSF', 'GrLivArea', 'GarageArea', 'WoodDeckSF', 'OpenPorchSF']].values\n",
    "y_var=train_data['SalePrice'].values\n",
    "\n",
    "X_train, X_test,y_train,y_test= train_test_split(x_var,y_var,test_size=0.4,random_state=1301)\n",
    "\n",
    "print('X_train samples : ', X_train[0:5])\n",
    "print('X_test samples : ', X_test[0:5])\n",
    "print('y_train samples : ', y_train[0:5])\n",
    "print('y_test samples : ', y_test[0:5])\n"
   ]
  },
  {
   "cell_type": "code",
   "execution_count": 62,
   "id": "c3c1117f",
   "metadata": {
    "execution": {
     "iopub.execute_input": "2021-09-11T12:48:37.578868Z",
     "iopub.status.busy": "2021-09-11T12:48:37.577791Z",
     "iopub.status.idle": "2021-09-11T12:48:38.084988Z",
     "shell.execute_reply": "2021-09-11T12:48:38.085708Z",
     "shell.execute_reply.started": "2021-09-11T12:43:55.613598Z"
    },
    "papermill": {
     "duration": 0.606529,
     "end_time": "2021-09-11T12:48:38.085970",
     "exception": false,
     "start_time": "2021-09-11T12:48:37.479441",
     "status": "completed"
    },
    "tags": []
   },
   "outputs": [
    {
     "name": "stdout",
     "output_type": "stream",
     "text": [
      "Random Forest Model Score:  0.9644539762588776\n",
      "Linear Model score:  0.6830693824330323\n",
      "Ridge Model Score:  0.6830693824330302\n",
      "Lasso Model Score:  0.6830693799617887\n",
      "Elastic Net Model Score:  0.6830693799221245\n"
     ]
    },
    {
     "name": "stderr",
     "output_type": "stream",
     "text": [
      "/opt/conda/lib/python3.7/site-packages/sklearn/linear_model/_coordinate_descent.py:531: ConvergenceWarning: Objective did not converge. You might want to increase the number of iterations. Duality gap: 846255739471.6478, tolerance: 534159131.86769074\n",
      "  positive)\n",
      "/opt/conda/lib/python3.7/site-packages/sklearn/linear_model/_coordinate_descent.py:531: ConvergenceWarning: Objective did not converge. You might want to increase the number of iterations. Duality gap: 846356415892.1919, tolerance: 534159131.86769074\n",
      "  positive)\n"
     ]
    }
   ],
   "source": [
    "#modeling \n",
    "from statistics import variance\n",
    "from fractions import Fraction as fr\n",
    "import statistics\n",
    "\n",
    "test_id=test_data['Id']\n",
    "\n",
    "\n",
    "#.RandomForest\n",
    "RandomForest=RandomForestRegressor(n_estimators=50)\n",
    "RandomForest.fit(X_train,y_train)\n",
    "RandomForest_predict=RandomForest.predict(X_test)\n",
    "print(\"Random Forest Model Score: \",RandomForest.score(X_train,y_train))\n",
    "\n",
    "#.LinearRegression\n",
    "ols=LinearRegression()\n",
    "ols.fit(X_train,y_train)\n",
    "ols_predict=ols.predict(X_test)\n",
    "print(\"Linear Model score: \", ols.score(X_train,y_train))\n",
    "\n",
    "#.Ridge\n",
    "ridge=Ridge(alpha=0.5)\n",
    "ridge.fit(X_train,y_train)\n",
    "ridge_predict=ridge.predict(X_test)\n",
    "print(\"Ridge Model Score: \", ridge.score(X_train,y_train))\n",
    "\n",
    "#.lasso\n",
    "lasso=Lasso(alpha=0.01)\n",
    "lasso.fit(X_train,y_train)\n",
    "lasso_predict=lasso.predict(X_test)\n",
    "print(\"Lasso Model Score: \", lasso.score(X_train,y_train))\n",
    "\n",
    "\n",
    "#Elasticnet\n",
    "en = ElasticNet(alpha = 0.01)\n",
    "en.fit(X_train, y_train)\n",
    "en_predict = en.predict(X_test)\n",
    "print(\"Elastic Net Model Score: \",en.score(X_train,y_train))"
   ]
  },
  {
   "cell_type": "code",
   "execution_count": 63,
   "id": "59a07aeb",
   "metadata": {
    "execution": {
     "iopub.execute_input": "2021-09-11T12:48:38.270045Z",
     "iopub.status.busy": "2021-09-11T12:48:38.269086Z",
     "iopub.status.idle": "2021-09-11T12:48:38.272449Z",
     "shell.execute_reply": "2021-09-11T12:48:38.271769Z",
     "shell.execute_reply.started": "2021-09-11T12:43:57.435260Z"
    },
    "papermill": {
     "duration": 0.097257,
     "end_time": "2021-09-11T12:48:38.272605",
     "exception": false,
     "start_time": "2021-09-11T12:48:38.175348",
     "status": "completed"
    },
    "tags": []
   },
   "outputs": [],
   "source": [
    "x_reshape=X_test.flatten()"
   ]
  },
  {
   "cell_type": "code",
   "execution_count": 64,
   "id": "c66603f5",
   "metadata": {
    "execution": {
     "iopub.execute_input": "2021-09-11T12:48:38.458361Z",
     "iopub.status.busy": "2021-09-11T12:48:38.457651Z",
     "iopub.status.idle": "2021-09-11T12:48:38.461119Z",
     "shell.execute_reply": "2021-09-11T12:48:38.460494Z",
     "shell.execute_reply.started": "2021-09-11T12:43:59.390916Z"
    },
    "papermill": {
     "duration": 0.099751,
     "end_time": "2021-09-11T12:48:38.461256",
     "exception": false,
     "start_time": "2021-09-11T12:48:38.361505",
     "status": "completed"
    },
    "tags": []
   },
   "outputs": [
    {
     "data": {
      "text/plain": [
       "((5840,), (584, 10))"
      ]
     },
     "execution_count": 64,
     "metadata": {},
     "output_type": "execute_result"
    }
   ],
   "source": [
    "x_reshape.shape, X_test.shape"
   ]
  },
  {
   "cell_type": "code",
   "execution_count": 65,
   "id": "0ef21ec0",
   "metadata": {
    "execution": {
     "iopub.execute_input": "2021-09-11T12:48:38.646673Z",
     "iopub.status.busy": "2021-09-11T12:48:38.645892Z",
     "iopub.status.idle": "2021-09-11T12:48:38.649372Z",
     "shell.execute_reply": "2021-09-11T12:48:38.648806Z",
     "shell.execute_reply.started": "2021-09-11T12:44:00.655911Z"
    },
    "papermill": {
     "duration": 0.099135,
     "end_time": "2021-09-11T12:48:38.649515",
     "exception": false,
     "start_time": "2021-09-11T12:48:38.550380",
     "status": "completed"
    },
    "tags": []
   },
   "outputs": [
    {
     "name": "stdout",
     "output_type": "stream",
     "text": [
      "[ 5720.     0.   676.   676.   676.   455.  1131.   200.    26.     0.\n",
      " 10140.   174.  1064.  1064.  1350.     0.  1350.   478.     0.     0.]\n",
      "[[ 5720.     0.   676.   676.   676.   455.  1131.   200.    26.     0.]\n",
      " [10140.   174.  1064.  1064.  1350.     0.  1350.   478.     0.     0.]\n",
      " [ 8525.     0.   940.   940.  1024.   940.  1964.     0.     0.   192.]\n",
      " [ 8556.     0.  1240.  1240.  1240.     0.  1240.   826.   140.    93.]\n",
      " [ 7136.   423.   495.   979.   979.   979.  1958.   492.     0.     0.]\n",
      " [ 4251.     0.   625.   625.   625.   625.  1250.   528.     0.    54.]\n",
      " [11606.   192.   390.  1040.  1040.  1040.  2080.   504.   335.     0.]\n",
      " [ 8846.     0.   572.   870.   914.     0.   914.   576.     0.     0.]\n",
      " [ 8430.   136.   424.  1040.  1040.     0.  1040.     0.     0.     0.]\n",
      " [11500.   164.  1680.  1680.  1680.     0.  1680.   528.     0.     0.]\n",
      " [ 4590.   108.  1530.  1554.  1554.     0.  1554.   627.   156.    73.]\n",
      " [10186.     0.    76.   750.  1061.   862.  1923.   564.   240.    39.]\n",
      " [ 9790.   451.   678.  1328.  1328.     0.  1328.   528.     0.    26.]\n",
      " [10171.   168.  1515.  1517.  1535.     0.  1535.   532.     0.     0.]\n",
      " [ 9056.     0.   707.   707.   707.   707.  1414.   403.   100.    35.]\n",
      " [ 9600.   168.  1164.  1164.  1164.     0.  1164.   528.     0.     0.]\n",
      " [ 2001.    80.   546.   546.   546.   546.  1092.   286.     0.     0.]\n",
      " [11302.   238.   392.  1814.  1826.     0.  1826.   758.   180.    75.]\n",
      " [ 8393.   122.  1098.  1626.  1712.     0.  1712.   588.   272.    54.]\n",
      " [ 6204.     0.   795.   795.   954.   795.  2230.   440.     0.   188.]]\n"
     ]
    }
   ],
   "source": [
    "print(x_reshape[:20])\n",
    "print(X_test[:20])"
   ]
  },
  {
   "cell_type": "markdown",
   "id": "df30ab8d",
   "metadata": {
    "papermill": {
     "duration": 0.088878,
     "end_time": "2021-09-11T12:48:38.827416",
     "exception": false,
     "start_time": "2021-09-11T12:48:38.738538",
     "status": "completed"
    },
    "tags": []
   },
   "source": [
    "**DataFrame to store Id with predition of Elastic Net****"
   ]
  },
  {
   "cell_type": "code",
   "execution_count": 66,
   "id": "708b1c5f",
   "metadata": {
    "execution": {
     "iopub.execute_input": "2021-09-11T12:48:39.016753Z",
     "iopub.status.busy": "2021-09-11T12:48:39.016024Z",
     "iopub.status.idle": "2021-09-11T12:48:39.019457Z",
     "shell.execute_reply": "2021-09-11T12:48:39.018834Z",
     "shell.execute_reply.started": "2021-09-11T12:44:06.263929Z"
    },
    "papermill": {
     "duration": 0.102923,
     "end_time": "2021-09-11T12:48:39.019608",
     "exception": false,
     "start_time": "2021-09-11T12:48:38.916685",
     "status": "completed"
    },
    "tags": []
   },
   "outputs": [
    {
     "name": "stdout",
     "output_type": "stream",
     "text": [
      "          Id      SalePrice\n",
      "0     5720.0  109921.878440\n",
      "1    10140.0  163527.825288\n",
      "2     8525.0  166612.161415\n",
      "3     8556.0  193419.418074\n",
      "4     7136.0  224520.542982\n",
      "..       ...            ...\n",
      "579   7128.0  156680.145266\n",
      "580   1596.0  113286.775182\n",
      "581  13450.0  206496.932607\n",
      "582  11526.0  214383.899723\n",
      "583  14803.0  360705.001501\n",
      "\n",
      "[584 rows x 2 columns]\n"
     ]
    }
   ],
   "source": [
    "en_output= pd.DataFrame({'Id':X_test[:,0],'SalePrice':en_predict})\n",
    "print(en_output)"
   ]
  },
  {
   "cell_type": "markdown",
   "id": "d550c3b7",
   "metadata": {
    "papermill": {
     "duration": 0.088701,
     "end_time": "2021-09-11T12:48:39.198462",
     "exception": false,
     "start_time": "2021-09-11T12:48:39.109761",
     "status": "completed"
    },
    "tags": []
   },
   "source": [
    "**Dataframe to store Id and prediction using Lasso Regression********"
   ]
  },
  {
   "cell_type": "code",
   "execution_count": 67,
   "id": "d21b86ca",
   "metadata": {
    "execution": {
     "iopub.execute_input": "2021-09-11T12:48:39.386852Z",
     "iopub.status.busy": "2021-09-11T12:48:39.386097Z",
     "iopub.status.idle": "2021-09-11T12:48:39.389308Z",
     "shell.execute_reply": "2021-09-11T12:48:39.389862Z",
     "shell.execute_reply.started": "2021-09-11T12:44:08.687333Z"
    },
    "papermill": {
     "duration": 0.101824,
     "end_time": "2021-09-11T12:48:39.390045",
     "exception": false,
     "start_time": "2021-09-11T12:48:39.288221",
     "status": "completed"
    },
    "tags": []
   },
   "outputs": [
    {
     "name": "stdout",
     "output_type": "stream",
     "text": [
      "          Id      SalePrice\n",
      "0     5720.0  109921.880526\n",
      "1    10140.0  163527.824788\n",
      "2     8525.0  166612.181874\n",
      "3     8556.0  193419.418564\n",
      "4     7136.0  224520.543980\n",
      "..       ...            ...\n",
      "579   7128.0  156680.149999\n",
      "580   1596.0  113286.783158\n",
      "581  13450.0  206496.943020\n",
      "582  11526.0  214383.644410\n",
      "583  14803.0  360704.993827\n",
      "\n",
      "[584 rows x 2 columns]\n"
     ]
    }
   ],
   "source": [
    "lasso_output= pd.DataFrame({'Id':X_test[:,0], 'SalePrice': lasso_predict})\n",
    "print(lasso_output)"
   ]
  },
  {
   "cell_type": "markdown",
   "id": "44f9cfa0",
   "metadata": {
    "papermill": {
     "duration": 0.089457,
     "end_time": "2021-09-11T12:48:39.571483",
     "exception": false,
     "start_time": "2021-09-11T12:48:39.482026",
     "status": "completed"
    },
    "tags": []
   },
   "source": [
    "**Dataframe to store Id and prediction using Ridge Regression****"
   ]
  },
  {
   "cell_type": "code",
   "execution_count": 68,
   "id": "d669ab50",
   "metadata": {
    "execution": {
     "iopub.execute_input": "2021-09-11T12:48:39.762260Z",
     "iopub.status.busy": "2021-09-11T12:48:39.761437Z",
     "iopub.status.idle": "2021-09-11T12:48:39.764596Z",
     "shell.execute_reply": "2021-09-11T12:48:39.765102Z",
     "shell.execute_reply.started": "2021-09-11T12:44:11.508299Z"
    },
    "papermill": {
     "duration": 0.103937,
     "end_time": "2021-09-11T12:48:39.765267",
     "exception": false,
     "start_time": "2021-09-11T12:48:39.661330",
     "status": "completed"
    },
    "tags": []
   },
   "outputs": [
    {
     "name": "stdout",
     "output_type": "stream",
     "text": [
      "          Id      SalePrice\n",
      "0     5720.0  109922.549779\n",
      "1    10140.0  163528.245212\n",
      "2     8525.0  166614.684996\n",
      "3     8556.0  193418.557155\n",
      "4     7136.0  224521.100277\n",
      "..       ...            ...\n",
      "579   7128.0  156681.649687\n",
      "580   1596.0  113286.883139\n",
      "581  13450.0  206497.957189\n",
      "582  11526.0  214352.197792\n",
      "583  14803.0  360703.073020\n",
      "\n",
      "[584 rows x 2 columns]\n"
     ]
    }
   ],
   "source": [
    "ridge_output= pd.DataFrame({'Id':X_test[:,0], 'SalePrice':ridge_predict})\n",
    "print(ridge_output)"
   ]
  },
  {
   "cell_type": "markdown",
   "id": "61998aa3",
   "metadata": {
    "papermill": {
     "duration": 0.090929,
     "end_time": "2021-09-11T12:48:39.946238",
     "exception": false,
     "start_time": "2021-09-11T12:48:39.855309",
     "status": "completed"
    },
    "tags": []
   },
   "source": [
    "**Dataframe to store Id and prediction using Linear Regression****"
   ]
  },
  {
   "cell_type": "code",
   "execution_count": 69,
   "id": "2f6710a5",
   "metadata": {
    "execution": {
     "iopub.execute_input": "2021-09-11T12:48:40.136533Z",
     "iopub.status.busy": "2021-09-11T12:48:40.133023Z",
     "iopub.status.idle": "2021-09-11T12:48:40.141031Z",
     "shell.execute_reply": "2021-09-11T12:48:40.140324Z",
     "shell.execute_reply.started": "2021-09-11T12:44:14.275449Z"
    },
    "papermill": {
     "duration": 0.10476,
     "end_time": "2021-09-11T12:48:40.141168",
     "exception": false,
     "start_time": "2021-09-11T12:48:40.036408",
     "status": "completed"
    },
    "tags": []
   },
   "outputs": [
    {
     "name": "stdout",
     "output_type": "stream",
     "text": [
      "          Id      SalePrice\n",
      "0     5720.0  109922.550021\n",
      "1    10140.0  163528.245150\n",
      "2     8525.0  166614.687382\n",
      "3     8556.0  193418.557207\n",
      "4     7136.0  224521.100392\n",
      "..       ...            ...\n",
      "579   7128.0  156681.650238\n",
      "580   1596.0  113286.884070\n",
      "581  13450.0  206497.958402\n",
      "582  11526.0  214352.168093\n",
      "583  14803.0  360703.072124\n",
      "\n",
      "[584 rows x 2 columns]\n"
     ]
    }
   ],
   "source": [
    "linear_output= pd.DataFrame({'Id':X_test[:,0], 'SalePrice':ols_predict})\n",
    "print(linear_output)"
   ]
  },
  {
   "cell_type": "markdown",
   "id": "21a5bef2",
   "metadata": {
    "papermill": {
     "duration": 0.089655,
     "end_time": "2021-09-11T12:48:40.321864",
     "exception": false,
     "start_time": "2021-09-11T12:48:40.232209",
     "status": "completed"
    },
    "tags": []
   },
   "source": [
    "**Dataframe to store Id and prediction using RandomForest Regression****"
   ]
  },
  {
   "cell_type": "code",
   "execution_count": 70,
   "id": "710cd025",
   "metadata": {
    "execution": {
     "iopub.execute_input": "2021-09-11T12:48:40.515382Z",
     "iopub.status.busy": "2021-09-11T12:48:40.514695Z",
     "iopub.status.idle": "2021-09-11T12:48:40.518729Z",
     "shell.execute_reply": "2021-09-11T12:48:40.518235Z",
     "shell.execute_reply.started": "2021-09-11T12:44:16.885803Z"
    },
    "papermill": {
     "duration": 0.103877,
     "end_time": "2021-09-11T12:48:40.518861",
     "exception": false,
     "start_time": "2021-09-11T12:48:40.414984",
     "status": "completed"
    },
    "tags": []
   },
   "outputs": [
    {
     "name": "stdout",
     "output_type": "stream",
     "text": [
      "          Id  SalePrice\n",
      "0     5720.0   94192.24\n",
      "1    10140.0  152121.00\n",
      "2     8525.0  154160.48\n",
      "3     8556.0  201357.86\n",
      "4     7136.0  197404.00\n",
      "..       ...        ...\n",
      "579   7128.0  154688.76\n",
      "580   1596.0   96091.30\n",
      "581  13450.0  213593.12\n",
      "582  11526.0  170820.06\n",
      "583  14803.0  365630.10\n",
      "\n",
      "[584 rows x 2 columns]\n"
     ]
    }
   ],
   "source": [
    "RandomForest_output = pd.DataFrame({'Id':X_test[:,0], 'SalePrice': RandomForest_predict})\n",
    "print(RandomForest_output)"
   ]
  },
  {
   "cell_type": "code",
   "execution_count": 71,
   "id": "0310ebde",
   "metadata": {
    "execution": {
     "iopub.execute_input": "2021-09-11T12:48:40.705531Z",
     "iopub.status.busy": "2021-09-11T12:48:40.704902Z",
     "iopub.status.idle": "2021-09-11T12:48:40.717273Z",
     "shell.execute_reply": "2021-09-11T12:48:40.716764Z",
     "shell.execute_reply.started": "2021-09-11T12:44:18.001601Z"
    },
    "papermill": {
     "duration": 0.107878,
     "end_time": "2021-09-11T12:48:40.717411",
     "exception": false,
     "start_time": "2021-09-11T12:48:40.609533",
     "status": "completed"
    },
    "tags": []
   },
   "outputs": [],
   "source": [
    "Y_predict=RandomForest.predict(X_test)"
   ]
  },
  {
   "cell_type": "code",
   "execution_count": 72,
   "id": "6a8d3f35",
   "metadata": {
    "execution": {
     "iopub.execute_input": "2021-09-11T12:48:40.903098Z",
     "iopub.status.busy": "2021-09-11T12:48:40.902418Z",
     "iopub.status.idle": "2021-09-11T12:48:40.917982Z",
     "shell.execute_reply": "2021-09-11T12:48:40.917382Z",
     "shell.execute_reply.started": "2021-09-11T12:46:50.778938Z"
    },
    "papermill": {
     "duration": 0.110104,
     "end_time": "2021-09-11T12:48:40.918117",
     "exception": false,
     "start_time": "2021-09-11T12:48:40.808013",
     "status": "completed"
    },
    "tags": []
   },
   "outputs": [
    {
     "data": {
      "text/html": [
       "<div>\n",
       "<style scoped>\n",
       "    .dataframe tbody tr th:only-of-type {\n",
       "        vertical-align: middle;\n",
       "    }\n",
       "\n",
       "    .dataframe tbody tr th {\n",
       "        vertical-align: top;\n",
       "    }\n",
       "\n",
       "    .dataframe thead th {\n",
       "        text-align: right;\n",
       "    }\n",
       "</style>\n",
       "<table border=\"1\" class=\"dataframe\">\n",
       "  <thead>\n",
       "    <tr style=\"text-align: right;\">\n",
       "      <th></th>\n",
       "      <th>Id</th>\n",
       "      <th>SalePrice</th>\n",
       "    </tr>\n",
       "  </thead>\n",
       "  <tbody>\n",
       "    <tr>\n",
       "      <th>0</th>\n",
       "      <td>1461</td>\n",
       "      <td>169277.052498</td>\n",
       "    </tr>\n",
       "    <tr>\n",
       "      <th>1</th>\n",
       "      <td>1462</td>\n",
       "      <td>187758.393989</td>\n",
       "    </tr>\n",
       "    <tr>\n",
       "      <th>2</th>\n",
       "      <td>1463</td>\n",
       "      <td>183583.683570</td>\n",
       "    </tr>\n",
       "    <tr>\n",
       "      <th>3</th>\n",
       "      <td>1464</td>\n",
       "      <td>179317.477511</td>\n",
       "    </tr>\n",
       "    <tr>\n",
       "      <th>4</th>\n",
       "      <td>1465</td>\n",
       "      <td>150730.079977</td>\n",
       "    </tr>\n",
       "  </tbody>\n",
       "</table>\n",
       "</div>"
      ],
      "text/plain": [
       "     Id      SalePrice\n",
       "0  1461  169277.052498\n",
       "1  1462  187758.393989\n",
       "2  1463  183583.683570\n",
       "3  1464  179317.477511\n",
       "4  1465  150730.079977"
      ]
     },
     "execution_count": 72,
     "metadata": {},
     "output_type": "execute_result"
    }
   ],
   "source": [
    "sample_sub= pd.read_csv(\"../input/house-prices-advanced-regression-techniques/sample_submission.csv\")\n",
    "sample_sub.head()"
   ]
  },
  {
   "cell_type": "code",
   "execution_count": null,
   "id": "7c047de6",
   "metadata": {
    "papermill": {
     "duration": 0.091494,
     "end_time": "2021-09-11T12:48:41.100573",
     "exception": false,
     "start_time": "2021-09-11T12:48:41.009079",
     "status": "completed"
    },
    "tags": []
   },
   "outputs": [],
   "source": []
  }
 ],
 "metadata": {
  "kernelspec": {
   "display_name": "Python 3",
   "language": "python",
   "name": "python3"
  },
  "language_info": {
   "codemirror_mode": {
    "name": "ipython",
    "version": 3
   },
   "file_extension": ".py",
   "mimetype": "text/x-python",
   "name": "python",
   "nbconvert_exporter": "python",
   "pygments_lexer": "ipython3",
   "version": "3.7.10"
  },
  "papermill": {
   "default_parameters": {},
   "duration": 28.894732,
   "end_time": "2021-09-11T12:48:42.018836",
   "environment_variables": {},
   "exception": null,
   "input_path": "__notebook__.ipynb",
   "output_path": "__notebook__.ipynb",
   "parameters": {},
   "start_time": "2021-09-11T12:48:13.124104",
   "version": "2.3.3"
  }
 },
 "nbformat": 4,
 "nbformat_minor": 5
}
